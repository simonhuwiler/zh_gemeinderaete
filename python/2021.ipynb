{
 "cells": [
  {
   "cell_type": "markdown",
   "metadata": {},
   "source": [
    "# Auswertung Gemeinderat\n",
    "Stand: 06.04.2021"
   ]
  },
  {
   "cell_type": "code",
   "execution_count": 80,
   "metadata": {},
   "outputs": [],
   "source": [
    "import pandas as pd\n",
    "import numpy as np"
   ]
  },
  {
   "cell_type": "code",
   "execution_count": 81,
   "metadata": {},
   "outputs": [],
   "source": [
    "df = pd.read_csv('../data/Gemeinde_Exekutive - daten.csv')"
   ]
  },
  {
   "cell_type": "markdown",
   "metadata": {},
   "source": [
    "# Do some stuff..."
   ]
  },
  {
   "cell_type": "markdown",
   "metadata": {},
   "source": [
    "## Check Gemeinde without chair"
   ]
  },
  {
   "cell_type": "code",
   "execution_count": 82,
   "metadata": {},
   "outputs": [
    {
     "data": {
      "text/html": [
       "<div>\n",
       "<style scoped>\n",
       "    .dataframe tbody tr th:only-of-type {\n",
       "        vertical-align: middle;\n",
       "    }\n",
       "\n",
       "    .dataframe tbody tr th {\n",
       "        vertical-align: top;\n",
       "    }\n",
       "\n",
       "    .dataframe thead th {\n",
       "        text-align: right;\n",
       "    }\n",
       "</style>\n",
       "<table border=\"1\" class=\"dataframe\">\n",
       "  <thead>\n",
       "    <tr style=\"text-align: right;\">\n",
       "      <th>Funktion</th>\n",
       "      <th></th>\n",
       "      <th>chair</th>\n",
       "      <th>school</th>\n",
       "    </tr>\n",
       "    <tr>\n",
       "      <th>Gemeinde</th>\n",
       "      <th></th>\n",
       "      <th></th>\n",
       "      <th></th>\n",
       "    </tr>\n",
       "  </thead>\n",
       "  <tbody>\n",
       "  </tbody>\n",
       "</table>\n",
       "</div>"
      ],
      "text/plain": [
       "Empty DataFrame\n",
       "Columns: [, chair, school]\n",
       "Index: []"
      ]
     },
     "execution_count": 82,
     "metadata": {},
     "output_type": "execute_result"
    }
   ],
   "source": [
    "df_t = df.fillna(\"\")\n",
    "df_t = pd.pivot_table(df_t, index='Gemeinde', columns='Funktion', values='Name', aggfunc='count')\n",
    "df_t[pd.isna(df_t['chair'])]"
   ]
  },
  {
   "cell_type": "markdown",
   "metadata": {},
   "source": [
    "## Data transformation..."
   ]
  },
  {
   "cell_type": "code",
   "execution_count": 83,
   "metadata": {},
   "outputs": [
    {
     "name": "stdout",
     "output_type": "stream",
     "text": [
      "Jahrgänge nicht zugeordnet: 0\n",
      "Partei nicht zugeordnet: 9\n",
      "Keine Jahrgänge: 18\n"
     ]
    }
   ],
   "source": [
    "df.loc[df.partei_nicht_zugeordnet == 1, 'partei_nicht_zugeordnet'] = True\n",
    "df['partei_nicht_zugeordnet'] = df['partei_nicht_zugeordnet'].fillna(False)\n",
    "\n",
    "df[df.jahrgang_nicht_zugeordnet == 1] = True\n",
    "df['jahrgang_nicht_zugeordnet'] = df['jahrgang_nicht_zugeordnet'].fillna(False)\n",
    "\n",
    "# Alter berechnen\n",
    "df['Alter'] = 2021 - df['Jahrgang']\n",
    "\n",
    "print(\"Jahrgänge nicht zugeordnet: %s\" % len(df[df.jahrgang_nicht_zugeordnet == True]))\n",
    "print(\"Partei nicht zugeordnet: %s\" % len(df[df.partei_nicht_zugeordnet == True]))\n",
    "print(\"Keine Jahrgänge: %s\" % len(df[df.Jahrgang.isna()]))"
   ]
  },
  {
   "cell_type": "markdown",
   "metadata": {},
   "source": [
    "## Clean Party"
   ]
  },
  {
   "cell_type": "code",
   "execution_count": 117,
   "metadata": {},
   "outputs": [],
   "source": [
    "# Add partei_clean\n",
    "def transform_partei(p):\n",
    "\n",
    "    if type(p) == str:\n",
    "        p = p.lower()\n",
    "    \n",
    "    if p == 'die mitte': p = 'cvp'\n",
    "        \n",
    "    if p in ['parteilos', 'fdp', 'evp', 'svp', 'sp', 'cvp', 'glp', 'grüne', 'bdp', 'al', 'edu']:\n",
    "        return p\n",
    "    return 'verschiedene'\n",
    "\n",
    "df['partei_c'] = df['Partei'].apply(transform_partei)"
   ]
  },
  {
   "cell_type": "markdown",
   "metadata": {},
   "source": [
    "# Alles über Parteien"
   ]
  },
  {
   "cell_type": "markdown",
   "metadata": {},
   "source": [
    "## Die grössten Parteien"
   ]
  },
  {
   "cell_type": "code",
   "execution_count": 118,
   "metadata": {},
   "outputs": [],
   "source": [
    "grPartei = df.groupby('partei_c').agg({'Gemeinde': 'count'}).sort_values('Gemeinde', ascending=False)\n",
    "grPartei['prozent'] = round(100 / df['Gemeinde'].count() * grPartei.Gemeinde, 1)"
   ]
  },
  {
   "cell_type": "code",
   "execution_count": 119,
   "metadata": {},
   "outputs": [
    {
     "data": {
      "text/plain": [
       "<AxesSubplot:xlabel='partei_c'>"
      ]
     },
     "execution_count": 119,
     "metadata": {},
     "output_type": "execute_result"
    },
    {
     "data": {
      "image/png": "[encoded data removed]",
      "text/plain": [
       "<Figure size 432x288 with 1 Axes>"
      ]
     },
     "metadata": {
      "needs_background": "light"
     },
     "output_type": "display_data"
    }
   ],
   "source": [
    "grPartei.plot.bar(y = 'Gemeinde')"
   ]
  },
  {
   "cell_type": "markdown",
   "metadata": {},
   "source": [
    "### In Prozent"
   ]
  },
  {
   "cell_type": "code",
   "execution_count": 120,
   "metadata": {},
   "outputs": [
    {
     "data": {
      "text/html": [
       "<div>\n",
       "<style scoped>\n",
       "    .dataframe tbody tr th:only-of-type {\n",
       "        vertical-align: middle;\n",
       "    }\n",
       "\n",
       "    .dataframe tbody tr th {\n",
       "        vertical-align: top;\n",
       "    }\n",
       "\n",
       "    .dataframe thead th {\n",
       "        text-align: right;\n",
       "    }\n",
       "</style>\n",
       "<table border=\"1\" class=\"dataframe\">\n",
       "  <thead>\n",
       "    <tr style=\"text-align: right;\">\n",
       "      <th></th>\n",
       "      <th>Gemeinde</th>\n",
       "      <th>prozent</th>\n",
       "    </tr>\n",
       "    <tr>\n",
       "      <th>partei_c</th>\n",
       "      <th></th>\n",
       "      <th></th>\n",
       "    </tr>\n",
       "  </thead>\n",
       "  <tbody>\n",
       "    <tr>\n",
       "      <th>parteilos</th>\n",
       "      <td>361</td>\n",
       "      <td>35.5</td>\n",
       "    </tr>\n",
       "    <tr>\n",
       "      <th>fdp</th>\n",
       "      <td>220</td>\n",
       "      <td>21.6</td>\n",
       "    </tr>\n",
       "    <tr>\n",
       "      <th>svp</th>\n",
       "      <td>203</td>\n",
       "      <td>20.0</td>\n",
       "    </tr>\n",
       "    <tr>\n",
       "      <th>sp</th>\n",
       "      <td>62</td>\n",
       "      <td>6.1</td>\n",
       "    </tr>\n",
       "    <tr>\n",
       "      <th>verschiedene</th>\n",
       "      <td>57</td>\n",
       "      <td>5.6</td>\n",
       "    </tr>\n",
       "    <tr>\n",
       "      <th>cvp</th>\n",
       "      <td>44</td>\n",
       "      <td>4.3</td>\n",
       "    </tr>\n",
       "    <tr>\n",
       "      <th>glp</th>\n",
       "      <td>34</td>\n",
       "      <td>3.3</td>\n",
       "    </tr>\n",
       "    <tr>\n",
       "      <th>evp</th>\n",
       "      <td>20</td>\n",
       "      <td>2.0</td>\n",
       "    </tr>\n",
       "    <tr>\n",
       "      <th>grüne</th>\n",
       "      <td>10</td>\n",
       "      <td>1.0</td>\n",
       "    </tr>\n",
       "    <tr>\n",
       "      <th>bdp</th>\n",
       "      <td>4</td>\n",
       "      <td>0.4</td>\n",
       "    </tr>\n",
       "    <tr>\n",
       "      <th>al</th>\n",
       "      <td>1</td>\n",
       "      <td>0.1</td>\n",
       "    </tr>\n",
       "    <tr>\n",
       "      <th>edu</th>\n",
       "      <td>1</td>\n",
       "      <td>0.1</td>\n",
       "    </tr>\n",
       "  </tbody>\n",
       "</table>\n",
       "</div>"
      ],
      "text/plain": [
       "              Gemeinde  prozent\n",
       "partei_c                       \n",
       "parteilos          361     35.5\n",
       "fdp                220     21.6\n",
       "svp                203     20.0\n",
       "sp                  62      6.1\n",
       "verschiedene        57      5.6\n",
       "cvp                 44      4.3\n",
       "glp                 34      3.3\n",
       "evp                 20      2.0\n",
       "grüne               10      1.0\n",
       "bdp                  4      0.4\n",
       "al                   1      0.1\n",
       "edu                  1      0.1"
      ]
     },
     "execution_count": 120,
     "metadata": {},
     "output_type": "execute_result"
    }
   ],
   "source": [
    "grPartei"
   ]
  },
  {
   "cell_type": "markdown",
   "metadata": {},
   "source": [
    "## Die parteilosesten Gemeinden"
   ]
  },
  {
   "cell_type": "code",
   "execution_count": 121,
   "metadata": {},
   "outputs": [
    {
     "data": {
      "text/html": [
       "<div>\n",
       "<style scoped>\n",
       "    .dataframe tbody tr th:only-of-type {\n",
       "        vertical-align: middle;\n",
       "    }\n",
       "\n",
       "    .dataframe tbody tr th {\n",
       "        vertical-align: top;\n",
       "    }\n",
       "\n",
       "    .dataframe thead th {\n",
       "        text-align: right;\n",
       "    }\n",
       "</style>\n",
       "<table border=\"1\" class=\"dataframe\">\n",
       "  <thead>\n",
       "    <tr style=\"text-align: right;\">\n",
       "      <th></th>\n",
       "      <th>Gemeinde</th>\n",
       "      <th>partei_c</th>\n",
       "      <th>Anzahl Parteilose</th>\n",
       "    </tr>\n",
       "  </thead>\n",
       "  <tbody>\n",
       "    <tr>\n",
       "      <th>361</th>\n",
       "      <td>Rifferswil</td>\n",
       "      <td>parteilos</td>\n",
       "      <td>7</td>\n",
       "    </tr>\n",
       "    <tr>\n",
       "      <th>309</th>\n",
       "      <td>Obfelden</td>\n",
       "      <td>parteilos</td>\n",
       "      <td>6</td>\n",
       "    </tr>\n",
       "    <tr>\n",
       "      <th>262</th>\n",
       "      <td>Mettmenstetten</td>\n",
       "      <td>parteilos</td>\n",
       "      <td>6</td>\n",
       "    </tr>\n",
       "    <tr>\n",
       "      <th>99</th>\n",
       "      <td>Dättlikon</td>\n",
       "      <td>parteilos</td>\n",
       "      <td>6</td>\n",
       "    </tr>\n",
       "    <tr>\n",
       "      <th>382</th>\n",
       "      <td>Schleinikon</td>\n",
       "      <td>parteilos</td>\n",
       "      <td>5</td>\n",
       "    </tr>\n",
       "    <tr>\n",
       "      <th>301</th>\n",
       "      <td>Oberglatt</td>\n",
       "      <td>parteilos</td>\n",
       "      <td>5</td>\n",
       "    </tr>\n",
       "    <tr>\n",
       "      <th>288</th>\n",
       "      <td>Niederweningen</td>\n",
       "      <td>parteilos</td>\n",
       "      <td>5</td>\n",
       "    </tr>\n",
       "    <tr>\n",
       "      <th>381</th>\n",
       "      <td>Schlatt (ZH)</td>\n",
       "      <td>parteilos</td>\n",
       "      <td>5</td>\n",
       "    </tr>\n",
       "    <tr>\n",
       "      <th>120</th>\n",
       "      <td>Ellikon an der Thur</td>\n",
       "      <td>parteilos</td>\n",
       "      <td>5</td>\n",
       "    </tr>\n",
       "    <tr>\n",
       "      <th>392</th>\n",
       "      <td>Schöfflisdorf</td>\n",
       "      <td>parteilos</td>\n",
       "      <td>5</td>\n",
       "    </tr>\n",
       "  </tbody>\n",
       "</table>\n",
       "</div>"
      ],
      "text/plain": [
       "                Gemeinde   partei_c  Anzahl Parteilose\n",
       "361           Rifferswil  parteilos                  7\n",
       "309             Obfelden  parteilos                  6\n",
       "262       Mettmenstetten  parteilos                  6\n",
       "99             Dättlikon  parteilos                  6\n",
       "382          Schleinikon  parteilos                  5\n",
       "301            Oberglatt  parteilos                  5\n",
       "288       Niederweningen  parteilos                  5\n",
       "381         Schlatt (ZH)  parteilos                  5\n",
       "120  Ellikon an der Thur  parteilos                  5\n",
       "392        Schöfflisdorf  parteilos                  5"
      ]
     },
     "execution_count": 121,
     "metadata": {},
     "output_type": "execute_result"
    }
   ],
   "source": [
    "g = df.copy().groupby(['Gemeinde', 'partei_c']).agg({'Name': 'count'}).reset_index()\n",
    "g = g.sort_values(['Gemeinde', 'Name'], ascending=[True, False])\n",
    "g = g.drop_duplicates(['Gemeinde'])\n",
    "g = g[g.partei_c == 'parteilos'].sort_values('Name', ascending=False)\n",
    "g = g.rename(columns={'Name': 'Anzahl Parteilose'})\n",
    "g.head(10)"
   ]
  },
  {
   "cell_type": "markdown",
   "metadata": {},
   "source": [
    "## Die politisch diversesten Gemeinden"
   ]
  },
  {
   "cell_type": "code",
   "execution_count": 101,
   "metadata": {},
   "outputs": [
    {
     "data": {
      "text/html": [
       "<div>\n",
       "<style scoped>\n",
       "    .dataframe tbody tr th:only-of-type {\n",
       "        vertical-align: middle;\n",
       "    }\n",
       "\n",
       "    .dataframe tbody tr th {\n",
       "        vertical-align: top;\n",
       "    }\n",
       "\n",
       "    .dataframe thead th {\n",
       "        text-align: right;\n",
       "    }\n",
       "</style>\n",
       "<table border=\"1\" class=\"dataframe\">\n",
       "  <thead>\n",
       "    <tr style=\"text-align: right;\">\n",
       "      <th></th>\n",
       "      <th>Gemeinde</th>\n",
       "      <th>anzahl parteien</th>\n",
       "    </tr>\n",
       "  </thead>\n",
       "  <tbody>\n",
       "    <tr>\n",
       "      <th>0</th>\n",
       "      <td>Opfikon</td>\n",
       "      <td>6</td>\n",
       "    </tr>\n",
       "    <tr>\n",
       "      <th>1</th>\n",
       "      <td>Wallisellen</td>\n",
       "      <td>6</td>\n",
       "    </tr>\n",
       "    <tr>\n",
       "      <th>2</th>\n",
       "      <td>Langnau am Albis</td>\n",
       "      <td>6</td>\n",
       "    </tr>\n",
       "    <tr>\n",
       "      <th>3</th>\n",
       "      <td>Urdorf</td>\n",
       "      <td>6</td>\n",
       "    </tr>\n",
       "    <tr>\n",
       "      <th>4</th>\n",
       "      <td>Schlieren</td>\n",
       "      <td>6</td>\n",
       "    </tr>\n",
       "    <tr>\n",
       "      <th>5</th>\n",
       "      <td>Horgen</td>\n",
       "      <td>6</td>\n",
       "    </tr>\n",
       "    <tr>\n",
       "      <th>6</th>\n",
       "      <td>Richterswil</td>\n",
       "      <td>6</td>\n",
       "    </tr>\n",
       "    <tr>\n",
       "      <th>7</th>\n",
       "      <td>Dietikon</td>\n",
       "      <td>6</td>\n",
       "    </tr>\n",
       "    <tr>\n",
       "      <th>8</th>\n",
       "      <td>Adliswil</td>\n",
       "      <td>6</td>\n",
       "    </tr>\n",
       "    <tr>\n",
       "      <th>9</th>\n",
       "      <td>Kloten</td>\n",
       "      <td>6</td>\n",
       "    </tr>\n",
       "  </tbody>\n",
       "</table>\n",
       "</div>"
      ],
      "text/plain": [
       "           Gemeinde  anzahl parteien\n",
       "0           Opfikon                6\n",
       "1       Wallisellen                6\n",
       "2  Langnau am Albis                6\n",
       "3            Urdorf                6\n",
       "4         Schlieren                6\n",
       "5            Horgen                6\n",
       "6       Richterswil                6\n",
       "7          Dietikon                6\n",
       "8          Adliswil                6\n",
       "9            Kloten                6"
      ]
     },
     "execution_count": 101,
     "metadata": {},
     "output_type": "execute_result"
    }
   ],
   "source": [
    "g = df.groupby(['Gemeinde', 'partei_c']).count().reset_index()\n",
    "g = g.groupby('Gemeinde').agg({'partei_c': 'count'})\n",
    "g = g.sort_values('partei_c', ascending=False).reset_index()\n",
    "g = g.rename(columns={'partei_c': 'anzahl parteien'})\n",
    "g.head(10)"
   ]
  },
  {
   "cell_type": "markdown",
   "metadata": {},
   "source": [
    "## Welche Partei stellt das Präsidium?"
   ]
  },
  {
   "cell_type": "code",
   "execution_count": 102,
   "metadata": {},
   "outputs": [
    {
     "data": {
      "text/html": [
       "<div>\n",
       "<style scoped>\n",
       "    .dataframe tbody tr th:only-of-type {\n",
       "        vertical-align: middle;\n",
       "    }\n",
       "\n",
       "    .dataframe tbody tr th {\n",
       "        vertical-align: top;\n",
       "    }\n",
       "\n",
       "    .dataframe thead th {\n",
       "        text-align: right;\n",
       "    }\n",
       "</style>\n",
       "<table border=\"1\" class=\"dataframe\">\n",
       "  <thead>\n",
       "    <tr style=\"text-align: right;\">\n",
       "      <th></th>\n",
       "      <th>Gemeinde</th>\n",
       "    </tr>\n",
       "    <tr>\n",
       "      <th>partei_c</th>\n",
       "      <th></th>\n",
       "    </tr>\n",
       "  </thead>\n",
       "  <tbody>\n",
       "    <tr>\n",
       "      <th>parteilos</th>\n",
       "      <td>54</td>\n",
       "    </tr>\n",
       "    <tr>\n",
       "      <th>fdp</th>\n",
       "      <td>44</td>\n",
       "    </tr>\n",
       "    <tr>\n",
       "      <th>svp</th>\n",
       "      <td>35</td>\n",
       "    </tr>\n",
       "    <tr>\n",
       "      <th>verschiedene</th>\n",
       "      <td>10</td>\n",
       "    </tr>\n",
       "    <tr>\n",
       "      <th>sp</th>\n",
       "      <td>7</td>\n",
       "    </tr>\n",
       "    <tr>\n",
       "      <th>cvp</th>\n",
       "      <td>5</td>\n",
       "    </tr>\n",
       "    <tr>\n",
       "      <th>evp</th>\n",
       "      <td>4</td>\n",
       "    </tr>\n",
       "    <tr>\n",
       "      <th>glp</th>\n",
       "      <td>3</td>\n",
       "    </tr>\n",
       "  </tbody>\n",
       "</table>\n",
       "</div>"
      ],
      "text/plain": [
       "              Gemeinde\n",
       "partei_c              \n",
       "parteilos           54\n",
       "fdp                 44\n",
       "svp                 35\n",
       "verschiedene        10\n",
       "sp                   7\n",
       "cvp                  5\n",
       "evp                  4\n",
       "glp                  3"
      ]
     },
     "execution_count": 102,
     "metadata": {},
     "output_type": "execute_result"
    }
   ],
   "source": [
    "df[df.Funktion == 'chair'].groupby('partei_c').agg({'Gemeinde': 'count'}).sort_values('Gemeinde', ascending=False)"
   ]
  },
  {
   "cell_type": "markdown",
   "metadata": {},
   "source": [
    "# Alles über die Geschlechter"
   ]
  },
  {
   "cell_type": "markdown",
   "metadata": {},
   "source": [
    "## Geschlechterverhältnis"
   ]
  },
  {
   "cell_type": "code",
   "execution_count": 105,
   "metadata": {},
   "outputs": [
    {
     "data": {
      "text/html": [
       "<div>\n",
       "<style scoped>\n",
       "    .dataframe tbody tr th:only-of-type {\n",
       "        vertical-align: middle;\n",
       "    }\n",
       "\n",
       "    .dataframe tbody tr th {\n",
       "        vertical-align: top;\n",
       "    }\n",
       "\n",
       "    .dataframe thead th {\n",
       "        text-align: right;\n",
       "    }\n",
       "</style>\n",
       "<table border=\"1\" class=\"dataframe\">\n",
       "  <thead>\n",
       "    <tr style=\"text-align: right;\">\n",
       "      <th></th>\n",
       "      <th>Name</th>\n",
       "      <th>prozent</th>\n",
       "    </tr>\n",
       "    <tr>\n",
       "      <th>Geschlecht</th>\n",
       "      <th></th>\n",
       "      <th></th>\n",
       "    </tr>\n",
       "  </thead>\n",
       "  <tbody>\n",
       "    <tr>\n",
       "      <th>m</th>\n",
       "      <td>736</td>\n",
       "      <td>72.4</td>\n",
       "    </tr>\n",
       "    <tr>\n",
       "      <th>w</th>\n",
       "      <td>280</td>\n",
       "      <td>27.5</td>\n",
       "    </tr>\n",
       "  </tbody>\n",
       "</table>\n",
       "</div>"
      ],
      "text/plain": [
       "            Name  prozent\n",
       "Geschlecht               \n",
       "m            736     72.4\n",
       "w            280     27.5"
      ]
     },
     "execution_count": 105,
     "metadata": {},
     "output_type": "execute_result"
    }
   ],
   "source": [
    "grGender = df.groupby('Geschlecht').agg({'Name': 'count'})\n",
    "grGender['prozent'] = round(100 / len(df) * grGender.Name, 1)\n",
    "grGender"
   ]
  },
  {
   "cell_type": "markdown",
   "metadata": {},
   "source": [
    "## Der Durchschnitts-Gemeinderat (m/w) ist..."
   ]
  },
  {
   "cell_type": "code",
   "execution_count": 106,
   "metadata": {},
   "outputs": [
    {
     "name": "stdout",
     "output_type": "stream",
     "text": [
      "Männlich\n",
      "56 Jahre alt\n",
      "parteilos\n"
     ]
    }
   ],
   "source": [
    "df_alter = df[df.Alter.notna() & df.jahrgang_nicht_zugeordnet.notna()]\n",
    "print(\"Männlich\")\n",
    "print(\"%s Jahre alt\" % round(df_alter.Alter.mean()))\n",
    "print(\"parteilos\")\n"
   ]
  },
  {
   "cell_type": "markdown",
   "metadata": {},
   "source": [
    "## Die Durchschnitts-Gemeinderätin ist..."
   ]
  },
  {
   "cell_type": "code",
   "execution_count": 107,
   "metadata": {},
   "outputs": [
    {
     "name": "stdout",
     "output_type": "stream",
     "text": [
      "55 Jahre alt\n",
      "parteilos\n"
     ]
    }
   ],
   "source": [
    "df_alter = df[df.Alter.notna() & df.jahrgang_nicht_zugeordnet.notna()]\n",
    "print(\"%s Jahre alt\" % round(df_alter[df_alter.Geschlecht == 'w'].Alter.mean()))\n",
    "print(\"parteilos\")"
   ]
  },
  {
   "cell_type": "markdown",
   "metadata": {},
   "source": [
    "## Der Durchschnitts-Gemeinderat (m) ist..."
   ]
  },
  {
   "cell_type": "code",
   "execution_count": 108,
   "metadata": {},
   "outputs": [
    {
     "name": "stdout",
     "output_type": "stream",
     "text": [
      "56 Jahre alt\n",
      "parteilos\n"
     ]
    }
   ],
   "source": [
    "df_alter = df[df.Alter.notna() & df.jahrgang_nicht_zugeordnet.notna()]\n",
    "print(\"%s Jahre alt\" % round(df_alter[df_alter.Geschlecht == 'm'].Alter.mean()))\n",
    "print(\"parteilos\")"
   ]
  },
  {
   "cell_type": "markdown",
   "metadata": {},
   "source": [
    "## Gendereinseitige Gemeinderäte"
   ]
  },
  {
   "cell_type": "code",
   "execution_count": 110,
   "metadata": {},
   "outputs": [
    {
     "data": {
      "text/html": [
       "<div>\n",
       "<style scoped>\n",
       "    .dataframe tbody tr th:only-of-type {\n",
       "        vertical-align: middle;\n",
       "    }\n",
       "\n",
       "    .dataframe tbody tr th {\n",
       "        vertical-align: top;\n",
       "    }\n",
       "\n",
       "    .dataframe thead th {\n",
       "        text-align: right;\n",
       "    }\n",
       "</style>\n",
       "<table border=\"1\" class=\"dataframe\">\n",
       "  <thead>\n",
       "    <tr style=\"text-align: right;\">\n",
       "      <th>Geschlecht</th>\n",
       "      <th>m</th>\n",
       "      <th>w</th>\n",
       "      <th>total</th>\n",
       "      <th>m%</th>\n",
       "      <th>w%</th>\n",
       "    </tr>\n",
       "    <tr>\n",
       "      <th>Gemeinde</th>\n",
       "      <th></th>\n",
       "      <th></th>\n",
       "      <th></th>\n",
       "      <th></th>\n",
       "      <th></th>\n",
       "    </tr>\n",
       "  </thead>\n",
       "  <tbody>\n",
       "    <tr>\n",
       "      <th>Dachsen</th>\n",
       "      <td>5.0</td>\n",
       "      <td>0.0</td>\n",
       "      <td>5.0</td>\n",
       "      <td>100.0</td>\n",
       "      <td>0.0</td>\n",
       "    </tr>\n",
       "    <tr>\n",
       "      <th>Dietikon</th>\n",
       "      <td>7.0</td>\n",
       "      <td>0.0</td>\n",
       "      <td>7.0</td>\n",
       "      <td>100.0</td>\n",
       "      <td>0.0</td>\n",
       "    </tr>\n",
       "    <tr>\n",
       "      <th>Dägerlen</th>\n",
       "      <td>5.0</td>\n",
       "      <td>0.0</td>\n",
       "      <td>5.0</td>\n",
       "      <td>100.0</td>\n",
       "      <td>0.0</td>\n",
       "    </tr>\n",
       "    <tr>\n",
       "      <th>Ellikon an der Thur</th>\n",
       "      <td>5.0</td>\n",
       "      <td>0.0</td>\n",
       "      <td>5.0</td>\n",
       "      <td>100.0</td>\n",
       "      <td>0.0</td>\n",
       "    </tr>\n",
       "    <tr>\n",
       "      <th>Humlikon</th>\n",
       "      <td>5.0</td>\n",
       "      <td>0.0</td>\n",
       "      <td>5.0</td>\n",
       "      <td>100.0</td>\n",
       "      <td>0.0</td>\n",
       "    </tr>\n",
       "    <tr>\n",
       "      <th>Oetwil am See</th>\n",
       "      <td>7.0</td>\n",
       "      <td>0.0</td>\n",
       "      <td>7.0</td>\n",
       "      <td>100.0</td>\n",
       "      <td>0.0</td>\n",
       "    </tr>\n",
       "    <tr>\n",
       "      <th>Regensdorf</th>\n",
       "      <td>7.0</td>\n",
       "      <td>0.0</td>\n",
       "      <td>7.0</td>\n",
       "      <td>100.0</td>\n",
       "      <td>0.0</td>\n",
       "    </tr>\n",
       "    <tr>\n",
       "      <th>Rheinau</th>\n",
       "      <td>5.0</td>\n",
       "      <td>0.0</td>\n",
       "      <td>5.0</td>\n",
       "      <td>100.0</td>\n",
       "      <td>0.0</td>\n",
       "    </tr>\n",
       "    <tr>\n",
       "      <th>Wasterkingen</th>\n",
       "      <td>5.0</td>\n",
       "      <td>0.0</td>\n",
       "      <td>5.0</td>\n",
       "      <td>100.0</td>\n",
       "      <td>0.0</td>\n",
       "    </tr>\n",
       "    <tr>\n",
       "      <th>Weiach</th>\n",
       "      <td>5.0</td>\n",
       "      <td>0.0</td>\n",
       "      <td>5.0</td>\n",
       "      <td>100.0</td>\n",
       "      <td>0.0</td>\n",
       "    </tr>\n",
       "    <tr>\n",
       "      <th>Wila</th>\n",
       "      <td>5.0</td>\n",
       "      <td>0.0</td>\n",
       "      <td>5.0</td>\n",
       "      <td>100.0</td>\n",
       "      <td>0.0</td>\n",
       "    </tr>\n",
       "    <tr>\n",
       "      <th>Winkel</th>\n",
       "      <td>5.0</td>\n",
       "      <td>0.0</td>\n",
       "      <td>5.0</td>\n",
       "      <td>100.0</td>\n",
       "      <td>0.0</td>\n",
       "    </tr>\n",
       "    <tr>\n",
       "      <th>Zumikon</th>\n",
       "      <td>7.0</td>\n",
       "      <td>0.0</td>\n",
       "      <td>7.0</td>\n",
       "      <td>100.0</td>\n",
       "      <td>0.0</td>\n",
       "    </tr>\n",
       "  </tbody>\n",
       "</table>\n",
       "</div>"
      ],
      "text/plain": [
       "Geschlecht             m    w  total     m%   w%\n",
       "Gemeinde                                        \n",
       "Dachsen              5.0  0.0    5.0  100.0  0.0\n",
       "Dietikon             7.0  0.0    7.0  100.0  0.0\n",
       "Dägerlen             5.0  0.0    5.0  100.0  0.0\n",
       "Ellikon an der Thur  5.0  0.0    5.0  100.0  0.0\n",
       "Humlikon             5.0  0.0    5.0  100.0  0.0\n",
       "Oetwil am See        7.0  0.0    7.0  100.0  0.0\n",
       "Regensdorf           7.0  0.0    7.0  100.0  0.0\n",
       "Rheinau              5.0  0.0    5.0  100.0  0.0\n",
       "Wasterkingen         5.0  0.0    5.0  100.0  0.0\n",
       "Weiach               5.0  0.0    5.0  100.0  0.0\n",
       "Wila                 5.0  0.0    5.0  100.0  0.0\n",
       "Winkel               5.0  0.0    5.0  100.0  0.0\n",
       "Zumikon              7.0  0.0    7.0  100.0  0.0"
      ]
     },
     "execution_count": 110,
     "metadata": {},
     "output_type": "execute_result"
    }
   ],
   "source": [
    "df_g = pd.pivot_table(df, 'Name', 'Gemeinde', columns='Geschlecht', aggfunc='count')\n",
    "df_g['w'] = df_g['w'].fillna(0)\n",
    "df_g['total'] = df_g.m + df_g.w\n",
    "df_g['m%'] = round(100 / df_g.total * df_g.m)\n",
    "df_g['w%'] = round(100 / df_g.total * df_g.w)\n",
    "df_g[df_g['m%'] == 100]"
   ]
  },
  {
   "cell_type": "markdown",
   "metadata": {},
   "source": [
    "### Die weiblichste Gemeinde"
   ]
  },
  {
   "cell_type": "code",
   "execution_count": 122,
   "metadata": {},
   "outputs": [
    {
     "data": {
      "text/html": [
       "<div>\n",
       "<style scoped>\n",
       "    .dataframe tbody tr th:only-of-type {\n",
       "        vertical-align: middle;\n",
       "    }\n",
       "\n",
       "    .dataframe tbody tr th {\n",
       "        vertical-align: top;\n",
       "    }\n",
       "\n",
       "    .dataframe thead th {\n",
       "        text-align: right;\n",
       "    }\n",
       "</style>\n",
       "<table border=\"1\" class=\"dataframe\">\n",
       "  <thead>\n",
       "    <tr style=\"text-align: right;\">\n",
       "      <th>Geschlecht</th>\n",
       "      <th>m</th>\n",
       "      <th>w</th>\n",
       "      <th>total</th>\n",
       "      <th>m%</th>\n",
       "      <th>w%</th>\n",
       "    </tr>\n",
       "    <tr>\n",
       "      <th>Gemeinde</th>\n",
       "      <th></th>\n",
       "      <th></th>\n",
       "      <th></th>\n",
       "      <th></th>\n",
       "      <th></th>\n",
       "    </tr>\n",
       "  </thead>\n",
       "  <tbody>\n",
       "    <tr>\n",
       "      <th>Aeugst am Albis</th>\n",
       "      <td>3.0</td>\n",
       "      <td>5.0</td>\n",
       "      <td>8.0</td>\n",
       "      <td>38.0</td>\n",
       "      <td>62.0</td>\n",
       "    </tr>\n",
       "    <tr>\n",
       "      <th>Regensberg</th>\n",
       "      <td>2.0</td>\n",
       "      <td>3.0</td>\n",
       "      <td>5.0</td>\n",
       "      <td>40.0</td>\n",
       "      <td>60.0</td>\n",
       "    </tr>\n",
       "    <tr>\n",
       "      <th>Boppelsen</th>\n",
       "      <td>2.0</td>\n",
       "      <td>3.0</td>\n",
       "      <td>5.0</td>\n",
       "      <td>40.0</td>\n",
       "      <td>60.0</td>\n",
       "    </tr>\n",
       "    <tr>\n",
       "      <th>Kappel am Albis</th>\n",
       "      <td>2.0</td>\n",
       "      <td>3.0</td>\n",
       "      <td>5.0</td>\n",
       "      <td>40.0</td>\n",
       "      <td>60.0</td>\n",
       "    </tr>\n",
       "    <tr>\n",
       "      <th>Wiesendangen</th>\n",
       "      <td>3.0</td>\n",
       "      <td>4.0</td>\n",
       "      <td>7.0</td>\n",
       "      <td>43.0</td>\n",
       "      <td>57.0</td>\n",
       "    </tr>\n",
       "    <tr>\n",
       "      <th>Kilchberg (ZH)</th>\n",
       "      <td>3.0</td>\n",
       "      <td>4.0</td>\n",
       "      <td>7.0</td>\n",
       "      <td>43.0</td>\n",
       "      <td>57.0</td>\n",
       "    </tr>\n",
       "    <tr>\n",
       "      <th>Marthalen</th>\n",
       "      <td>3.0</td>\n",
       "      <td>4.0</td>\n",
       "      <td>7.0</td>\n",
       "      <td>43.0</td>\n",
       "      <td>57.0</td>\n",
       "    </tr>\n",
       "    <tr>\n",
       "      <th>Uster</th>\n",
       "      <td>3.0</td>\n",
       "      <td>4.0</td>\n",
       "      <td>7.0</td>\n",
       "      <td>43.0</td>\n",
       "      <td>57.0</td>\n",
       "    </tr>\n",
       "    <tr>\n",
       "      <th>Rümlang</th>\n",
       "      <td>3.0</td>\n",
       "      <td>4.0</td>\n",
       "      <td>7.0</td>\n",
       "      <td>43.0</td>\n",
       "      <td>57.0</td>\n",
       "    </tr>\n",
       "    <tr>\n",
       "      <th>Rifferswil</th>\n",
       "      <td>3.0</td>\n",
       "      <td>4.0</td>\n",
       "      <td>7.0</td>\n",
       "      <td>43.0</td>\n",
       "      <td>57.0</td>\n",
       "    </tr>\n",
       "    <tr>\n",
       "      <th>Ottenbach</th>\n",
       "      <td>3.0</td>\n",
       "      <td>3.0</td>\n",
       "      <td>6.0</td>\n",
       "      <td>50.0</td>\n",
       "      <td>50.0</td>\n",
       "    </tr>\n",
       "    <tr>\n",
       "      <th>Stallikon</th>\n",
       "      <td>3.0</td>\n",
       "      <td>3.0</td>\n",
       "      <td>6.0</td>\n",
       "      <td>50.0</td>\n",
       "      <td>50.0</td>\n",
       "    </tr>\n",
       "    <tr>\n",
       "      <th>Stammheim</th>\n",
       "      <td>3.0</td>\n",
       "      <td>3.0</td>\n",
       "      <td>6.0</td>\n",
       "      <td>50.0</td>\n",
       "      <td>50.0</td>\n",
       "    </tr>\n",
       "    <tr>\n",
       "      <th>Mönchaltorf</th>\n",
       "      <td>3.0</td>\n",
       "      <td>3.0</td>\n",
       "      <td>6.0</td>\n",
       "      <td>50.0</td>\n",
       "      <td>50.0</td>\n",
       "    </tr>\n",
       "    <tr>\n",
       "      <th>Dättlikon</th>\n",
       "      <td>3.0</td>\n",
       "      <td>3.0</td>\n",
       "      <td>6.0</td>\n",
       "      <td>50.0</td>\n",
       "      <td>50.0</td>\n",
       "    </tr>\n",
       "  </tbody>\n",
       "</table>\n",
       "</div>"
      ],
      "text/plain": [
       "Geschlecht         m    w  total    m%    w%\n",
       "Gemeinde                                    \n",
       "Aeugst am Albis  3.0  5.0    8.0  38.0  62.0\n",
       "Regensberg       2.0  3.0    5.0  40.0  60.0\n",
       "Boppelsen        2.0  3.0    5.0  40.0  60.0\n",
       "Kappel am Albis  2.0  3.0    5.0  40.0  60.0\n",
       "Wiesendangen     3.0  4.0    7.0  43.0  57.0\n",
       "Kilchberg (ZH)   3.0  4.0    7.0  43.0  57.0\n",
       "Marthalen        3.0  4.0    7.0  43.0  57.0\n",
       "Uster            3.0  4.0    7.0  43.0  57.0\n",
       "Rümlang          3.0  4.0    7.0  43.0  57.0\n",
       "Rifferswil       3.0  4.0    7.0  43.0  57.0\n",
       "Ottenbach        3.0  3.0    6.0  50.0  50.0\n",
       "Stallikon        3.0  3.0    6.0  50.0  50.0\n",
       "Stammheim        3.0  3.0    6.0  50.0  50.0\n",
       "Mönchaltorf      3.0  3.0    6.0  50.0  50.0\n",
       "Dättlikon        3.0  3.0    6.0  50.0  50.0"
      ]
     },
     "execution_count": 122,
     "metadata": {},
     "output_type": "execute_result"
    }
   ],
   "source": [
    "df_g = df_g.sort_values('w%', ascending=False)\n",
    "df_g[df_g['w%'] >= 50]"
   ]
  },
  {
   "cell_type": "markdown",
   "metadata": {},
   "source": [
    "## Gemeinderäte mit nur Männer, nur Frauen"
   ]
  },
  {
   "cell_type": "code",
   "execution_count": 95,
   "metadata": {},
   "outputs": [
    {
     "name": "stdout",
     "output_type": "stream",
     "text": [
      "Reine Männer-Räte: 13\n",
      "Reine Frauen-Räte: 0\n"
     ]
    }
   ],
   "source": [
    "df_g = pd.pivot_table(df, 'Name', 'Gemeinde', columns='Geschlecht', aggfunc='count')\n",
    "df_g['w'] = df_g['w'].fillna(0)\n",
    "df_g['total'] = df_g.m + df_g.w\n",
    "df_g['m%'] = round(100 / df_g.total * df_g.m)\n",
    "df_g['w%'] = round(100 / df_g.total * df_g.w)\n",
    "\n",
    "print('Reine Männer-Räte: %s' % len(df_g[df_g['m%'] == 100]))\n",
    "print('Reine Frauen-Räte: %s' % len(df_g[df_g['w%'] == 100]))"
   ]
  },
  {
   "cell_type": "markdown",
   "metadata": {},
   "source": [
    "## Gemeinderäte mit Mehrheit Frauen/Männer"
   ]
  },
  {
   "cell_type": "code",
   "execution_count": 116,
   "metadata": {},
   "outputs": [
    {
     "name": "stdout",
     "output_type": "stream",
     "text": [
      "Männer mehr 50 Prozent+: 152\n",
      "Frauen mehr 50 Prozent+: 15\n"
     ]
    }
   ],
   "source": [
    "df_g = pd.pivot_table(df, 'Name', 'Gemeinde', columns='Geschlecht', aggfunc='count')\n",
    "df_g['w'] = df_g['w'].fillna(0)\n",
    "df_g['total'] = df_g.m + df_g.w\n",
    "df_g['m%'] = round(100 / df_g.total * df_g.m)\n",
    "df_g['w%'] = round(100 / df_g.total * df_g.w)\n",
    "\n",
    "print(\"Männer mehr 50 Prozent+: %s\" % len(df_g[df_g['m%'] >= 50]))\n",
    "print(\"Frauen mehr 50 Prozent+: %s\" % len(df_g[df_g['w%'] >= 50]))"
   ]
  },
  {
   "cell_type": "markdown",
   "metadata": {},
   "source": [
    "## Das Gemeindepräsidium ('chair') ist..."
   ]
  },
  {
   "cell_type": "code",
   "execution_count": 115,
   "metadata": {},
   "outputs": [
    {
     "data": {
      "text/html": [
       "<div>\n",
       "<style scoped>\n",
       "    .dataframe tbody tr th:only-of-type {\n",
       "        vertical-align: middle;\n",
       "    }\n",
       "\n",
       "    .dataframe tbody tr th {\n",
       "        vertical-align: top;\n",
       "    }\n",
       "\n",
       "    .dataframe thead th {\n",
       "        text-align: right;\n",
       "    }\n",
       "</style>\n",
       "<table border=\"1\" class=\"dataframe\">\n",
       "  <thead>\n",
       "    <tr style=\"text-align: right;\">\n",
       "      <th>Geschlecht</th>\n",
       "      <th>m</th>\n",
       "      <th>w</th>\n",
       "      <th>m%</th>\n",
       "      <th>w%</th>\n",
       "    </tr>\n",
       "    <tr>\n",
       "      <th>Funktion</th>\n",
       "      <th></th>\n",
       "      <th></th>\n",
       "      <th></th>\n",
       "      <th></th>\n",
       "    </tr>\n",
       "  </thead>\n",
       "  <tbody>\n",
       "    <tr>\n",
       "      <th>chair</th>\n",
       "      <td>133</td>\n",
       "      <td>29</td>\n",
       "      <td>82.0</td>\n",
       "      <td>18.0</td>\n",
       "    </tr>\n",
       "    <tr>\n",
       "      <th>school</th>\n",
       "      <td>3</td>\n",
       "      <td>6</td>\n",
       "      <td>33.0</td>\n",
       "      <td>67.0</td>\n",
       "    </tr>\n",
       "  </tbody>\n",
       "</table>\n",
       "</div>"
      ],
      "text/plain": [
       "Geschlecht    m   w    m%    w%\n",
       "Funktion                       \n",
       "chair       133  29  82.0  18.0\n",
       "school        3   6  33.0  67.0"
      ]
     },
     "execution_count": 115,
     "metadata": {},
     "output_type": "execute_result"
    }
   ],
   "source": [
    "df_pr = pd.pivot_table(df, index='Funktion', columns='Geschlecht', values='Name', aggfunc='count')\n",
    "#df_pr = df_pr[df_pr.Funktion == 'chair']\n",
    "df_pr['m%'] = round(100 / (df_pr['m'] + df_pr['w']) * df_pr['m'])\n",
    "df_pr['w%'] = round(100 / (df_pr['m'] + df_pr['w']) * df_pr['w'])\n",
    "\n",
    "df_pr.head()"
   ]
  },
  {
   "cell_type": "markdown",
   "metadata": {},
   "source": [
    "# Unterschiede Männer-Frauen-Räte"
   ]
  },
  {
   "cell_type": "code",
   "execution_count": null,
   "metadata": {},
   "outputs": [],
   "source": []
  },
  {
   "cell_type": "markdown",
   "metadata": {},
   "source": [
    "# Alles übers Alter"
   ]
  },
  {
   "cell_type": "markdown",
   "metadata": {},
   "source": [
    "## Das jüngste Gremium"
   ]
  },
  {
   "cell_type": "code",
   "execution_count": 89,
   "metadata": {},
   "outputs": [
    {
     "data": {
      "text/html": [
       "<div>\n",
       "<style scoped>\n",
       "    .dataframe tbody tr th:only-of-type {\n",
       "        vertical-align: middle;\n",
       "    }\n",
       "\n",
       "    .dataframe tbody tr th {\n",
       "        vertical-align: top;\n",
       "    }\n",
       "\n",
       "    .dataframe thead th {\n",
       "        text-align: right;\n",
       "    }\n",
       "</style>\n",
       "<table border=\"1\" class=\"dataframe\">\n",
       "  <thead>\n",
       "    <tr style=\"text-align: right;\">\n",
       "      <th></th>\n",
       "      <th>Alter</th>\n",
       "    </tr>\n",
       "    <tr>\n",
       "      <th>Gemeinde</th>\n",
       "      <th></th>\n",
       "    </tr>\n",
       "  </thead>\n",
       "  <tbody>\n",
       "    <tr>\n",
       "      <th>Thalheim an der Thur</th>\n",
       "      <td>46.5</td>\n",
       "    </tr>\n",
       "    <tr>\n",
       "      <th>Fischenthal</th>\n",
       "      <td>47.0</td>\n",
       "    </tr>\n",
       "    <tr>\n",
       "      <th>Bäretswil</th>\n",
       "      <td>47.4</td>\n",
       "    </tr>\n",
       "    <tr>\n",
       "      <th>Regensberg</th>\n",
       "      <td>47.8</td>\n",
       "    </tr>\n",
       "    <tr>\n",
       "      <th>Hüttikon</th>\n",
       "      <td>47.8</td>\n",
       "    </tr>\n",
       "  </tbody>\n",
       "</table>\n",
       "</div>"
      ],
      "text/plain": [
       "                      Alter\n",
       "Gemeinde                   \n",
       "Thalheim an der Thur   46.5\n",
       "Fischenthal            47.0\n",
       "Bäretswil              47.4\n",
       "Regensberg             47.8\n",
       "Hüttikon               47.8"
      ]
     },
     "execution_count": 89,
     "metadata": {},
     "output_type": "execute_result"
    }
   ],
   "source": [
    "df_age = df[df.Jahrgang.notna()].copy()\n",
    "df_age['Alter'] = pd.to_numeric(df_age['Alter'])\n",
    "\n",
    "df_age = df_age.groupby('Gemeinde').agg({'Alter': 'mean'})\n",
    "\n",
    "df_age['Alter'] = round(df_age['Alter'], 1)\n",
    "\n",
    "df_age.sort_values('Alter', ascending=True).head()"
   ]
  },
  {
   "cell_type": "markdown",
   "metadata": {},
   "source": [
    "## Das älteste Gremium"
   ]
  },
  {
   "cell_type": "code",
   "execution_count": 69,
   "metadata": {},
   "outputs": [
    {
     "data": {
      "text/html": [
       "<div>\n",
       "<style scoped>\n",
       "    .dataframe tbody tr th:only-of-type {\n",
       "        vertical-align: middle;\n",
       "    }\n",
       "\n",
       "    .dataframe tbody tr th {\n",
       "        vertical-align: top;\n",
       "    }\n",
       "\n",
       "    .dataframe thead th {\n",
       "        text-align: right;\n",
       "    }\n",
       "</style>\n",
       "<table border=\"1\" class=\"dataframe\">\n",
       "  <thead>\n",
       "    <tr style=\"text-align: right;\">\n",
       "      <th></th>\n",
       "      <th>Alter</th>\n",
       "    </tr>\n",
       "    <tr>\n",
       "      <th>Gemeinde</th>\n",
       "      <th></th>\n",
       "    </tr>\n",
       "  </thead>\n",
       "  <tbody>\n",
       "    <tr>\n",
       "      <th>Geroldswil</th>\n",
       "      <td>66.7</td>\n",
       "    </tr>\n",
       "    <tr>\n",
       "      <th>Männedorf</th>\n",
       "      <td>64.9</td>\n",
       "    </tr>\n",
       "    <tr>\n",
       "      <th>Birmensdorf (ZH)</th>\n",
       "      <td>64.3</td>\n",
       "    </tr>\n",
       "    <tr>\n",
       "      <th>Nürensdorf</th>\n",
       "      <td>62.0</td>\n",
       "    </tr>\n",
       "    <tr>\n",
       "      <th>Niederweningen</th>\n",
       "      <td>62.0</td>\n",
       "    </tr>\n",
       "  </tbody>\n",
       "</table>\n",
       "</div>"
      ],
      "text/plain": [
       "                  Alter\n",
       "Gemeinde               \n",
       "Geroldswil         66.7\n",
       "Männedorf          64.9\n",
       "Birmensdorf (ZH)   64.3\n",
       "Nürensdorf         62.0\n",
       "Niederweningen     62.0"
      ]
     },
     "execution_count": 69,
     "metadata": {},
     "output_type": "execute_result"
    }
   ],
   "source": [
    "df_age.sort_values('Alter', ascending=False).head()"
   ]
  },
  {
   "cell_type": "markdown",
   "metadata": {},
   "source": [
    "## Die Küken"
   ]
  },
  {
   "cell_type": "code",
   "execution_count": 98,
   "metadata": {},
   "outputs": [
    {
     "data": {
      "text/html": [
       "<div>\n",
       "<style scoped>\n",
       "    .dataframe tbody tr th:only-of-type {\n",
       "        vertical-align: middle;\n",
       "    }\n",
       "\n",
       "    .dataframe tbody tr th {\n",
       "        vertical-align: top;\n",
       "    }\n",
       "\n",
       "    .dataframe thead th {\n",
       "        text-align: right;\n",
       "    }\n",
       "</style>\n",
       "<table border=\"1\" class=\"dataframe\">\n",
       "  <thead>\n",
       "    <tr style=\"text-align: right;\">\n",
       "      <th></th>\n",
       "      <th>Gemeinde</th>\n",
       "      <th>Name</th>\n",
       "      <th>Jahrgang</th>\n",
       "      <th>Geschlecht</th>\n",
       "      <th>Partei</th>\n",
       "      <th>Funktion</th>\n",
       "      <th>Hinweis</th>\n",
       "      <th>jahrgang_nicht_zugeordnet</th>\n",
       "      <th>partei_nicht_zugeordnet</th>\n",
       "      <th>Gecheckt 2021</th>\n",
       "      <th>Alter</th>\n",
       "      <th>partei_c</th>\n",
       "    </tr>\n",
       "  </thead>\n",
       "  <tbody>\n",
       "    <tr>\n",
       "      <th>899</th>\n",
       "      <td>Oberengstringen</td>\n",
       "      <td>Leupi, Andreas</td>\n",
       "      <td>1996</td>\n",
       "      <td>m</td>\n",
       "      <td>SVP</td>\n",
       "      <td>NaN</td>\n",
       "      <td>NaN</td>\n",
       "      <td>False</td>\n",
       "      <td>False</td>\n",
       "      <td>x</td>\n",
       "      <td>25</td>\n",
       "      <td>SVP</td>\n",
       "    </tr>\n",
       "    <tr>\n",
       "      <th>133</th>\n",
       "      <td>Bonstetten</td>\n",
       "      <td>Vergés Simon, 1996, Partei: SP</td>\n",
       "      <td>1996</td>\n",
       "      <td>m</td>\n",
       "      <td>SP</td>\n",
       "      <td>NaN</td>\n",
       "      <td>NaN</td>\n",
       "      <td>False</td>\n",
       "      <td>False</td>\n",
       "      <td>x</td>\n",
       "      <td>25</td>\n",
       "      <td>SP</td>\n",
       "    </tr>\n",
       "    <tr>\n",
       "      <th>169</th>\n",
       "      <td>Wila</td>\n",
       "      <td>Gemeinderat Simon Mösch, BDP, Jahrgang 1994</td>\n",
       "      <td>1994</td>\n",
       "      <td>m</td>\n",
       "      <td>BDP</td>\n",
       "      <td>NaN</td>\n",
       "      <td>NaN</td>\n",
       "      <td>False</td>\n",
       "      <td>False</td>\n",
       "      <td>x</td>\n",
       "      <td>27</td>\n",
       "      <td>BDP</td>\n",
       "    </tr>\n",
       "    <tr>\n",
       "      <th>493</th>\n",
       "      <td>Wil (ZH)</td>\n",
       "      <td>Caspar Briner</td>\n",
       "      <td>1994</td>\n",
       "      <td>m</td>\n",
       "      <td>parteilos</td>\n",
       "      <td>NaN</td>\n",
       "      <td>NaN</td>\n",
       "      <td>False</td>\n",
       "      <td>False</td>\n",
       "      <td>x</td>\n",
       "      <td>27</td>\n",
       "      <td>parteilos</td>\n",
       "    </tr>\n",
       "    <tr>\n",
       "      <th>544</th>\n",
       "      <td>Dürnten</td>\n",
       "      <td>Jasmin Aeschbacher\\nRessort Schutz + Sicherheit</td>\n",
       "      <td>1993</td>\n",
       "      <td>w</td>\n",
       "      <td>FDV (Freie Demokratische Vereinigung)</td>\n",
       "      <td>NaN</td>\n",
       "      <td>NaN</td>\n",
       "      <td>False</td>\n",
       "      <td>False</td>\n",
       "      <td>x</td>\n",
       "      <td>28</td>\n",
       "      <td>verschiedene</td>\n",
       "    </tr>\n",
       "    <tr>\n",
       "      <th>388</th>\n",
       "      <td>Eglisau</td>\n",
       "      <td>Nicolas Wälle, parteilos, Jg. 1992</td>\n",
       "      <td>1992</td>\n",
       "      <td>m</td>\n",
       "      <td>parteilos</td>\n",
       "      <td>NaN</td>\n",
       "      <td>NaN</td>\n",
       "      <td>False</td>\n",
       "      <td>False</td>\n",
       "      <td>x</td>\n",
       "      <td>29</td>\n",
       "      <td>parteilos</td>\n",
       "    </tr>\n",
       "    <tr>\n",
       "      <th>392</th>\n",
       "      <td>Dägerlen</td>\n",
       "      <td>Severin Knecht</td>\n",
       "      <td>1991</td>\n",
       "      <td>m</td>\n",
       "      <td>glp</td>\n",
       "      <td>NaN</td>\n",
       "      <td>NaN</td>\n",
       "      <td>False</td>\n",
       "      <td>False</td>\n",
       "      <td>x</td>\n",
       "      <td>30</td>\n",
       "      <td>glp</td>\n",
       "    </tr>\n",
       "    <tr>\n",
       "      <th>906</th>\n",
       "      <td>Trüllikon</td>\n",
       "      <td>Manuel Frei 1991 Gemeinderat</td>\n",
       "      <td>1991</td>\n",
       "      <td>m</td>\n",
       "      <td>parteilos</td>\n",
       "      <td>NaN</td>\n",
       "      <td>NaN</td>\n",
       "      <td>False</td>\n",
       "      <td>False</td>\n",
       "      <td>x</td>\n",
       "      <td>30</td>\n",
       "      <td>parteilos</td>\n",
       "    </tr>\n",
       "    <tr>\n",
       "      <th>19</th>\n",
       "      <td>Seegräben</td>\n",
       "      <td>Reto Gasser</td>\n",
       "      <td>1989</td>\n",
       "      <td>m</td>\n",
       "      <td>SVP</td>\n",
       "      <td>NaN</td>\n",
       "      <td>NaN</td>\n",
       "      <td>False</td>\n",
       "      <td>False</td>\n",
       "      <td>x</td>\n",
       "      <td>32</td>\n",
       "      <td>SVP</td>\n",
       "    </tr>\n",
       "    <tr>\n",
       "      <th>507</th>\n",
       "      <td>Glattfelden</td>\n",
       "      <td>Michèle Dünki, SP, Jahrgang 1989</td>\n",
       "      <td>1989</td>\n",
       "      <td>w</td>\n",
       "      <td>SP</td>\n",
       "      <td>NaN</td>\n",
       "      <td>NaN</td>\n",
       "      <td>False</td>\n",
       "      <td>False</td>\n",
       "      <td>x</td>\n",
       "      <td>32</td>\n",
       "      <td>SP</td>\n",
       "    </tr>\n",
       "  </tbody>\n",
       "</table>\n",
       "</div>"
      ],
      "text/plain": [
       "            Gemeinde                                             Name  \\\n",
       "899  Oberengstringen                                   Leupi, Andreas   \n",
       "133       Bonstetten                   Vergés Simon, 1996, Partei: SP   \n",
       "169             Wila      Gemeinderat Simon Mösch, BDP, Jahrgang 1994   \n",
       "493         Wil (ZH)                                    Caspar Briner   \n",
       "544          Dürnten  Jasmin Aeschbacher\\nRessort Schutz + Sicherheit   \n",
       "388          Eglisau               Nicolas Wälle, parteilos, Jg. 1992   \n",
       "392         Dägerlen                                   Severin Knecht   \n",
       "906        Trüllikon                     Manuel Frei 1991 Gemeinderat   \n",
       "19         Seegräben                                      Reto Gasser   \n",
       "507      Glattfelden                 Michèle Dünki, SP, Jahrgang 1989   \n",
       "\n",
       "    Jahrgang Geschlecht                                 Partei Funktion  \\\n",
       "899     1996          m                                    SVP      NaN   \n",
       "133     1996          m                                     SP      NaN   \n",
       "169     1994          m                                    BDP      NaN   \n",
       "493     1994          m                              parteilos      NaN   \n",
       "544     1993          w  FDV (Freie Demokratische Vereinigung)      NaN   \n",
       "388     1992          m                              parteilos      NaN   \n",
       "392     1991          m                                    glp      NaN   \n",
       "906     1991          m                              parteilos      NaN   \n",
       "19      1989          m                                    SVP      NaN   \n",
       "507     1989          w                                     SP      NaN   \n",
       "\n",
       "    Hinweis jahrgang_nicht_zugeordnet  partei_nicht_zugeordnet Gecheckt 2021  \\\n",
       "899     NaN                     False                    False             x   \n",
       "133     NaN                     False                    False             x   \n",
       "169     NaN                     False                    False             x   \n",
       "493     NaN                     False                    False             x   \n",
       "544     NaN                     False                    False             x   \n",
       "388     NaN                     False                    False             x   \n",
       "392     NaN                     False                    False             x   \n",
       "906     NaN                     False                    False             x   \n",
       "19      NaN                     False                    False             x   \n",
       "507     NaN                     False                    False             x   \n",
       "\n",
       "    Alter      partei_c  \n",
       "899    25           SVP  \n",
       "133    25            SP  \n",
       "169    27           BDP  \n",
       "493    27     parteilos  \n",
       "544    28  verschiedene  \n",
       "388    29     parteilos  \n",
       "392    30           glp  \n",
       "906    30     parteilos  \n",
       "19     32           SVP  \n",
       "507    32            SP  "
      ]
     },
     "execution_count": 98,
     "metadata": {},
     "output_type": "execute_result"
    }
   ],
   "source": [
    "df.sort_values('Alter').head(10)"
   ]
  },
  {
   "cell_type": "markdown",
   "metadata": {},
   "source": [
    "## Die Silberrücken"
   ]
  },
  {
   "cell_type": "code",
   "execution_count": 101,
   "metadata": {},
   "outputs": [
    {
     "data": {
      "text/html": [
       "<div>\n",
       "<style scoped>\n",
       "    .dataframe tbody tr th:only-of-type {\n",
       "        vertical-align: middle;\n",
       "    }\n",
       "\n",
       "    .dataframe tbody tr th {\n",
       "        vertical-align: top;\n",
       "    }\n",
       "\n",
       "    .dataframe thead th {\n",
       "        text-align: right;\n",
       "    }\n",
       "</style>\n",
       "<table border=\"1\" class=\"dataframe\">\n",
       "  <thead>\n",
       "    <tr style=\"text-align: right;\">\n",
       "      <th></th>\n",
       "      <th>Gemeinde</th>\n",
       "      <th>Name</th>\n",
       "      <th>Jahrgang</th>\n",
       "      <th>Geschlecht</th>\n",
       "      <th>Partei</th>\n",
       "      <th>Funktion</th>\n",
       "      <th>Hinweis</th>\n",
       "      <th>jahrgang_nicht_zugeordnet</th>\n",
       "      <th>partei_nicht_zugeordnet</th>\n",
       "      <th>Gecheckt 2021</th>\n",
       "      <th>Alter</th>\n",
       "      <th>partei_c</th>\n",
       "    </tr>\n",
       "  </thead>\n",
       "  <tbody>\n",
       "    <tr>\n",
       "      <th>923</th>\n",
       "      <td>Geroldswil</td>\n",
       "      <td>Veronika Neubauer</td>\n",
       "      <td>1946</td>\n",
       "      <td>w</td>\n",
       "      <td>SVP</td>\n",
       "      <td>NaN</td>\n",
       "      <td>Ein Sitz Vakant</td>\n",
       "      <td>False</td>\n",
       "      <td>False</td>\n",
       "      <td>x</td>\n",
       "      <td>75</td>\n",
       "      <td>SVP</td>\n",
       "    </tr>\n",
       "    <tr>\n",
       "      <th>60</th>\n",
       "      <td>Männedorf</td>\n",
       "      <td>André Thouvenin</td>\n",
       "      <td>1946</td>\n",
       "      <td>m</td>\n",
       "      <td>FDP</td>\n",
       "      <td>chair</td>\n",
       "      <td>NaN</td>\n",
       "      <td>False</td>\n",
       "      <td>False</td>\n",
       "      <td>x</td>\n",
       "      <td>75</td>\n",
       "      <td>FDP</td>\n",
       "    </tr>\n",
       "    <tr>\n",
       "      <th>125</th>\n",
       "      <td>Neerach</td>\n",
       "      <td>MARKUS ZINK</td>\n",
       "      <td>1947</td>\n",
       "      <td>m</td>\n",
       "      <td>parteilos</td>\n",
       "      <td>chair</td>\n",
       "      <td>NaN</td>\n",
       "      <td>False</td>\n",
       "      <td>False</td>\n",
       "      <td>x</td>\n",
       "      <td>74</td>\n",
       "      <td>parteilos</td>\n",
       "    </tr>\n",
       "    <tr>\n",
       "      <th>159</th>\n",
       "      <td>Niederweningen</td>\n",
       "      <td>Ruth Weber: 72 Jahre, Jg. 1947</td>\n",
       "      <td>1947</td>\n",
       "      <td>w</td>\n",
       "      <td>parteilos</td>\n",
       "      <td>NaN</td>\n",
       "      <td>NaN</td>\n",
       "      <td>False</td>\n",
       "      <td>False</td>\n",
       "      <td>x</td>\n",
       "      <td>74</td>\n",
       "      <td>parteilos</td>\n",
       "    </tr>\n",
       "    <tr>\n",
       "      <th>805</th>\n",
       "      <td>Wädenswil</td>\n",
       "      <td>Brupbacher Ernst (Grübi)</td>\n",
       "      <td>1947</td>\n",
       "      <td>m</td>\n",
       "      <td>BFPW</td>\n",
       "      <td>NaN</td>\n",
       "      <td>NaN</td>\n",
       "      <td>False</td>\n",
       "      <td>False</td>\n",
       "      <td>x</td>\n",
       "      <td>74</td>\n",
       "      <td>verschiedene</td>\n",
       "    </tr>\n",
       "    <tr>\n",
       "      <th>859</th>\n",
       "      <td>Bülach</td>\n",
       "      <td>Dr. Walter Baur SVP 1947</td>\n",
       "      <td>1947</td>\n",
       "      <td>m</td>\n",
       "      <td>SVP</td>\n",
       "      <td>NaN</td>\n",
       "      <td>NaN</td>\n",
       "      <td>False</td>\n",
       "      <td>False</td>\n",
       "      <td>x</td>\n",
       "      <td>74</td>\n",
       "      <td>SVP</td>\n",
       "    </tr>\n",
       "    <tr>\n",
       "      <th>315</th>\n",
       "      <td>Unterengstringen</td>\n",
       "      <td>Wirth, Simon, 1947</td>\n",
       "      <td>1947</td>\n",
       "      <td>m</td>\n",
       "      <td>FDP</td>\n",
       "      <td>chair</td>\n",
       "      <td>NaN</td>\n",
       "      <td>False</td>\n",
       "      <td>False</td>\n",
       "      <td>x</td>\n",
       "      <td>74</td>\n",
       "      <td>FDP</td>\n",
       "    </tr>\n",
       "    <tr>\n",
       "      <th>626</th>\n",
       "      <td>Lindau</td>\n",
       "      <td>Peter Reinhard</td>\n",
       "      <td>1947</td>\n",
       "      <td>m</td>\n",
       "      <td>SP</td>\n",
       "      <td>NaN</td>\n",
       "      <td>NaN</td>\n",
       "      <td>False</td>\n",
       "      <td>False</td>\n",
       "      <td>x</td>\n",
       "      <td>74</td>\n",
       "      <td>SP</td>\n",
       "    </tr>\n",
       "    <tr>\n",
       "      <th>690</th>\n",
       "      <td>Brütten</td>\n",
       "      <td>Bosshart, Rudolf</td>\n",
       "      <td>1948</td>\n",
       "      <td>m</td>\n",
       "      <td>FDP</td>\n",
       "      <td>chair</td>\n",
       "      <td>NaN</td>\n",
       "      <td>False</td>\n",
       "      <td>False</td>\n",
       "      <td>x</td>\n",
       "      <td>73</td>\n",
       "      <td>FDP</td>\n",
       "    </tr>\n",
       "    <tr>\n",
       "      <th>464</th>\n",
       "      <td>Birmensdorf (ZH)</td>\n",
       "      <td>Hans Rudolf (Ringo) Keller, SVP, 1948</td>\n",
       "      <td>1948</td>\n",
       "      <td>m</td>\n",
       "      <td>SVP</td>\n",
       "      <td>NaN</td>\n",
       "      <td>NaN</td>\n",
       "      <td>False</td>\n",
       "      <td>False</td>\n",
       "      <td>x</td>\n",
       "      <td>73</td>\n",
       "      <td>SVP</td>\n",
       "    </tr>\n",
       "  </tbody>\n",
       "</table>\n",
       "</div>"
      ],
      "text/plain": [
       "             Gemeinde                                   Name Jahrgang  \\\n",
       "923        Geroldswil                      Veronika Neubauer     1946   \n",
       "60          Männedorf                        André Thouvenin     1946   \n",
       "125           Neerach                            MARKUS ZINK     1947   \n",
       "159    Niederweningen         Ruth Weber: 72 Jahre, Jg. 1947     1947   \n",
       "805         Wädenswil               Brupbacher Ernst (Grübi)     1947   \n",
       "859            Bülach               Dr. Walter Baur SVP 1947     1947   \n",
       "315  Unterengstringen                     Wirth, Simon, 1947     1947   \n",
       "626            Lindau                         Peter Reinhard     1947   \n",
       "690           Brütten                       Bosshart, Rudolf     1948   \n",
       "464  Birmensdorf (ZH)  Hans Rudolf (Ringo) Keller, SVP, 1948     1948   \n",
       "\n",
       "    Geschlecht     Partei Funktion          Hinweis jahrgang_nicht_zugeordnet  \\\n",
       "923          w        SVP      NaN  Ein Sitz Vakant                     False   \n",
       "60           m        FDP    chair              NaN                     False   \n",
       "125          m  parteilos    chair              NaN                     False   \n",
       "159          w  parteilos      NaN              NaN                     False   \n",
       "805          m       BFPW      NaN              NaN                     False   \n",
       "859          m        SVP      NaN              NaN                     False   \n",
       "315          m        FDP    chair              NaN                     False   \n",
       "626          m         SP      NaN              NaN                     False   \n",
       "690          m        FDP    chair              NaN                     False   \n",
       "464          m        SVP      NaN              NaN                     False   \n",
       "\n",
       "     partei_nicht_zugeordnet Gecheckt 2021 Alter      partei_c  \n",
       "923                    False             x    75           SVP  \n",
       "60                     False             x    75           FDP  \n",
       "125                    False             x    74     parteilos  \n",
       "159                    False             x    74     parteilos  \n",
       "805                    False             x    74  verschiedene  \n",
       "859                    False             x    74           SVP  \n",
       "315                    False             x    74           FDP  \n",
       "626                    False             x    74            SP  \n",
       "690                    False             x    73           FDP  \n",
       "464                    False             x    73           SVP  "
      ]
     },
     "execution_count": 101,
     "metadata": {},
     "output_type": "execute_result"
    }
   ],
   "source": [
    "df.sort_values('Alter', ascending=False).head(10)"
   ]
  },
  {
   "cell_type": "markdown",
   "metadata": {},
   "source": [
    "## Alter pro Partei"
   ]
  },
  {
   "cell_type": "code",
   "execution_count": 346,
   "metadata": {},
   "outputs": [
    {
     "data": {
      "text/html": [
       "<div>\n",
       "<style scoped>\n",
       "    .dataframe tbody tr th:only-of-type {\n",
       "        vertical-align: middle;\n",
       "    }\n",
       "\n",
       "    .dataframe tbody tr th {\n",
       "        vertical-align: top;\n",
       "    }\n",
       "\n",
       "    .dataframe thead th {\n",
       "        text-align: right;\n",
       "    }\n",
       "</style>\n",
       "<table border=\"1\" class=\"dataframe\">\n",
       "  <thead>\n",
       "    <tr style=\"text-align: right;\">\n",
       "      <th></th>\n",
       "      <th>Alter</th>\n",
       "    </tr>\n",
       "    <tr>\n",
       "      <th>partei_c</th>\n",
       "      <th></th>\n",
       "    </tr>\n",
       "  </thead>\n",
       "  <tbody>\n",
       "    <tr>\n",
       "      <th>al</th>\n",
       "      <td>64.0</td>\n",
       "    </tr>\n",
       "    <tr>\n",
       "      <th>cvp</th>\n",
       "      <td>58.4</td>\n",
       "    </tr>\n",
       "    <tr>\n",
       "      <th>fdp</th>\n",
       "      <td>57.0</td>\n",
       "    </tr>\n",
       "    <tr>\n",
       "      <th>evp</th>\n",
       "      <td>56.8</td>\n",
       "    </tr>\n",
       "    <tr>\n",
       "      <th>sp</th>\n",
       "      <td>55.8</td>\n",
       "    </tr>\n",
       "    <tr>\n",
       "      <th>svp</th>\n",
       "      <td>55.5</td>\n",
       "    </tr>\n",
       "    <tr>\n",
       "      <th>grüne</th>\n",
       "      <td>55.0</td>\n",
       "    </tr>\n",
       "    <tr>\n",
       "      <th>parteilos</th>\n",
       "      <td>55.0</td>\n",
       "    </tr>\n",
       "    <tr>\n",
       "      <th>verschiedene</th>\n",
       "      <td>54.6</td>\n",
       "    </tr>\n",
       "    <tr>\n",
       "      <th>glp</th>\n",
       "      <td>53.7</td>\n",
       "    </tr>\n",
       "    <tr>\n",
       "      <th>edu</th>\n",
       "      <td>53.0</td>\n",
       "    </tr>\n",
       "    <tr>\n",
       "      <th>bdp</th>\n",
       "      <td>48.5</td>\n",
       "    </tr>\n",
       "  </tbody>\n",
       "</table>\n",
       "</div>"
      ],
      "text/plain": [
       "              Alter\n",
       "partei_c           \n",
       "al             64.0\n",
       "cvp            58.4\n",
       "fdp            57.0\n",
       "evp            56.8\n",
       "sp             55.8\n",
       "svp            55.5\n",
       "grüne          55.0\n",
       "parteilos      55.0\n",
       "verschiedene   54.6\n",
       "glp            53.7\n",
       "edu            53.0\n",
       "bdp            48.5"
      ]
     },
     "execution_count": 346,
     "metadata": {},
     "output_type": "execute_result"
    }
   ],
   "source": [
    "df_a = df[df.Alter.notna() & df.partei_nicht_zugeordnet == False].copy()\n",
    "df_a['Alter'] = pd.to_numeric(df_a['Alter'])\n",
    "df_a = df_a.groupby('partei_c').agg({'Alter': 'mean'}).sort_values('Alter', ascending=False)\n",
    "df_a['Alter'] = round(df_a['Alter'], 1)\n",
    "\n",
    "df_a"
   ]
  },
  {
   "cell_type": "markdown",
   "metadata": {},
   "source": [
    "# --- In Arbeit"
   ]
  },
  {
   "cell_type": "markdown",
   "metadata": {},
   "source": [
    "## Historisch"
   ]
  },
  {
   "cell_type": "code",
   "execution_count": 13,
   "metadata": {},
   "outputs": [],
   "source": [
    "df_2017 = pd.read_csv('../data/2017_cleaned.csv')\n",
    "\n",
    "# Remove leer\n",
    "df_2017 = df_2017[df_2017.GSB17_Teilnahme == 1]\n",
    "\n",
    "# Add total\n",
    "df_2017['total'] = df_2017['m'] + df_2017['w']"
   ]
  },
  {
   "cell_type": "markdown",
   "metadata": {},
   "source": [
    "### Parteilos 2017"
   ]
  },
  {
   "cell_type": "code",
   "execution_count": 20,
   "metadata": {},
   "outputs": [
    {
     "name": "stdout",
     "output_type": "stream",
     "text": [
      "Parteilos: 248\n",
      "Prozentual: 29.0\n"
     ]
    }
   ],
   "source": [
    "print(\"Parteilos: %s\" % df_2017['parteilos'].sum())\n",
    "print(\"Prozentual: %s\" % round(100 / df_2017['total'].sum() * df_2017['parteilos'].sum()))\n"
   ]
  },
  {
   "cell_type": "markdown",
   "metadata": {},
   "source": [
    "### Parteilos 2020"
   ]
  },
  {
   "cell_type": "code",
   "execution_count": 33,
   "metadata": {},
   "outputs": [
    {
     "name": "stdout",
     "output_type": "stream",
     "text": [
      "Parteilos: 353\n",
      "Prozentual: 35.0\n"
     ]
    }
   ],
   "source": [
    "print(\"Parteilos: %s\" % df[df.partei_c == 'parteilos']['Gemeinde'].count())\n",
    "print(\"Prozent ual: %s\" % round(100 / df.groupby('partei_c').count()['Gemeinde'].sum() * df[df.partei_c == 'parteilos']['Gemeinde'].count()))"
   ]
  },
  {
   "cell_type": "markdown",
   "metadata": {},
   "source": [
    "### Gender 2017"
   ]
  },
  {
   "cell_type": "code",
   "execution_count": 41,
   "metadata": {},
   "outputs": [
    {
     "name": "stdout",
     "output_type": "stream",
     "text": [
      "Frauen %: 23.0\n"
     ]
    }
   ],
   "source": [
    "print(\"Frauen %%: %s\" % round(100 / df_2017['total'].sum() * df_2017['w'].sum()))"
   ]
  },
  {
   "cell_type": "markdown",
   "metadata": {},
   "source": [
    "### Gender 2020"
   ]
  },
  {
   "cell_type": "code",
   "execution_count": 337,
   "metadata": {
    "scrolled": true
   },
   "outputs": [
    {
     "name": "stdout",
     "output_type": "stream",
     "text": [
      "Frauen %: 28\n"
     ]
    }
   ],
   "source": [
    "print(\"Frauen %%: %s\" % round(100 / df.groupby('partei_c').count()['Gemeinde'].sum() * df[df.Geschlecht == 'w']['Gemeinde'].count()))"
   ]
  },
  {
   "cell_type": "markdown",
   "metadata": {},
   "source": [
    "# QGIS export"
   ]
  },
  {
   "cell_type": "markdown",
   "metadata": {},
   "source": [
    "## Aggregate different vectors"
   ]
  },
  {
   "cell_type": "code",
   "execution_count": 359,
   "metadata": {},
   "outputs": [
    {
     "data": {
      "text/html": [
       "<div>\n",
       "<style scoped>\n",
       "    .dataframe tbody tr th:only-of-type {\n",
       "        vertical-align: middle;\n",
       "    }\n",
       "\n",
       "    .dataframe tbody tr th {\n",
       "        vertical-align: top;\n",
       "    }\n",
       "\n",
       "    .dataframe thead th {\n",
       "        text-align: right;\n",
       "    }\n",
       "</style>\n",
       "<table border=\"1\" class=\"dataframe\">\n",
       "  <thead>\n",
       "    <tr style=\"text-align: right;\">\n",
       "      <th></th>\n",
       "      <th>Gemeinde</th>\n",
       "    </tr>\n",
       "    <tr>\n",
       "      <th>topparty</th>\n",
       "      <th></th>\n",
       "    </tr>\n",
       "  </thead>\n",
       "  <tbody>\n",
       "    <tr>\n",
       "      <th>parteilos</th>\n",
       "      <td>62</td>\n",
       "    </tr>\n",
       "    <tr>\n",
       "      <th>multiple</th>\n",
       "      <td>46</td>\n",
       "    </tr>\n",
       "    <tr>\n",
       "      <th>fdp</th>\n",
       "      <td>26</td>\n",
       "    </tr>\n",
       "    <tr>\n",
       "      <th>svp</th>\n",
       "      <td>19</td>\n",
       "    </tr>\n",
       "    <tr>\n",
       "      <th>sp</th>\n",
       "      <td>4</td>\n",
       "    </tr>\n",
       "    <tr>\n",
       "      <th>verschiedene</th>\n",
       "      <td>4</td>\n",
       "    </tr>\n",
       "    <tr>\n",
       "      <th>cvp</th>\n",
       "      <td>1</td>\n",
       "    </tr>\n",
       "  </tbody>\n",
       "</table>\n",
       "</div>"
      ],
      "text/plain": [
       "              Gemeinde\n",
       "topparty              \n",
       "parteilos           62\n",
       "multiple            46\n",
       "fdp                 26\n",
       "svp                 19\n",
       "sp                   4\n",
       "verschiedene         4\n",
       "cvp                  1"
      ]
     },
     "execution_count": 359,
     "metadata": {},
     "output_type": "execute_result"
    }
   ],
   "source": [
    "# Find strongest Party. \"Multiple\" when no single party is the stronges\n",
    "\n",
    "df_g = df\n",
    "\n",
    "df_g = pd.pivot_table(df_g, index='Gemeinde', columns='partei_c', values='Name', aggfunc='count').fillna(0)\n",
    "\n",
    "def maxparty(row):\n",
    "    maxi = 0\n",
    "    maxs = \"\"\n",
    "    multiple = False\n",
    "    for i in df_g.columns:\n",
    "        if i == 'partei_c': continue\n",
    "        \n",
    "        if row[i] == maxi:\n",
    "            multiple = True\n",
    "        elif row[i] > maxi:\n",
    "            maxi = row[i]\n",
    "            maxs = i\n",
    "            multiple = False\n",
    "            \n",
    "    if multiple:\n",
    "        return 'multiple'\n",
    "    else:\n",
    "        return maxs\n",
    "\n",
    "df_g['topparty'] = df_g.apply(maxparty, axis=1)\n",
    "\n",
    "# Add \"Has Top Party\": single, multi or parteilos\n",
    "def add_has_topparty(x):\n",
    "    if x == 'multiple': return 'multiple'\n",
    "    elif x == 'parteilos': return 'parteilos'\n",
    "    else: return 'single'\n",
    "\n",
    "df_g['has_topparty'] = df_g['topparty'].apply(add_has_topparty)\n",
    "\n",
    "df_export = df_g.reset_index()[['Gemeinde', 'topparty', 'has_topparty']].copy()\n",
    "\n",
    "# Diese Parteien sind so oft die grösste Partei ihrer Gemeinde\n",
    "df_g.reset_index().groupby('topparty').agg({'Gemeinde': 'count'}).sort_values('Gemeinde', ascending=False)"
   ]
  },
  {
   "cell_type": "code",
   "execution_count": 360,
   "metadata": {},
   "outputs": [],
   "source": [
    "# Calc Partys percentage\n",
    "df_g = pd.pivot_table(df, index='Gemeinde', columns='partei_c', values='Name', aggfunc='count').fillna(0)\n",
    "df_g['total'] = df_g.sum(axis=1)\n",
    "\n",
    "def calc_percentage(row):\n",
    "    for i in df_g.columns:\n",
    "        row[i] = round(100 / row['total'] * row[i], 1)\n",
    "    return row\n",
    "\n",
    "df_g = df_g.apply(calc_percentage, axis=1)\n",
    "\n",
    "# Drop total\n",
    "df_g.drop(columns='total', inplace=True)\n",
    "\n",
    "df_export = df_export.merge(df_g.reset_index(), on='Gemeinde', how='left')"
   ]
  },
  {
   "cell_type": "code",
   "execution_count": 361,
   "metadata": {},
   "outputs": [],
   "source": [
    "# Add m / w\n",
    "\n",
    "df_g = pd.pivot_table(df, index='Gemeinde', columns='Geschlecht', values='Name', aggfunc='count')\n",
    "\n",
    "df_g['total'] = df_g.sum(axis=1)\n",
    "df_g['m'] = round(100 / df_g['total'] * df_g['m'])\n",
    "df_g['w'] = round(100 / df_g['total'] * df_g['w'])\n",
    "\n",
    "df_export = df_export.merge(df_g.reset_index()[['Gemeinde', 'm', 'w']], on='Gemeinde', how='left')"
   ]
  },
  {
   "cell_type": "code",
   "execution_count": 362,
   "metadata": {},
   "outputs": [],
   "source": [
    "# Add age m / w\n",
    "\n",
    "df_a = df[df.Alter.notna()].copy()\n",
    "df_a['Alter'] = pd.to_numeric(df_a['Alter'])\n",
    "df_g = pd.pivot_table(df_a, index='Gemeinde', columns='Geschlecht', values='Alter', aggfunc='mean')\n",
    "\n",
    "df_g = df_g.apply(lambda x: round(x))\n",
    "\n",
    "df_g.rename(columns={'m': 'age_m', 'w': 'age_w'}, inplace=True)\n",
    "\n",
    "df_export = df_export.merge(df_g.reset_index(), on='Gemeinde', how='left')"
   ]
  },
  {
   "cell_type": "code",
   "execution_count": 363,
   "metadata": {},
   "outputs": [],
   "source": [
    "# Agg General\n",
    "\n",
    "df_a = df[df.Alter.notna()].copy()\n",
    "df_a['Alter'] = pd.to_numeric(df_a['Alter'])\n",
    "\n",
    "df_a = df_a.groupby('Gemeinde').agg({'Alter': 'mean'})\n",
    "\n",
    "df_a['Alter'] = round(df_a['Alter'])\n",
    "\n",
    "df_export = df_export.merge(df_a.reset_index(), on='Gemeinde', how='left')\n",
    "\n",
    "df_export = df_export.set_index('Gemeinde')"
   ]
  },
  {
   "cell_type": "markdown",
   "metadata": {},
   "source": [
    "## Join per GeoPandas and Export"
   ]
  },
  {
   "cell_type": "code",
   "execution_count": 379,
   "metadata": {},
   "outputs": [],
   "source": [
    "import geopandas as gpd\n",
    "import matplotlib.pyplot as plt"
   ]
  },
  {
   "cell_type": "code",
   "execution_count": 365,
   "metadata": {},
   "outputs": [],
   "source": [
    "gdf = gpd.read_file('../data/Gemeindegrenzen.gpkg', layer='UP_GEMEINDEN_F')\n",
    "\n",
    "# Join\n",
    "gdf = gdf.merge(df_export, left_on = 'GEMEINDENAME', right_on='Gemeinde', how='left')\n",
    "\n",
    "# Export\n",
    "gdf.to_file('../export/gemeinderaete.gpkg', driver='GPKG')"
   ]
  },
  {
   "cell_type": "markdown",
   "metadata": {},
   "source": [
    "## Parteilose eher am Rande des Kantons (ländlich)"
   ]
  },
  {
   "cell_type": "code",
   "execution_count": 331,
   "metadata": {},
   "outputs": [
    {
     "data": {
      "text/plain": [
       "<AxesSubplot:>"
      ]
     },
     "execution_count": 331,
     "metadata": {},
     "output_type": "execute_result"
    },
    {
     "data": {
      "image/png": "[encoded data removed]",
      "text/plain": [
       "<Figure size 720x720 with 2 Axes>"
      ]
     },
     "metadata": {
      "needs_background": "light"
     },
     "output_type": "display_data"
    }
   ],
   "source": [
    "gdf.plot(column='parteilos', legend=True, figsize=(10, 10))"
   ]
  },
  {
   "cell_type": "markdown",
   "metadata": {},
   "source": [
    "## Welche Partei hat wo die Mehrheit?"
   ]
  },
  {
   "cell_type": "code",
   "execution_count": 458,
   "metadata": {},
   "outputs": [
    {
     "data": {
      "image/png": "[encoded data removed]",
      "text/plain": [
       "<Figure size 720x2160 with 7 Axes>"
      ]
     },
     "metadata": {
      "needs_background": "light"
     },
     "output_type": "display_data"
    }
   ],
   "source": [
    "fig = plt.figure(figsize = (10, 30))\n",
    "\n",
    "#fig, (ax1,ax2) = plt.subplots(nrows=1, ncols=2, figsize=(10, 6))\n",
    "\n",
    "c = 1\n",
    "for i, party in enumerate(gdf['topparty'].unique()):\n",
    "    \n",
    "    if not (type(party) == str): continue\n",
    "    \n",
    "    ax1 = fig.add_subplot(4, 2, c)\n",
    "    gdf['leadingparty'] = gdf.topparty.apply(lambda x: party if x == party else None)\n",
    "    gdf.plot(ax=ax1, column='leadingparty', missing_kwds={'color': 'lightgrey'}, legend=True)\n",
    "    c += 1\n"
   ]
  },
  {
   "cell_type": "code",
   "execution_count": null,
   "metadata": {},
   "outputs": [],
   "source": []
  }
 ],
 "metadata": {
  "kernelspec": {
   "display_name": "Python39",
   "language": "python",
   "name": "python39"
  },
  "language_info": {
   "codemirror_mode": {
    "name": "ipython",
    "version": 3
   },
   "file_extension": ".py",
   "mimetype": "text/x-python",
   "name": "python",
   "nbconvert_exporter": "python",
   "pygments_lexer": "ipython3",
   "version": "3.9.0"
  }
 },
 "nbformat": 4,
 "nbformat_minor": 4
}
