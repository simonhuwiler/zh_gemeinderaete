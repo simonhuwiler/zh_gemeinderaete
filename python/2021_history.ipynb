{
 "cells": [
  {
   "cell_type": "markdown",
   "metadata": {},
   "source": [
    "# 2021 History"
   ]
  },
  {
   "cell_type": "code",
   "execution_count": 1,
   "metadata": {},
   "outputs": [],
   "source": [
    "import pandas as pd\n",
    "import numpy as np\n",
    "import cleandata as cd"
   ]
  },
  {
   "cell_type": "code",
   "execution_count": 2,
   "metadata": {},
   "outputs": [],
   "source": [
    "df = pd.read_csv('../data/Gemeinde_Exekutive - daten.csv')"
   ]
  },
  {
   "cell_type": "markdown",
   "metadata": {},
   "source": [
    "## Clean Data"
   ]
  },
  {
   "cell_type": "code",
   "execution_count": 3,
   "metadata": {},
   "outputs": [
    {
     "name": "stdout",
     "output_type": "stream",
     "text": [
      "Jahrgänge nicht zugeordnet: 0\n",
      "Partei nicht zugeordnet: 9\n",
      "Keine Jahrgänge: 18\n"
     ]
    }
   ],
   "source": [
    "df = cd.clean(df)"
   ]
  },
  {
   "cell_type": "markdown",
   "metadata": {},
   "source": [
    "# Historisch"
   ]
  },
  {
   "cell_type": "code",
   "execution_count": null,
   "metadata": {},
   "outputs": [],
   "source": [
    "df_2017 = pd.read_csv('../data/2017_cleaned.csv')\n",
    "\n",
    "# Remove leer\n",
    "df_2017 = df_2017[df_2017.GSB17_Teilnahme == 1]\n",
    "\n",
    "# Add total\n",
    "df_2017['total'] = df_2017['m'] + df_2017['w']"
   ]
  },
  {
   "cell_type": "markdown",
   "metadata": {},
   "source": [
    "### Parteilos 2017"
   ]
  },
  {
   "cell_type": "code",
   "execution_count": null,
   "metadata": {},
   "outputs": [],
   "source": [
    "print(\"Parteilos: %s\" % df_2017['parteilos'].sum())\n",
    "print(\"Prozentual: %s\" % round(100 / df_2017['total'].sum() * df_2017['parteilos'].sum()))\n"
   ]
  },
  {
   "cell_type": "markdown",
   "metadata": {},
   "source": [
    "### Parteilos 2021"
   ]
  },
  {
   "cell_type": "code",
   "execution_count": null,
   "metadata": {},
   "outputs": [],
   "source": [
    "print(\"Parteilos: %s\" % df[df.partei_c == 'parteilos']['Gemeinde'].count())\n",
    "print(\"Prozent ual: %s\" % round(100 / df.groupby('partei_c').count()['Gemeinde'].sum() * df[df.partei_c == 'parteilos']['Gemeinde'].count()))"
   ]
  },
  {
   "cell_type": "markdown",
   "metadata": {},
   "source": [
    "### Gender 2017"
   ]
  },
  {
   "cell_type": "code",
   "execution_count": null,
   "metadata": {},
   "outputs": [],
   "source": [
    "print(\"Frauen %%: %s\" % round(100 / df_2017['total'].sum() * df_2017['w'].sum()))"
   ]
  },
  {
   "cell_type": "markdown",
   "metadata": {},
   "source": [
    "### Gender 2021"
   ]
  },
  {
   "cell_type": "code",
   "execution_count": null,
   "metadata": {
    "scrolled": true
   },
   "outputs": [],
   "source": [
    "print(\"Frauen %%: %s\" % round(100 / df.groupby('partei_c').count()['Gemeinde'].sum() * df[df.Geschlecht == 'w']['Gemeinde'].count()))"
   ]
  }
 ],
 "metadata": {
  "kernelspec": {
   "display_name": "Python39",
   "language": "python",
   "name": "python39"
  },
  "language_info": {
   "codemirror_mode": {
    "name": "ipython",
    "version": 3
   },
   "file_extension": ".py",
   "mimetype": "text/x-python",
   "name": "python",
   "nbconvert_exporter": "python",
   "pygments_lexer": "ipython3",
   "version": "3.9.0"
  }
 },
 "nbformat": 4,
 "nbformat_minor": 4
}
