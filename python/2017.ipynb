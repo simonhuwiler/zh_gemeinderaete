{
 "cells": [
  {
   "cell_type": "markdown",
   "metadata": {},
   "source": [
    "# 2017 Daten"
   ]
  },
  {
   "cell_type": "code",
   "execution_count": 2,
   "metadata": {},
   "outputs": [],
   "source": [
    "import pandas as pd\n",
    "import numpy as np"
   ]
  },
  {
   "cell_type": "code",
   "execution_count": 3,
   "metadata": {
    "scrolled": true
   },
   "outputs": [
    {
     "name": "stderr",
     "output_type": "stream",
     "text": [
      "D:\\Entwicklung\\_Projects\\geocache\\env\\lib\\site-packages\\IPython\\core\\interactiveshell.py:3146: DtypeWarning: Columns (252,253,426) have mixed types.Specify dtype option on import or set low_memory=False.\n",
      "  has_raised = await self.run_ast_nodes(code_ast.body, cell_name,\n"
     ]
    }
   ],
   "source": [
    "df = pd.read_csv('../data/1116_Gemeindemonitoring_2017_Data_v1.0.0.xlsx - Daten.csv')"
   ]
  },
  {
   "cell_type": "markdown",
   "metadata": {},
   "source": [
    "## Categorize Parteien"
   ]
  },
  {
   "cell_type": "code",
   "execution_count": 4,
   "metadata": {},
   "outputs": [],
   "source": [
    "def calc_party(row, id):\n",
    "    praesi = 0\n",
    "    if np.nan_to_num(row['GSB17_Q44_2_Q44_%s' % id]) > 0:\n",
    "        praesi = 1\n",
    "\n",
    "    return row['GSB17_Q44_1_Q44_%s_1' % id] + row['GSB17_Q44_1_Q44_%s_2' % id] + praesi\n",
    "\n",
    "df['FDP'] = df.apply(lambda row: calc_party(row, 1), axis=1)\n",
    "df['CVP'] = df.apply(lambda row: calc_party(row, 2), axis=1)\n",
    "df['CSP'] = df.apply(lambda row: calc_party(row, 3), axis=1)\n",
    "df['SVP'] = df.apply(lambda row: calc_party(row, 4), axis=1)\n",
    "df['SP'] = df.apply(lambda row: calc_party(row, 5), axis=1)\n",
    "df['BDP'] = df.apply(lambda row: calc_party(row, 6), axis=1)\n",
    "df['EVP'] = df.apply(lambda row: calc_party(row, 7), axis=1)\n",
    "df['EDU'] = df.apply(lambda row: calc_party(row, 8), axis=1)\n",
    "df['GLP'] = df.apply(lambda row: calc_party(row, 9), axis=1)\n",
    "df['Grüne'] = df.apply(lambda row: calc_party(row, 10), axis=1)\n",
    "df['Lega'] = df.apply(lambda row: calc_party(row, 11), axis=1)\n",
    "df['parteilos'] = df.apply(lambda row: calc_party(row, 13), axis=1)\n",
    "df['verschiedene'] = df.apply(lambda row: (calc_party(row, 12)\n",
    "                                     + calc_party(row, 14)\n",
    "                                     + calc_party(row, 15)\n",
    "                                     + calc_party(row, 16)\n",
    "                                     + calc_party(row, 17))\n",
    "                                     , axis=1)\n"
   ]
  },
  {
   "cell_type": "markdown",
   "metadata": {},
   "source": [
    "## Categorize Gender"
   ]
  },
  {
   "cell_type": "code",
   "execution_count": 5,
   "metadata": {},
   "outputs": [],
   "source": [
    "def calc_gender(row, gender):\n",
    "    count = 0\n",
    "    # Gemeinderäte\n",
    "    for i in range(1, 18):\n",
    "        count += row['GSB17_Q44_1_Q44_%s_%s' % (i, gender)]\n",
    "        \n",
    "    # Präsident\n",
    "    for i in range(1, 18):\n",
    "        p = 0\n",
    "        if row['GSB17_Q44_2_Q44_%s' % i] == gender:\n",
    "            p = 1\n",
    "        count += p        \n",
    "        \n",
    "    return count\n",
    "    \n",
    "    \n",
    "df['m'] = df.apply(lambda row: calc_gender(row, 1), axis=1)\n",
    "df['w'] = df.apply(lambda row: calc_gender(row, 2), axis=1)"
   ]
  },
  {
   "cell_type": "markdown",
   "metadata": {},
   "source": [
    "## Zürcher Gemeinden"
   ]
  },
  {
   "cell_type": "code",
   "execution_count": 6,
   "metadata": {},
   "outputs": [],
   "source": [
    "df = df[df.BFS_2017 <= 298]"
   ]
  },
  {
   "cell_type": "code",
   "execution_count": 10,
   "metadata": {},
   "outputs": [
    {
     "data": {
      "text/plain": [
       "22.887323943661972"
      ]
     },
     "execution_count": 10,
     "metadata": {},
     "output_type": "execute_result"
    }
   ],
   "source": [
    "100 / (df['m'].sum() + df['w'].sum()) * df['w'].sum()"
   ]
  },
  {
   "cell_type": "markdown",
   "metadata": {},
   "source": [
    "## Drop Columns\n",
    "If add other columns, change!"
   ]
  },
  {
   "cell_type": "code",
   "execution_count": 66,
   "metadata": {},
   "outputs": [],
   "source": [
    "# Drop Columns\n",
    "df_croped = df.drop(df.columns[3:448], axis=1)"
   ]
  },
  {
   "cell_type": "markdown",
   "metadata": {},
   "source": [
    "## Save"
   ]
  },
  {
   "cell_type": "code",
   "execution_count": 67,
   "metadata": {},
   "outputs": [],
   "source": [
    "df_croped.to_csv('../data/2017_cleaned.csv', index=False)"
   ]
  },
  {
   "cell_type": "code",
   "execution_count": null,
   "metadata": {},
   "outputs": [],
   "source": []
  }
 ],
 "metadata": {
  "kernelspec": {
   "display_name": "Python 3",
   "language": "python",
   "name": "python3"
  },
  "language_info": {
   "codemirror_mode": {
    "name": "ipython",
    "version": 3
   },
   "file_extension": ".py",
   "mimetype": "text/x-python",
   "name": "python",
   "nbconvert_exporter": "python",
   "pygments_lexer": "ipython3",
   "version": "3.9.0"
  }
 },
 "nbformat": 4,
 "nbformat_minor": 4
}
