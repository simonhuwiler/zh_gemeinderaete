{
 "cells": [
  {
   "cell_type": "markdown",
   "metadata": {},
   "source": [
    "# 2021 Wieviele Sitze Parteien haben und haben sollten"
   ]
  },
  {
   "cell_type": "code",
   "execution_count": 1,
   "metadata": {},
   "outputs": [],
   "source": [
    "import pandas as pd\n",
    "import numpy as np\n",
    "import cleandata as cd\n",
    "import matplotlib\n",
    "from voting import apportionment"
   ]
  },
  {
   "cell_type": "code",
   "execution_count": 2,
   "metadata": {},
   "outputs": [],
   "source": [
    "df_raw = pd.read_csv('../data/Gemeinde_Exekutive - daten.csv')\n",
    "df_2019 = pd.read_csv('../data/kantonsrat2019.csv')"
   ]
  },
  {
   "cell_type": "markdown",
   "metadata": {},
   "source": [
    "## Clean Data"
   ]
  },
  {
   "cell_type": "code",
   "execution_count": 3,
   "metadata": {},
   "outputs": [
    {
     "name": "stdout",
     "output_type": "stream",
     "text": [
      "Jahrgänge nicht zugeordnet: 15\n",
      "Partei nicht zugeordnet: 9\n",
      "Keine Jahrgänge: 21\n"
     ]
    }
   ],
   "source": [
    "df_raw = cd.clean(df_raw)\n",
    "\n",
    "# Clean Gemeinde-Names for Join\n",
    "df_raw['Gemeinde'] = df_raw['Gemeinde'].str.replace(' (ZH)', '', regex=False)"
   ]
  },
  {
   "cell_type": "markdown",
   "metadata": {},
   "source": [
    "## Clean Kantonsratswahl"
   ]
  },
  {
   "cell_type": "code",
   "execution_count": 4,
   "metadata": {},
   "outputs": [
    {
     "data": {
      "text/html": [
       "<div>\n",
       "<style scoped>\n",
       "    .dataframe tbody tr th:only-of-type {\n",
       "        vertical-align: middle;\n",
       "    }\n",
       "\n",
       "    .dataframe tbody tr th {\n",
       "        vertical-align: top;\n",
       "    }\n",
       "\n",
       "    .dataframe thead th {\n",
       "        text-align: right;\n",
       "    }\n",
       "</style>\n",
       "<table border=\"1\" class=\"dataframe\">\n",
       "  <thead>\n",
       "    <tr style=\"text-align: right;\">\n",
       "      <th></th>\n",
       "      <th>Gemeindenamen</th>\n",
       "      <th>partei_c</th>\n",
       "      <th>Stimmen</th>\n",
       "      <th>2019</th>\n",
       "    </tr>\n",
       "  </thead>\n",
       "  <tbody>\n",
       "    <tr>\n",
       "      <th>0</th>\n",
       "      <td>Adlikon</td>\n",
       "      <td>al</td>\n",
       "      <td>7</td>\n",
       "      <td>0.84</td>\n",
       "    </tr>\n",
       "    <tr>\n",
       "      <th>1</th>\n",
       "      <td>Adlikon</td>\n",
       "      <td>bdp</td>\n",
       "      <td>45</td>\n",
       "      <td>5.38</td>\n",
       "    </tr>\n",
       "    <tr>\n",
       "      <th>2</th>\n",
       "      <td>Adlikon</td>\n",
       "      <td>cvp</td>\n",
       "      <td>6</td>\n",
       "      <td>0.72</td>\n",
       "    </tr>\n",
       "    <tr>\n",
       "      <th>3</th>\n",
       "      <td>Adlikon</td>\n",
       "      <td>edu</td>\n",
       "      <td>23</td>\n",
       "      <td>2.75</td>\n",
       "    </tr>\n",
       "    <tr>\n",
       "      <th>4</th>\n",
       "      <td>Adlikon</td>\n",
       "      <td>evp</td>\n",
       "      <td>52</td>\n",
       "      <td>6.22</td>\n",
       "    </tr>\n",
       "  </tbody>\n",
       "</table>\n",
       "</div>"
      ],
      "text/plain": [
       "  Gemeindenamen partei_c  Stimmen  2019\n",
       "0       Adlikon       al        7  0.84\n",
       "1       Adlikon      bdp       45  5.38\n",
       "2       Adlikon      cvp        6  0.72\n",
       "3       Adlikon      edu       23  2.75\n",
       "4       Adlikon      evp       52  6.22"
      ]
     },
     "execution_count": 4,
     "metadata": {},
     "output_type": "execute_result"
    }
   ],
   "source": [
    "# Rename Wahlkreise\n",
    "df_2019.loc[df_2019.Gemeindenamen.str.contains('Winterthur', regex=False), 'Gemeindenamen'] = 'Winterthur'\n",
    "df_2019.loc[df_2019.Gemeindenamen.str.contains('Zürich, Kreis', regex=False), 'Gemeindenamen'] = 'Zürich'\n",
    "df_2019.loc[df_2019.Gemeindenamen.str.contains('Ellikon a.d.Thur', regex=False), 'Gemeindenamen'] = 'Ellikon an der Thur'\n",
    "\n",
    "# Transform\n",
    "df_2019['partei_c'] = df_2019['Liste'].apply(cd.transform_partei)\n",
    "\n",
    "# Group by Gemeinde\n",
    "df_2019 = df_2019.groupby(['Gemeindenamen', 'partei_c']).agg({'Stimmen': 'sum'}).reset_index()\n",
    "\n",
    "# Calc %\n",
    "df_2019['2019'] = df_2019.apply(lambda row: round(100 / df_2019.loc[df_2019.Gemeindenamen == row['Gemeindenamen'], 'Stimmen'].sum() * row['Stimmen'], 2), axis=1)\n",
    "\n",
    "df_2019.head()"
   ]
  },
  {
   "cell_type": "markdown",
   "metadata": {},
   "source": [
    "## Calc \"is\""
   ]
  },
  {
   "cell_type": "code",
   "execution_count": 30,
   "metadata": {},
   "outputs": [
    {
     "data": {
      "text/html": [
       "<div>\n",
       "<style scoped>\n",
       "    .dataframe tbody tr th:only-of-type {\n",
       "        vertical-align: middle;\n",
       "    }\n",
       "\n",
       "    .dataframe tbody tr th {\n",
       "        vertical-align: top;\n",
       "    }\n",
       "\n",
       "    .dataframe thead th {\n",
       "        text-align: right;\n",
       "    }\n",
       "</style>\n",
       "<table border=\"1\" class=\"dataframe\">\n",
       "  <thead>\n",
       "    <tr style=\"text-align: right;\">\n",
       "      <th>partei_c</th>\n",
       "      <th>al</th>\n",
       "      <th>bdp</th>\n",
       "      <th>cvp</th>\n",
       "      <th>edu</th>\n",
       "      <th>evp</th>\n",
       "      <th>fdp</th>\n",
       "      <th>glp</th>\n",
       "      <th>grüne</th>\n",
       "      <th>parteilos</th>\n",
       "      <th>sp</th>\n",
       "      <th>svp</th>\n",
       "      <th>vacant</th>\n",
       "      <th>verschiedene</th>\n",
       "    </tr>\n",
       "    <tr>\n",
       "      <th>Gemeinde</th>\n",
       "      <th></th>\n",
       "      <th></th>\n",
       "      <th></th>\n",
       "      <th></th>\n",
       "      <th></th>\n",
       "      <th></th>\n",
       "      <th></th>\n",
       "      <th></th>\n",
       "      <th></th>\n",
       "      <th></th>\n",
       "      <th></th>\n",
       "      <th></th>\n",
       "      <th></th>\n",
       "    </tr>\n",
       "  </thead>\n",
       "  <tbody>\n",
       "    <tr>\n",
       "      <th>Adlikon</th>\n",
       "      <td>0.0</td>\n",
       "      <td>0.0</td>\n",
       "      <td>0.0</td>\n",
       "      <td>0.0</td>\n",
       "      <td>0.0</td>\n",
       "      <td>0.0</td>\n",
       "      <td>0.0</td>\n",
       "      <td>0.0</td>\n",
       "      <td>3.0</td>\n",
       "      <td>0.0</td>\n",
       "      <td>2.0</td>\n",
       "      <td>0.0</td>\n",
       "      <td>0.0</td>\n",
       "    </tr>\n",
       "    <tr>\n",
       "      <th>Adliswil</th>\n",
       "      <td>0.0</td>\n",
       "      <td>0.0</td>\n",
       "      <td>1.0</td>\n",
       "      <td>0.0</td>\n",
       "      <td>0.0</td>\n",
       "      <td>2.0</td>\n",
       "      <td>0.0</td>\n",
       "      <td>0.0</td>\n",
       "      <td>1.0</td>\n",
       "      <td>1.0</td>\n",
       "      <td>1.0</td>\n",
       "      <td>0.0</td>\n",
       "      <td>1.0</td>\n",
       "    </tr>\n",
       "    <tr>\n",
       "      <th>Aesch</th>\n",
       "      <td>0.0</td>\n",
       "      <td>0.0</td>\n",
       "      <td>1.0</td>\n",
       "      <td>0.0</td>\n",
       "      <td>0.0</td>\n",
       "      <td>1.0</td>\n",
       "      <td>0.0</td>\n",
       "      <td>0.0</td>\n",
       "      <td>1.0</td>\n",
       "      <td>0.0</td>\n",
       "      <td>2.0</td>\n",
       "      <td>0.0</td>\n",
       "      <td>0.0</td>\n",
       "    </tr>\n",
       "    <tr>\n",
       "      <th>Aeugst am Albis</th>\n",
       "      <td>0.0</td>\n",
       "      <td>0.0</td>\n",
       "      <td>0.0</td>\n",
       "      <td>0.0</td>\n",
       "      <td>0.0</td>\n",
       "      <td>3.0</td>\n",
       "      <td>0.0</td>\n",
       "      <td>0.0</td>\n",
       "      <td>2.0</td>\n",
       "      <td>0.0</td>\n",
       "      <td>0.0</td>\n",
       "      <td>0.0</td>\n",
       "      <td>3.0</td>\n",
       "    </tr>\n",
       "    <tr>\n",
       "      <th>Affoltern am Albis</th>\n",
       "      <td>0.0</td>\n",
       "      <td>0.0</td>\n",
       "      <td>0.0</td>\n",
       "      <td>0.0</td>\n",
       "      <td>1.0</td>\n",
       "      <td>0.0</td>\n",
       "      <td>1.0</td>\n",
       "      <td>0.0</td>\n",
       "      <td>2.0</td>\n",
       "      <td>2.0</td>\n",
       "      <td>1.0</td>\n",
       "      <td>0.0</td>\n",
       "      <td>0.0</td>\n",
       "    </tr>\n",
       "  </tbody>\n",
       "</table>\n",
       "</div>"
      ],
      "text/plain": [
       "partei_c             al  bdp  cvp  edu  evp  fdp  glp  grüne  parteilos   sp  \\\n",
       "Gemeinde                                                                       \n",
       "Adlikon             0.0  0.0  0.0  0.0  0.0  0.0  0.0    0.0        3.0  0.0   \n",
       "Adliswil            0.0  0.0  1.0  0.0  0.0  2.0  0.0    0.0        1.0  1.0   \n",
       "Aesch               0.0  0.0  1.0  0.0  0.0  1.0  0.0    0.0        1.0  0.0   \n",
       "Aeugst am Albis     0.0  0.0  0.0  0.0  0.0  3.0  0.0    0.0        2.0  0.0   \n",
       "Affoltern am Albis  0.0  0.0  0.0  0.0  1.0  0.0  1.0    0.0        2.0  2.0   \n",
       "\n",
       "partei_c            svp  vacant  verschiedene  \n",
       "Gemeinde                                       \n",
       "Adlikon             2.0     0.0           0.0  \n",
       "Adliswil            1.0     0.0           1.0  \n",
       "Aesch               2.0     0.0           0.0  \n",
       "Aeugst am Albis     0.0     0.0           3.0  \n",
       "Affoltern am Albis  1.0     0.0           0.0  "
      ]
     },
     "execution_count": 30,
     "metadata": {},
     "output_type": "execute_result"
    }
   ],
   "source": [
    "df = df_raw.pivot_table(index='Gemeinde', columns='partei_c', values='Name', aggfunc='count')\n",
    "df = df.fillna(0)\n",
    "df.head()"
   ]
  },
  {
   "cell_type": "markdown",
   "metadata": {},
   "source": [
    "## Calc \"should\" - Loop di loop"
   ]
  },
  {
   "cell_type": "code",
   "execution_count": 22,
   "metadata": {},
   "outputs": [],
   "source": [
    "records = []\n",
    "\n",
    "for i, row in df_2019.groupby('Gemeindenamen').count().reset_index().iterrows():\n",
    "    record = {'Gemeinde': row['Gemeindenamen']}\n",
    "    \n",
    "    df_g = df_2019[df_2019.Gemeindenamen == row['Gemeindenamen']].copy().reset_index()\n",
    "    \n",
    "    df_g['should'] = apportionment.hagenbach_bischoff(list(df_g['2019']), len(df_raw[df_raw.Gemeinde == row['Gemeindenamen']]))\n",
    "    \n",
    "    for i, row in df_g[df_g.should > 0].sort_values('should', ascending=False).iterrows():\n",
    "        record[row['partei_c']] = row['should']\n",
    "        \n",
    "    records.append(record)\n",
    "\n",
    "df_should = pd.DataFrame(records)\n",
    "df_should = df_should.fillna(0)"
   ]
  },
  {
   "cell_type": "markdown",
   "metadata": {},
   "source": [
    "## Merge"
   ]
  },
  {
   "cell_type": "code",
   "execution_count": 51,
   "metadata": {},
   "outputs": [
    {
     "data": {
      "text/html": [
       "<div>\n",
       "<style scoped>\n",
       "    .dataframe tbody tr th:only-of-type {\n",
       "        vertical-align: middle;\n",
       "    }\n",
       "\n",
       "    .dataframe tbody tr th {\n",
       "        vertical-align: top;\n",
       "    }\n",
       "\n",
       "    .dataframe thead th {\n",
       "        text-align: right;\n",
       "    }\n",
       "</style>\n",
       "<table border=\"1\" class=\"dataframe\">\n",
       "  <thead>\n",
       "    <tr style=\"text-align: right;\">\n",
       "      <th></th>\n",
       "      <th>is</th>\n",
       "      <th>should</th>\n",
       "      <th>diff</th>\n",
       "    </tr>\n",
       "    <tr>\n",
       "      <th>partei_c</th>\n",
       "      <th></th>\n",
       "      <th></th>\n",
       "      <th></th>\n",
       "    </tr>\n",
       "  </thead>\n",
       "  <tbody>\n",
       "    <tr>\n",
       "      <th>al</th>\n",
       "      <td>1.0</td>\n",
       "      <td>1.0</td>\n",
       "      <td>0.0</td>\n",
       "    </tr>\n",
       "    <tr>\n",
       "      <th>bdp</th>\n",
       "      <td>4.0</td>\n",
       "      <td>1.0</td>\n",
       "      <td>-3.0</td>\n",
       "    </tr>\n",
       "    <tr>\n",
       "      <th>cvp</th>\n",
       "      <td>44.0</td>\n",
       "      <td>5.0</td>\n",
       "      <td>-39.0</td>\n",
       "    </tr>\n",
       "    <tr>\n",
       "      <th>edu</th>\n",
       "      <td>1.0</td>\n",
       "      <td>4.0</td>\n",
       "      <td>3.0</td>\n",
       "    </tr>\n",
       "    <tr>\n",
       "      <th>evp</th>\n",
       "      <td>20.0</td>\n",
       "      <td>12.0</td>\n",
       "      <td>-8.0</td>\n",
       "    </tr>\n",
       "    <tr>\n",
       "      <th>fdp</th>\n",
       "      <td>220.0</td>\n",
       "      <td>181.0</td>\n",
       "      <td>-39.0</td>\n",
       "    </tr>\n",
       "    <tr>\n",
       "      <th>glp</th>\n",
       "      <td>34.0</td>\n",
       "      <td>120.0</td>\n",
       "      <td>86.0</td>\n",
       "    </tr>\n",
       "    <tr>\n",
       "      <th>grüne</th>\n",
       "      <td>10.0</td>\n",
       "      <td>64.0</td>\n",
       "      <td>54.0</td>\n",
       "    </tr>\n",
       "    <tr>\n",
       "      <th>parteilos</th>\n",
       "      <td>364.0</td>\n",
       "      <td>0.0</td>\n",
       "      <td>-364.0</td>\n",
       "    </tr>\n",
       "    <tr>\n",
       "      <th>sp</th>\n",
       "      <td>62.0</td>\n",
       "      <td>161.0</td>\n",
       "      <td>99.0</td>\n",
       "    </tr>\n",
       "    <tr>\n",
       "      <th>svp</th>\n",
       "      <td>202.0</td>\n",
       "      <td>472.0</td>\n",
       "      <td>270.0</td>\n",
       "    </tr>\n",
       "    <tr>\n",
       "      <th>vacant</th>\n",
       "      <td>2.0</td>\n",
       "      <td>0.0</td>\n",
       "      <td>-2.0</td>\n",
       "    </tr>\n",
       "    <tr>\n",
       "      <th>verschiedene</th>\n",
       "      <td>57.0</td>\n",
       "      <td>0.0</td>\n",
       "      <td>-57.0</td>\n",
       "    </tr>\n",
       "  </tbody>\n",
       "</table>\n",
       "</div>"
      ],
      "text/plain": [
       "                 is  should   diff\n",
       "partei_c                          \n",
       "al              1.0     1.0    0.0\n",
       "bdp             4.0     1.0   -3.0\n",
       "cvp            44.0     5.0  -39.0\n",
       "edu             1.0     4.0    3.0\n",
       "evp            20.0    12.0   -8.0\n",
       "fdp           220.0   181.0  -39.0\n",
       "glp            34.0   120.0   86.0\n",
       "grüne          10.0    64.0   54.0\n",
       "parteilos     364.0     0.0 -364.0\n",
       "sp             62.0   161.0   99.0\n",
       "svp           202.0   472.0  270.0\n",
       "vacant          2.0     0.0   -2.0\n",
       "verschiedene   57.0     0.0  -57.0"
      ]
     },
     "execution_count": 51,
     "metadata": {},
     "output_type": "execute_result"
    }
   ],
   "source": [
    "# Group should\n",
    "df_s = df_should.drop(columns='Gemeinde')\n",
    "df_s = pd.DataFrame(df_s.sum())\n",
    "df_s.rename(columns={0: 'should'}, inplace=True)\n",
    "\n",
    "# Group is\n",
    "df_i = df.reset_index(drop=True)\n",
    "df_i = pd.DataFrame(df_i.sum())\n",
    "df_i.rename(columns={0: 'is'}, inplace=True)\n",
    "\n",
    "df_joined = df_i.join(df_s)\n",
    "df_joined = df_joined.fillna(0)\n",
    "\n",
    "# Calc dif\n",
    "df_joined['diff'] = df_joined['should'] - df_joined['is']\n",
    "\n",
    "df_joined"
   ]
  },
  {
   "cell_type": "code",
   "execution_count": 56,
   "metadata": {},
   "outputs": [
    {
     "data": {
      "text/plain": [
       "<AxesSubplot:xlabel='partei_c'>"
      ]
     },
     "execution_count": 56,
     "metadata": {},
     "output_type": "execute_result"
    },
    {
     "data": {
      "image/png": "[encoded data removed]",
      "text/plain": [
       "<Figure size 720x576 with 1 Axes>"
      ]
     },
     "metadata": {
      "needs_background": "light"
     },
     "output_type": "display_data"
    }
   ],
   "source": [
    "df_joined['diff'].plot.bar(figsize=(10, 8))"
   ]
  },
  {
   "cell_type": "code",
   "execution_count": null,
   "metadata": {},
   "outputs": [],
   "source": []
  }
 ],
 "metadata": {
  "kernelspec": {
   "display_name": "gemeinderaete",
   "language": "python",
   "name": "gemeinderaete"
  },
  "language_info": {
   "codemirror_mode": {
    "name": "ipython",
    "version": 3
   },
   "file_extension": ".py",
   "mimetype": "text/x-python",
   "name": "python",
   "nbconvert_exporter": "python",
   "pygments_lexer": "ipython3",
   "version": "3.9.0"
  }
 },
 "nbformat": 4,
 "nbformat_minor": 4
}
