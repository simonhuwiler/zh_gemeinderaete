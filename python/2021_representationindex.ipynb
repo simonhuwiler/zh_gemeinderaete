{
 "cells": [
  {
   "cell_type": "markdown",
   "metadata": {},
   "source": [
    "# 2021 Repräsentationsindex\n",
    "Wie gut sind Sie repräsentiert\n",
    "Input:\n",
    "* Gemeinde\n",
    "* Jahrgang\n",
    "* Geschlecht"
   ]
  },
  {
   "cell_type": "code",
   "execution_count": 1,
   "metadata": {},
   "outputs": [],
   "source": [
    "import pandas as pd\n",
    "import numpy as np\n",
    "import cleandata as cd\n",
    "import json\n",
    "import os\n",
    "import math"
   ]
  },
  {
   "cell_type": "markdown",
   "metadata": {},
   "source": [
    "## Settings"
   ]
  },
  {
   "cell_type": "code",
   "execution_count": 2,
   "metadata": {},
   "outputs": [
    {
     "data": {
      "text/plain": [
       "'..\\\\export\\\\json'"
      ]
     },
     "execution_count": 2,
     "metadata": {},
     "output_type": "execute_result"
    }
   ],
   "source": [
    "export_folder = os.path.join('..', 'export', 'json')\n",
    "export_folder"
   ]
  },
  {
   "cell_type": "code",
   "execution_count": 3,
   "metadata": {},
   "outputs": [],
   "source": [
    "df = pd.read_csv('../data/Gemeinde_Exekutive - daten.csv')\n",
    "df_age_raw = pd.read_csv('../data/KANTON_ZUERICH_bevoelkerung_1jahresklassen.csv', sep=';')"
   ]
  },
  {
   "cell_type": "markdown",
   "metadata": {},
   "source": [
    "## Clean Data"
   ]
  },
  {
   "cell_type": "code",
   "execution_count": 4,
   "metadata": {},
   "outputs": [
    {
     "name": "stdout",
     "output_type": "stream",
     "text": [
      "Jahrgänge nicht zugeordnet: 0\n",
      "Partei nicht zugeordnet: 9\n",
      "Keine Jahrgänge: 18\n"
     ]
    }
   ],
   "source": [
    "df = cd.clean(df)"
   ]
  },
  {
   "cell_type": "code",
   "execution_count": 5,
   "metadata": {},
   "outputs": [],
   "source": [
    "# Clean Gemeinde-Names for Join\n",
    "df['Gemeinde'] = df['Gemeinde'].str.replace(' (ZH)', '', regex=False)\n",
    "\n",
    "df_age_raw['GEMEINDE'] = df_age_raw['GEMEINDE'].str.replace('a.A.', 'am Albis', regex=False)\n",
    "df_age_raw['GEMEINDE'] = df_age_raw['GEMEINDE'].str.replace('a.I.', 'am Irchel', regex=False)\n",
    "df_age_raw['GEMEINDE'] = df_age_raw['GEMEINDE'].str.replace('a.d.Th.', 'an der Thur', regex=False)\n",
    "df_age_raw['GEMEINDE'] = df_age_raw['GEMEINDE'].str.replace('a.S.', 'am See', regex=False)\n",
    "df_age_raw['GEMEINDE'] = df_age_raw['GEMEINDE'].str.replace('a.d.L.', 'an der Limmat', regex=False)"
   ]
  },
  {
   "cell_type": "markdown",
   "metadata": {},
   "source": [
    "# Prepare Alter"
   ]
  },
  {
   "cell_type": "code",
   "execution_count": 6,
   "metadata": {},
   "outputs": [
    {
     "data": {
      "text/plain": [
       "\"\\ndef add_age_group(x):\\n    if x < 18:\\n        return '<18'\\n    elif x <= 39:\\n        return '18-39'\\n    elif x <= 64:\\n        return '40-64'\\n    elif x <= 79:\\n        return '65-79'\\n    else:\\n        return '>80'\\n\\ndf_age['agegroup'] = df_age['ALTERSKLASSE_CODE'].apply(add_age_group)\\n\""
      ]
     },
     "execution_count": 6,
     "metadata": {},
     "output_type": "execute_result"
    }
   ],
   "source": [
    "df_age = df_age_raw[df_age_raw.JAHR == 2020]\n",
    "\n",
    "df_age = df_age.groupby(['GEMEINDE_BFS_NR', 'ALTERSKLASSE_CODE']).agg({'GEMEINDE': 'first', 'ALTERSKLASSE': 'first', 'ANZAHL_PERSONEN': 'sum'}).reset_index()\n",
    "\n",
    "# Loop through gemeinderäte\n",
    "for i, row in df[df.Alter.notna()].iterrows():\n",
    "    df_age.loc[df_age.ALTERSKLASSE_CODE.between(row['Alter'] - 5, row['Alter'] + 5) & (df_age['GEMEINDE'] == row['Gemeinde']), 'represented'] = True\n",
    "    \n",
    "df_age['represented'] = df_age['represented'].fillna(False)\n",
    "\n",
    "# Add age Group\n",
    "\"\"\"\n",
    "def add_age_group(x):\n",
    "    if x < 18:\n",
    "        return '<18'\n",
    "    elif x <= 39:\n",
    "        return '18-39'\n",
    "    elif x <= 64:\n",
    "        return '40-64'\n",
    "    elif x <= 79:\n",
    "        return '65-79'\n",
    "    else:\n",
    "        return '>80'\n",
    "\n",
    "df_age['agegroup'] = df_age['ALTERSKLASSE_CODE'].apply(add_age_group)\n",
    "\"\"\""
   ]
  },
  {
   "cell_type": "markdown",
   "metadata": {},
   "source": [
    "## Export JSON"
   ]
  },
  {
   "cell_type": "code",
   "execution_count": 11,
   "metadata": {},
   "outputs": [],
   "source": [
    "def export_gemeinde(name):\n",
    "\n",
    "    # Select Gemeinde\n",
    "    df_g = df_age[df_age.GEMEINDE == name].copy()\n",
    "\n",
    "    # Reindex so that missing ages are filled with 0\n",
    "    df_g = df_g.set_index('ALTERSKLASSE_CODE')\n",
    "    df_g = df_g.reindex(np.arange(0, df_g.index.max())).fillna(0)\n",
    "    df_g = df_g.reset_index()\n",
    "\n",
    "    record = {\n",
    "        \"name\": df_g.iloc[0]['GEMEINDE'],\n",
    "        \"bfs\": int(df_g.iloc[0]['GEMEINDE_BFS_NR']),\n",
    "        \"altersstruktur\": [],\n",
    "        \"personen\": [],\n",
    "        \"personen2\": []\n",
    "\n",
    "    }\n",
    "\n",
    "    # Add Altersstruktur\n",
    "    for i, row in df_g.iterrows():\n",
    "        r = {\n",
    "            'age': row['ALTERSKLASSE_CODE'],\n",
    "            'count': row['ANZAHL_PERSONEN'],\n",
    "            'represented': row['represented']\n",
    "        }\n",
    "        #record['altersstruktur'][row['ALTERSKLASSE_CODE']] = r\n",
    "        record['altersstruktur'].append(r)\n",
    "\n",
    "    # Add Räte Version 1\n",
    "    \n",
    "    for i, row in df[df.Gemeinde == name].iterrows():\n",
    "\n",
    "        if math.isnan(row['Jahrgang']):\n",
    "            jg = None\n",
    "        else:\n",
    "            jg = round(row['Jahrgang']) if row['jahrgang_nicht_zugeordnet'] == False else None\n",
    "\n",
    "        r = {\n",
    "            \"name\": row['Name_cleaned'],\n",
    "            \"jahrgang\": jg,\n",
    "            \"partei\": row['Partei'] if row['partei_nicht_zugeordnet'] == False else None, \n",
    "            \"geschlecht\": row['Geschlecht']\n",
    "        }\n",
    "        record['personen2'].append(r)\n",
    "        \n",
    "    # Add Räte Version 2\n",
    "    df_sub = df[df.Gemeinde == name].groupby(['Jahrgang', 'Name_cleaned']).agg({'partei_c': 'first', 'Geschlecht': 'first'})\n",
    "\n",
    "    for i, rows in df_sub.groupby(level=0):\n",
    "        jg = []\n",
    "        for j, rowj in df_sub.iloc[df_sub.index.get_level_values('Jahrgang') == i].reset_index().iterrows():\n",
    "            #print(\"%s (%s, %s)\" % (rowj['Name'], round(row['Jahrgang']), row['Partei']))\n",
    "            jg.append(\"%s (%s, %s)\" % (rowj['Name_cleaned'], round(row['Jahrgang']), row['Partei']))\n",
    "\n",
    "        record['personen'].append({\n",
    "            \"alter\": round(2021 - i),\n",
    "            \"values\": jg\n",
    "        }) \n",
    "\n",
    "    # Store\n",
    "    with open(os.path.join(export_folder, name.lower() + '.json'), \"w\") as f:\n",
    "        json.dump(record, f)\n",
    "\n",
    "export_gemeinde('Winkel')\n"
   ]
  },
  {
   "cell_type": "code",
   "execution_count": 18,
   "metadata": {},
   "outputs": [],
   "source": [
    "df_gemeinden = df.groupby('Gemeinde').count().reset_index()\n",
    "    \n",
    "for i, row in df_gemeinden.iterrows():\n",
    "    export_gemeinde(row['Gemeinde'])"
   ]
  },
  {
   "cell_type": "markdown",
   "metadata": {},
   "source": [
    "## Tests"
   ]
  },
  {
   "cell_type": "code",
   "execution_count": null,
   "metadata": {},
   "outputs": [],
   "source": [
    "# Settings\n",
    "gemeinde = 'Dürnten'\n",
    "alter = 32\n",
    "\n",
    "my_agegroup = add_age_group(alter)"
   ]
  },
  {
   "cell_type": "markdown",
   "metadata": {},
   "source": [
    "### Representation Test mit fixen Altersgruppe\n",
    "Gruppen:\n",
    "* < 18\n",
    "* 18 - 39\n",
    "* 40 - 64\n",
    "* 65 - 79\n",
    "+ 80+"
   ]
  },
  {
   "cell_type": "code",
   "execution_count": null,
   "metadata": {},
   "outputs": [],
   "source": [
    "# Select Gemeinde in Gemeinderäte\n",
    "df_raete = df[df.Gemeinde == gemeinde].copy()\n",
    "df_raete['agegroup'] = df_raete['Alter'].apply(add_age_group)\n",
    "\n",
    "# Group by agegroup and calc Percentage\n",
    "df_test = df_age[df_age.GEMEINDE == gemeinde].groupby('agegroup').agg({'ANZAHL_PERSONEN': 'sum'})\n",
    "df_test['%'] = round(100 / df_test['ANZAHL_PERSONEN'].sum() * df_test['ANZAHL_PERSONEN'])\n",
    "df_test['personen_soll'] = len(df_raete) / 100 * df_test['%']\n",
    "\n",
    "# Group raete\n",
    "df_raete = df_raete.groupby('agegroup').agg({'Name': 'count'}).rename(columns={'Name': 'personen_ist'})\n",
    "\n",
    "# Join\n",
    "df_test = df_test.join(df_raete)\n",
    "df_test = df_test.fillna(0)\n",
    "df_test['abbr'] = df_test['personen_ist'] - df_test['personen_soll']\n",
    "\n",
    "df_test"
   ]
  },
  {
   "cell_type": "markdown",
   "metadata": {},
   "source": [
    "## Representations Test mit fluiden Altersgruppen"
   ]
  },
  {
   "cell_type": "code",
   "execution_count": null,
   "metadata": {},
   "outputs": [],
   "source": [
    "agegroup_plus_minus = 5\n",
    "\n",
    "df_test = df_age[df_age.GEMEINDE == gemeinde].copy()\n",
    "\n",
    "# Select your age\n",
    "df_yourage = df_test[(df_test.ALTERSKLASSE_CODE.between(alter - agegroup_plus_minus, alter + agegroup_plus_minus))]\n",
    "\n",
    "# Calc percentage of your age\n",
    "round(100 / df_test['ANZAHL_PERSONEN'].sum() * df_yourage['ANZAHL_PERSONEN'].sum())\n",
    "\n",
    "# Group raete\n",
    "df_raete = df[df.Gemeinde == gemeinde].copy()\n",
    "#df_raete = df_raete.groupby('Alter').agg({'Name': 'count'}).rename(columns={'Name': 'count'})\n",
    "\n",
    "#df_test = df_test.set_index('ALTERSKLASSE_CODE')\n",
    "\n",
    "# Loop through gemeinderäte\n",
    "for i, row in df_raete.iterrows():\n",
    "    df_test.loc[df_test.ALTERSKLASSE_CODE.between(row['Alter'] - 5, row['Alter'] + 5), 'represented'] = True\n",
    "    \n",
    "df_test['represented'] = df_test['represented'].fillna(False)\n",
    "\n",
    "# Join\n",
    "#df_test = df_test.join(df_raete)"
   ]
  },
  {
   "cell_type": "code",
   "execution_count": null,
   "metadata": {},
   "outputs": [],
   "source": [
    "df_test = df_age[df_age.GEMEINDE == 'Winterthur']\n",
    "\n",
    "# Set Color\n",
    "df_test['color'] = df_test['represented'].apply(lambda x: 'red' if x else 'grey')\n",
    "\n",
    "#df_plot = df_test.set_index('ALTERSKLASSE_CODE')\n",
    "df_test.plot('ALTERSKLASSE_CODE', 'ANZAHL_PERSONEN', kind='bar', figsize=(10, 10), color=df_test['color'].tolist())"
   ]
  },
  {
   "cell_type": "code",
   "execution_count": null,
   "metadata": {},
   "outputs": [],
   "source": []
  },
  {
   "cell_type": "code",
   "execution_count": null,
   "metadata": {},
   "outputs": [],
   "source": []
  }
 ],
 "metadata": {
  "kernelspec": {
   "display_name": "Python39",
   "language": "python",
   "name": "python39"
  },
  "language_info": {
   "codemirror_mode": {
    "name": "ipython",
    "version": 3
   },
   "file_extension": ".py",
   "mimetype": "text/x-python",
   "name": "python",
   "nbconvert_exporter": "python",
   "pygments_lexer": "ipython3",
   "version": "3.9.0"
  }
 },
 "nbformat": 4,
 "nbformat_minor": 4
}
