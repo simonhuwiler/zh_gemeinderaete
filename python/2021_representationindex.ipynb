{
 "cells": [
  {
   "cell_type": "markdown",
   "metadata": {},
   "source": [
    "# 2021 Repräsentationsindex\n",
    "Wie gut sind Sie repräsentiert"
   ]
  },
  {
   "cell_type": "code",
   "execution_count": 18,
   "metadata": {},
   "outputs": [],
   "source": [
    "import pandas as pd\n",
    "import numpy as np\n",
    "import cleandata as cd\n",
    "import json\n",
    "import os\n",
    "import math\n",
    "import urllib.request\n",
    "from voting import apportionment"
   ]
  },
  {
   "cell_type": "markdown",
   "metadata": {},
   "source": [
    "## Settings"
   ]
  },
  {
   "cell_type": "code",
   "execution_count": 19,
   "metadata": {},
   "outputs": [],
   "source": [
    "export_folder = os.path.join('..', 'export', 'json')\n",
    "export_folder\n",
    "yearnow = 2021\n",
    "marginrepresenting = 10"
   ]
  },
  {
   "cell_type": "code",
   "execution_count": 20,
   "metadata": {},
   "outputs": [],
   "source": [
    "df = pd.read_csv('../data/Gemeinde_Exekutive - daten.csv')\n",
    "df_age_raw = pd.read_csv('../data/KANTON_ZUERICH_bevoelkerung_1jahresklassen.csv', sep=';')"
   ]
  },
  {
   "cell_type": "code",
   "execution_count": 21,
   "metadata": {},
   "outputs": [],
   "source": [
    "# Define which ones are Stadträte (not Gemeinderat)\n",
    "stadtrat = ['Adliswil', 'Affoltern am Albis', 'Bülach', 'Dietikon', 'Dübendorf', 'Illnau-Effretikon', 'Kloten', 'Opfikon', 'Schlieren', 'Uster', 'Wädenswil', 'Wetzikon', 'Winterthur', 'Zürich']\n",
    "\n",
    "df['type'] = 'gemeinderat'\n",
    "df.loc[df.Gemeinde.isin(stadtrat), 'type'] = 'stadtrat'"
   ]
  },
  {
   "cell_type": "markdown",
   "metadata": {},
   "source": [
    "## Clean Data"
   ]
  },
  {
   "cell_type": "code",
   "execution_count": 22,
   "metadata": {},
   "outputs": [
    {
     "name": "stdout",
     "output_type": "stream",
     "text": [
      "Jahrgänge nicht zugeordnet: 15\n",
      "Partei nicht zugeordnet: 9\n",
      "Keine Jahrgänge: 21\n"
     ]
    }
   ],
   "source": [
    "df = cd.clean(df)"
   ]
  },
  {
   "cell_type": "code",
   "execution_count": 23,
   "metadata": {},
   "outputs": [],
   "source": [
    "# Clean Gemeinde-Names for Join\n",
    "df['Gemeinde'] = df['Gemeinde'].str.replace(' (ZH)', '', regex=False)\n",
    "\n",
    "df_age_raw['GEMEINDE'] = df_age_raw['GEMEINDE'].str.replace('a.A.', 'am Albis', regex=False)\n",
    "df_age_raw['GEMEINDE'] = df_age_raw['GEMEINDE'].str.replace('a.I.', 'am Irchel', regex=False)\n",
    "df_age_raw['GEMEINDE'] = df_age_raw['GEMEINDE'].str.replace('a.d.Th.', 'an der Thur', regex=False)\n",
    "df_age_raw['GEMEINDE'] = df_age_raw['GEMEINDE'].str.replace('a.S.', 'am See', regex=False)\n",
    "df_age_raw['GEMEINDE'] = df_age_raw['GEMEINDE'].str.replace('a.d.L.', 'an der Limmat', regex=False)"
   ]
  },
  {
   "cell_type": "code",
   "execution_count": 24,
   "metadata": {},
   "outputs": [],
   "source": [
    "# Add ID to each representativ\n",
    "df['id'] = df.index + 1"
   ]
  },
  {
   "cell_type": "code",
   "execution_count": 25,
   "metadata": {},
   "outputs": [],
   "source": [
    "# Prepare Gender\n",
    "df_gender = df_age_raw[(df_age_raw.JAHR == 2020) & (df_age_raw.ALTERSKLASSE_CODE >= 18)]\n",
    "df_gender = pd.pivot_table(df_gender, columns='GESCHLECHT', index='GEMEINDE', values='ANZAHL_PERSONEN', aggfunc='sum')\n",
    "\n",
    "df_gender['sum'] = df_gender.sum(axis=1)\n",
    "df_gender = df_gender.reset_index()\n",
    "\n",
    "# Calc Percentage\n",
    "df_gender['%m'] = round(100 / df_gender['sum'] * df_gender['Mann'])\n",
    "df_gender['%w'] = round(100 / df_gender['sum'] * df_gender['Frau'])"
   ]
  },
  {
   "cell_type": "markdown",
   "metadata": {},
   "source": [
    "# Prepare Alter"
   ]
  },
  {
   "cell_type": "code",
   "execution_count": 26,
   "metadata": {},
   "outputs": [],
   "source": [
    "df_age = df_age_raw[df_age_raw.JAHR == 2020]\n",
    "\n",
    "df_age = df_age.groupby(['GEMEINDE_BFS_NR', 'ALTERSKLASSE_CODE']).agg({'GEMEINDE': 'first', 'ALTERSKLASSE': 'first', 'ANZAHL_PERSONEN': 'sum'}).reset_index()"
   ]
  },
  {
   "cell_type": "markdown",
   "metadata": {},
   "source": [
    "## Calculate Age Group"
   ]
  },
  {
   "cell_type": "code",
   "execution_count": 27,
   "metadata": {},
   "outputs": [],
   "source": [
    "def add_age_group(x):\n",
    "    if x < 18:\n",
    "        return '<18'\n",
    "    elif x <= 39:\n",
    "        return '18-39'\n",
    "    elif x <= 64:\n",
    "        return '40-64'\n",
    "    elif x <= 79:\n",
    "        return '65-79'\n",
    "    else:\n",
    "        return '>80'\n",
    "\n",
    "# Add Agegroup\n",
    "df_age['agegroup'] = df_age['ALTERSKLASSE_CODE'].apply(add_age_group)\n",
    "df['agegroup'] = df['Alter'].apply(add_age_group)"
   ]
  },
  {
   "cell_type": "markdown",
   "metadata": {},
   "source": [
    "## Prepare Party"
   ]
  },
  {
   "cell_type": "code",
   "execution_count": 28,
   "metadata": {},
   "outputs": [],
   "source": [
    "df_party = pd.read_csv('../data/kantonsrat2019.csv')\n",
    "\n",
    "# Rename Wahlkreise\n",
    "df_party.loc[df_party.Gemeindenamen.str.contains('Winterthur', regex=False), 'Gemeindenamen'] = 'Winterthur'\n",
    "df_party.loc[df_party.Gemeindenamen.str.contains('Zürich, Kreis', regex=False), 'Gemeindenamen'] = 'Zürich'\n",
    "df_party.loc[df_party.Gemeindenamen.str.contains('Ellikon a.d.Thur', regex=False), 'Gemeindenamen'] = 'Ellikon an der Thur'\n",
    "\n",
    "# Transform\n",
    "df_party['partei_c'] = df_party['Liste'].apply(cd.transform_partei)\n",
    "\n",
    "# Group by Gemeinde\n",
    "df_party = df_party.groupby(['Gemeindenamen', 'partei_c']).agg({'Stimmen': 'sum'}).reset_index()\n",
    "\n",
    "# Calc %\n",
    "df_party['2019'] = df_party.apply(lambda row: round(100 / df_party.loc[df_party.Gemeindenamen == row['Gemeindenamen'], 'Stimmen'].sum() * row['Stimmen'], 2), axis=1)"
   ]
  },
  {
   "cell_type": "markdown",
   "metadata": {},
   "source": [
    "## Export JSON"
   ]
  },
  {
   "cell_type": "code",
   "execution_count": 33,
   "metadata": {},
   "outputs": [],
   "source": [
    "#name = \"Lindau\"\n",
    "def export_gemeinde(name):\n",
    "\n",
    "    # Select Gemeinde\n",
    "    df_g = df_age[df_age.GEMEINDE == name].copy()\n",
    "    df_kings = df[df.Gemeinde == name].copy()\n",
    "\n",
    "    # Reindex so that missing ages are filled with 0\n",
    "    df_g = df_g.set_index('ALTERSKLASSE_CODE')\n",
    "    df_g = df_g.reindex(np.arange(0, 101)).fillna(0)\n",
    "    df_g = df_g.reset_index()\n",
    "\n",
    "    # Add Age Group again\n",
    "    df_g['agegroup'] = df_g['ALTERSKLASSE_CODE'].apply(add_age_group)\n",
    "\n",
    "    record = {\n",
    "        \"name\": df_g.iloc[0]['GEMEINDE'],\n",
    "        \"type\": df_kings.iloc[0]['type'],\n",
    "        \"bfs\": int(df_g.iloc[0]['GEMEINDE_BFS_NR']),\n",
    "        \"agedistribution\": [],\n",
    "        \"agegroups\": {},\n",
    "        \"executives\": [],\n",
    "        \"gender\": {},\n",
    "        \"representativeages\": [],\n",
    "        \"party\": {},\n",
    "        \"executiveparty\": {'is': [], 'should': []},\n",
    "        \"hasages\": bool(df_kings['Jahrgang'].sum() > 0),\n",
    "        \"ageperexecutive\": bool(df_kings['jahrgang_nicht_zugeordnet'].sum() == 0),\n",
    "    }\n",
    "\n",
    "    # Add Altersstruktur\n",
    "    for i, row in df_g.iterrows():\n",
    "\n",
    "        # Find nearest Representative\n",
    "        df_kings.loc[df_kings.Name.str.lower() != 'vakant', 'yearstoagegroup'] = abs(df_kings['Alter'] - row['ALTERSKLASSE_CODE'])\n",
    "\n",
    "        r = {\n",
    "            'age': row['ALTERSKLASSE_CODE'],\n",
    "            'count': row['ANZAHL_PERSONEN'],\n",
    "            'yeartorepresentative': min(df_kings[df_kings.Name.str.lower() != 'vakant']['yearstoagegroup'])\n",
    "        }\n",
    "        if math.isnan(r['yeartorepresentative']):\n",
    "           r['yeartorepresentative'] = None\n",
    "\n",
    "        record['agedistribution'].append(r)\n",
    "\n",
    "    # Add Räte Version 1    \n",
    "    for i, row in df[df.Gemeinde == name].sort_values(['Jahrgang', 'Name'], ascending=[False, True]).iterrows():\n",
    "\n",
    "        if math.isnan(row['Jahrgang']):\n",
    "            jg = None\n",
    "        else:\n",
    "            jg = round(row['Jahrgang']) if row['jahrgang_nicht_zugeordnet'] == False else None\n",
    "\n",
    "        if row['Name'].lower() == 'vakant':\n",
    "            r = {\n",
    "                \"id\": row['id'],\n",
    "                \"vacant\": True,\n",
    "                \"party\": 'vacant'\n",
    "            }\n",
    "\n",
    "        else:\n",
    "            r = {\n",
    "                \"id\": row['id'],\n",
    "                \"name\": row['Name_cleaned'].strip(),\n",
    "                \"agegroup\": jg,\n",
    "                \"agecalculated\": row['Alter'] if (row['jahrgang_nicht_zugeordnet'] == False and math.isnan(row['Alter']) == False) else None,\n",
    "                \"party\": row['Partei'] if row['partei_nicht_zugeordnet'] == False else None,\n",
    "                \"sex\": row['Geschlecht']\n",
    "            }\n",
    "\n",
    "        record['executives'].append(r)\n",
    "\n",
    "    # Calculate Age Group Percentage per Gemeinde\n",
    "    df_agegroup = df_g[df_g.ALTERSKLASSE_CODE >= 18].groupby('agegroup').agg({'ANZAHL_PERSONEN': 'sum'}).reset_index()\n",
    "    df_agegroup['value'] = round(100 / df_agegroup['ANZAHL_PERSONEN'].sum() * df_agegroup['ANZAHL_PERSONEN'])\n",
    "\n",
    "    for i, row in df_agegroup.iterrows():\n",
    "\n",
    "        record['agegroups'][row['agegroup']] = {\n",
    "            'inhabitants': row['value'],\n",
    "            'executives': round(100 / len(df_kings) * len(df_kings[df_kings.agegroup == row['agegroup']]))\n",
    "        }\n",
    "\n",
    "    # Add representative age groups\n",
    "    df_sub = df[df.Gemeinde == name].groupby(['Jahrgang', 'Name_cleaned']).agg({'id': 'first', 'jahrgang_nicht_zugeordnet': 'first'})\n",
    "    for i, rows in df_sub.groupby(level=0):\n",
    "\n",
    "        ids = []\n",
    "        for j, rowj in df_sub.iloc[df_sub.index.get_level_values('Jahrgang') == i].reset_index().iterrows():\n",
    "            if(rowj['jahrgang_nicht_zugeordnet'] == False):\n",
    "                ids.append(rowj['id'])  \n",
    "\n",
    "        record['representativeages'].append({\n",
    "            'age': round(yearnow - i),\n",
    "            'ids': ids})\n",
    "\n",
    "    # Add Gender\n",
    "    record['gender']['m'] = int(df_gender.loc[df_gender.GEMEINDE == name, '%m'])\n",
    "    record['gender']['w'] = int(df_gender.loc[df_gender.GEMEINDE == name, '%w'])\n",
    "\n",
    "    # Add Party\n",
    "    df_p_2019 = df_party[df_party.Gemeindenamen == name].copy().reset_index()\n",
    "\n",
    "    # Calculate Percentage of Party in Board\n",
    "    df_p_board = df_kings.groupby('partei_c').agg({'Name': 'count'}).reset_index()\n",
    "    df_p_board['board'] = round(100 / df_p_board['Name'].sum() * df_p_board['Name'])\n",
    "\n",
    "    df_p_board = df_p_board.merge(df_p_2019, how = 'outer', on = 'partei_c')\n",
    "    df_p_board['2019'] = df_p_board['2019'].fillna(0)\n",
    "    df_p_board['board'] = df_p_board['board'].fillna(0)\n",
    "\n",
    "    # Order by max\n",
    "    df_p_board['max'] = df_p_board.apply(lambda row: row['board'] if row['board'] >= row['2019'] else row['2019'], axis=1)\n",
    "    df_p_board['diff'] = abs(df_p_board['2019'] - df_p_board['board'])\n",
    "    df_p_board = df_p_board.sort_values('diff', ascending=False)\n",
    "\n",
    "    # Remove less 5 percent\n",
    "    df_p_board = df_p_board[df_p_board['max'] >= 5]\n",
    "\n",
    "    r = {}\n",
    "    for i, row in df_p_board.iterrows():\n",
    "        r[row['partei_c']] = {\n",
    "            '2019': round(row['2019']),\n",
    "            'board': row['board']\n",
    "        }\n",
    "    record['party'] = r\n",
    "\n",
    "    # Calculate Executive Party IS\n",
    "    for i, row in df_kings.groupby('partei_c').count().sort_values('Gemeinde', ascending=False).reset_index().iterrows():\n",
    "        record['executiveparty']['is'] += [row['partei_c']] * row['Gemeinde']\n",
    "\n",
    "    # Calculate Executive Party SHOULD\n",
    "    df_p_2019['should'] = apportionment.hagenbach_bischoff(list(df_p_2019['2019']), len(df_kings))\n",
    "    for i, row in df_p_2019[df_p_2019.should > 0].sort_values('should', ascending=False).iterrows():\n",
    "        record['executiveparty']['should'] += [row['partei_c']] * row['should']\n",
    "\n",
    "    # Store\n",
    "    #with open(os.path.join(export_folder, '230.json'), \"w\") as f:\n",
    "    with open(os.path.join(export_folder, '%s.json' % int(df_g.iloc[0]['GEMEINDE_BFS_NR'])), \"w\", encoding='utf-8') as f:\n",
    "        json.dump(record, f, ensure_ascii=False)\n",
    "\n",
    "#export_gemeinde('Regensberg')\n"
   ]
  },
  {
   "cell_type": "code",
   "execution_count": 34,
   "metadata": {},
   "outputs": [
    {
     "name": "stdout",
     "output_type": "stream",
     "text": [
      "Finito\n"
     ]
    }
   ],
   "source": [
    "df_gemeinden = df.groupby('Gemeinde').count().reset_index()\n",
    "    \n",
    "for i, row in df_gemeinden.iterrows():\n",
    "    export_gemeinde(row['Gemeinde'])\n",
    "    \n",
    "print(\"Finito\")"
   ]
  },
  {
   "cell_type": "code",
   "execution_count": null,
   "metadata": {},
   "outputs": [],
   "source": []
  }
 ],
 "metadata": {
  "kernelspec": {
   "display_name": "gemeinderaete",
   "language": "python",
   "name": "gemeinderaete"
  },
  "language_info": {
   "codemirror_mode": {
    "name": "ipython",
    "version": 3
   },
   "file_extension": ".py",
   "mimetype": "text/x-python",
   "name": "python",
   "nbconvert_exporter": "python",
   "pygments_lexer": "ipython3",
   "version": "3.9.0"
  }
 },
 "nbformat": 4,
 "nbformat_minor": 4
}
