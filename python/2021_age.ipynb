{
 "cells": [
  {
   "cell_type": "markdown",
   "metadata": {},
   "source": [
    "# 2021 Age"
   ]
  },
  {
   "cell_type": "code",
   "execution_count": 1,
   "metadata": {},
   "outputs": [],
   "source": [
    "import pandas as pd\n",
    "import numpy as np\n",
    "import cleandata as cd"
   ]
  },
  {
   "cell_type": "code",
   "execution_count": 2,
   "metadata": {},
   "outputs": [],
   "source": [
    "df = pd.read_csv('../data/Gemeinde_Exekutive - daten.csv')"
   ]
  },
  {
   "cell_type": "markdown",
   "metadata": {},
   "source": [
    "## Clean Data"
   ]
  },
  {
   "cell_type": "code",
   "execution_count": 3,
   "metadata": {},
   "outputs": [
    {
     "name": "stdout",
     "output_type": "stream",
     "text": [
      "Jahrgänge nicht zugeordnet: 0\n",
      "Partei nicht zugeordnet: 9\n",
      "Keine Jahrgänge: 18\n"
     ]
    }
   ],
   "source": [
    "df = cd.clean(df)"
   ]
  },
  {
   "cell_type": "markdown",
   "metadata": {},
   "source": [
    "# Alles übers Alter"
   ]
  },
  {
   "cell_type": "markdown",
   "metadata": {},
   "source": [
    "## Das jüngste Gremium"
   ]
  },
  {
   "cell_type": "code",
   "execution_count": null,
   "metadata": {},
   "outputs": [],
   "source": [
    "df_age = df[df.Jahrgang.notna()].copy()\n",
    "df_age['Alter'] = pd.to_numeric(df_age['Alter'])\n",
    "\n",
    "df_age = df_age.groupby('Gemeinde').agg({'Alter': 'mean'})\n",
    "\n",
    "df_age['Alter'] = round(df_age['Alter'], 1)\n",
    "\n",
    "df_age.sort_values('Alter', ascending=True).head()"
   ]
  },
  {
   "cell_type": "markdown",
   "metadata": {},
   "source": [
    "## Das älteste Gremium"
   ]
  },
  {
   "cell_type": "code",
   "execution_count": null,
   "metadata": {},
   "outputs": [],
   "source": [
    "df_age.sort_values('Alter', ascending=False).head()"
   ]
  },
  {
   "cell_type": "markdown",
   "metadata": {},
   "source": [
    "## Die Küken"
   ]
  },
  {
   "cell_type": "code",
   "execution_count": null,
   "metadata": {},
   "outputs": [],
   "source": [
    "df.sort_values('Alter').head(10)"
   ]
  },
  {
   "cell_type": "markdown",
   "metadata": {},
   "source": [
    "## Die Silberrücken"
   ]
  },
  {
   "cell_type": "code",
   "execution_count": null,
   "metadata": {},
   "outputs": [],
   "source": [
    "df.sort_values('Alter', ascending=False).head(10)"
   ]
  },
  {
   "cell_type": "markdown",
   "metadata": {},
   "source": [
    "## Jüngsten Frauen"
   ]
  },
  {
   "cell_type": "code",
   "execution_count": 4,
   "metadata": {},
   "outputs": [
    {
     "data": {
      "text/plain": [
       "1017"
      ]
     },
     "execution_count": 4,
     "metadata": {},
     "output_type": "execute_result"
    }
   ],
   "source": [
    "len(df)"
   ]
  },
  {
   "cell_type": "code",
   "execution_count": null,
   "metadata": {},
   "outputs": [],
   "source": [
    "df[df.Geschlecht == 'w'].sort_values('Alter').head(10)"
   ]
  },
  {
   "cell_type": "markdown",
   "metadata": {},
   "source": [
    "## Alter pro Partei"
   ]
  },
  {
   "cell_type": "code",
   "execution_count": null,
   "metadata": {},
   "outputs": [],
   "source": [
    "df_a = df[df.Alter.notna() & df.partei_nicht_zugeordnet == False].copy()\n",
    "df_a['Alter'] = pd.to_numeric(df_a['Alter'])\n",
    "df_a = df_a.groupby('partei_c').agg({'Alter': 'mean'}).sort_values('Alter', ascending=False)\n",
    "df_a['Alter'] = round(df_a['Alter'], 1)\n",
    "\n",
    "df_a"
   ]
  },
  {
   "cell_type": "markdown",
   "metadata": {},
   "source": [
    "# QGIS export"
   ]
  },
  {
   "cell_type": "markdown",
   "metadata": {},
   "source": [
    "## Aggregate different vectors"
   ]
  },
  {
   "cell_type": "code",
   "execution_count": null,
   "metadata": {},
   "outputs": [],
   "source": [
    "# Find strongest Party. \"Multiple\" when no single party is the stronges\n",
    "\n",
    "df_g = df\n",
    "\n",
    "df_g = pd.pivot_table(df_g, index='Gemeinde', columns='partei_c', values='Name', aggfunc='count').fillna(0)\n",
    "\n",
    "def maxparty(row):\n",
    "    maxi = 0\n",
    "    maxs = \"\"\n",
    "    multiple = False\n",
    "    for i in df_g.columns:\n",
    "        if i == 'partei_c': continue\n",
    "        \n",
    "        if row[i] == maxi:\n",
    "            multiple = True\n",
    "        elif row[i] > maxi:\n",
    "            maxi = row[i]\n",
    "            maxs = i\n",
    "            multiple = False\n",
    "            \n",
    "    if multiple:\n",
    "        return 'multiple'\n",
    "    else:\n",
    "        return maxs\n",
    "\n",
    "df_g['topparty'] = df_g.apply(maxparty, axis=1)\n",
    "\n",
    "# Add \"Has Top Party\": single, multi or parteilos\n",
    "def add_has_topparty(x):\n",
    "    if x == 'multiple': return 'multiple'\n",
    "    elif x == 'parteilos': return 'parteilos'\n",
    "    else: return 'single'\n",
    "\n",
    "df_g['has_topparty'] = df_g['topparty'].apply(add_has_topparty)\n",
    "\n",
    "df_export = df_g.reset_index()[['Gemeinde', 'topparty', 'has_topparty']].copy()\n",
    "\n",
    "# Diese Parteien sind so oft die grösste Partei ihrer Gemeinde\n",
    "df_g.reset_index().groupby('topparty').agg({'Gemeinde': 'count'}).sort_values('Gemeinde', ascending=False)"
   ]
  },
  {
   "cell_type": "code",
   "execution_count": null,
   "metadata": {},
   "outputs": [],
   "source": [
    "# Calc Partys percentage\n",
    "df_g = pd.pivot_table(df, index='Gemeinde', columns='partei_c', values='Name', aggfunc='count').fillna(0)\n",
    "df_g['total'] = df_g.sum(axis=1)\n",
    "\n",
    "def calc_percentage(row):\n",
    "    for i in df_g.columns:\n",
    "        row[i] = round(100 / row['total'] * row[i], 1)\n",
    "    return row\n",
    "\n",
    "df_g = df_g.apply(calc_percentage, axis=1)\n",
    "\n",
    "# Drop total\n",
    "df_g.drop(columns='total', inplace=True)\n",
    "\n",
    "df_export = df_export.merge(df_g.reset_index(), on='Gemeinde', how='left')"
   ]
  },
  {
   "cell_type": "code",
   "execution_count": null,
   "metadata": {},
   "outputs": [],
   "source": [
    "# Add m / w\n",
    "\n",
    "df_g = pd.pivot_table(df, index='Gemeinde', columns='Geschlecht', values='Name', aggfunc='count')\n",
    "\n",
    "df_g['total'] = df_g.sum(axis=1)\n",
    "df_g['m'] = round(100 / df_g['total'] * df_g['m'])\n",
    "df_g['w'] = round(100 / df_g['total'] * df_g['w'])\n",
    "\n",
    "df_export = df_export.merge(df_g.reset_index()[['Gemeinde', 'm', 'w']], on='Gemeinde', how='left')"
   ]
  },
  {
   "cell_type": "code",
   "execution_count": null,
   "metadata": {},
   "outputs": [],
   "source": [
    "# Add age m / w\n",
    "\n",
    "df_a = df[df.Alter.notna()].copy()\n",
    "df_a['Alter'] = pd.to_numeric(df_a['Alter'])\n",
    "df_g = pd.pivot_table(df_a, index='Gemeinde', columns='Geschlecht', values='Alter', aggfunc='mean')\n",
    "\n",
    "df_g = df_g.apply(lambda x: round(x))\n",
    "\n",
    "df_g.rename(columns={'m': 'age_m', 'w': 'age_w'}, inplace=True)\n",
    "\n",
    "df_export = df_export.merge(df_g.reset_index(), on='Gemeinde', how='left')"
   ]
  },
  {
   "cell_type": "code",
   "execution_count": null,
   "metadata": {},
   "outputs": [],
   "source": [
    "# Agg General\n",
    "\n",
    "df_a = df[df.Alter.notna()].copy()\n",
    "df_a['Alter'] = pd.to_numeric(df_a['Alter'])\n",
    "\n",
    "df_a = df_a.groupby('Gemeinde').agg({'Alter': 'mean'})\n",
    "\n",
    "df_a['Alter'] = round(df_a['Alter'])\n",
    "\n",
    "df_export = df_export.merge(df_a.reset_index(), on='Gemeinde', how='left')\n",
    "\n",
    "df_export = df_export.set_index('Gemeinde')"
   ]
  },
  {
   "cell_type": "markdown",
   "metadata": {},
   "source": [
    "## Join per GeoPandas and Export"
   ]
  },
  {
   "cell_type": "code",
   "execution_count": null,
   "metadata": {},
   "outputs": [],
   "source": [
    "import geopandas as gpd\n",
    "import matplotlib.pyplot as plt"
   ]
  },
  {
   "cell_type": "code",
   "execution_count": null,
   "metadata": {},
   "outputs": [],
   "source": [
    "gdf = gpd.read_file('../data/Gemeindegrenzen.gpkg', layer='UP_GEMEINDEN_F')\n",
    "\n",
    "# Join\n",
    "gdf = gdf.merge(df_export, left_on = 'GEMEINDENAME', right_on='Gemeinde', how='left')\n",
    "\n",
    "# Export\n",
    "gdf.to_file('../export/gemeinderaete.gpkg', driver='GPKG')"
   ]
  },
  {
   "cell_type": "markdown",
   "metadata": {},
   "source": [
    "## Parteilose eher am Rande des Kantons (ländlich)"
   ]
  },
  {
   "cell_type": "code",
   "execution_count": null,
   "metadata": {},
   "outputs": [],
   "source": [
    "gdf.plot(column='parteilos', legend=True, figsize=(10, 10))"
   ]
  },
  {
   "cell_type": "markdown",
   "metadata": {},
   "source": [
    "## Welche Partei hat wo die Mehrheit?"
   ]
  },
  {
   "cell_type": "code",
   "execution_count": null,
   "metadata": {},
   "outputs": [],
   "source": [
    "fig = plt.figure(figsize = (10, 30))\n",
    "\n",
    "#fig, (ax1,ax2) = plt.subplots(nrows=1, ncols=2, figsize=(10, 6))\n",
    "\n",
    "c = 1\n",
    "for i, party in enumerate(gdf['topparty'].unique()):\n",
    "    \n",
    "    if not (type(party) == str): continue\n",
    "    \n",
    "    ax1 = fig.add_subplot(4, 2, c)\n",
    "    gdf['leadingparty'] = gdf.topparty.apply(lambda x: party if x == party else None)\n",
    "    gdf.plot(ax=ax1, column='leadingparty', missing_kwds={'color': 'lightgrey'}, legend=True)\n",
    "    c += 1\n"
   ]
  },
  {
   "cell_type": "code",
   "execution_count": null,
   "metadata": {},
   "outputs": [],
   "source": []
  }
 ],
 "metadata": {
  "kernelspec": {
   "display_name": "Python39",
   "language": "python",
   "name": "python39"
  },
  "language_info": {
   "codemirror_mode": {
    "name": "ipython",
    "version": 3
   },
   "file_extension": ".py",
   "mimetype": "text/x-python",
   "name": "python",
   "nbconvert_exporter": "python",
   "pygments_lexer": "ipython3",
   "version": "3.9.0"
  }
 },
 "nbformat": 4,
 "nbformat_minor": 4
}
