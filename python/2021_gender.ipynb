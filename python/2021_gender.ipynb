{
 "cells": [
  {
   "cell_type": "markdown",
   "metadata": {},
   "source": [
    "# 2021 Gender\n"
   ]
  },
  {
   "cell_type": "code",
   "execution_count": 35,
   "metadata": {},
   "outputs": [],
   "source": [
    "import pandas as pd\n",
    "import numpy as np\n",
    "import cleandata as cd"
   ]
  },
  {
   "cell_type": "code",
   "execution_count": 36,
   "metadata": {},
   "outputs": [],
   "source": [
    "df = pd.read_csv('../data/Gemeinde_Exekutive - daten.csv')"
   ]
  },
  {
   "cell_type": "markdown",
   "metadata": {},
   "source": [
    "## Clean Data"
   ]
  },
  {
   "cell_type": "code",
   "execution_count": 37,
   "metadata": {},
   "outputs": [
    {
     "name": "stdout",
     "output_type": "stream",
     "text": [
      "Jahrgänge nicht zugeordnet: 0\n",
      "Partei nicht zugeordnet: 9\n",
      "Keine Jahrgänge: 18\n"
     ]
    }
   ],
   "source": [
    "df = cd.clean(df)"
   ]
  },
  {
   "cell_type": "markdown",
   "metadata": {},
   "source": [
    "## Geschlechterverhältnis"
   ]
  },
  {
   "cell_type": "code",
   "execution_count": 38,
   "metadata": {},
   "outputs": [
    {
     "data": {
      "text/html": [
       "<div>\n",
       "<style scoped>\n",
       "    .dataframe tbody tr th:only-of-type {\n",
       "        vertical-align: middle;\n",
       "    }\n",
       "\n",
       "    .dataframe tbody tr th {\n",
       "        vertical-align: top;\n",
       "    }\n",
       "\n",
       "    .dataframe thead th {\n",
       "        text-align: right;\n",
       "    }\n",
       "</style>\n",
       "<table border=\"1\" class=\"dataframe\">\n",
       "  <thead>\n",
       "    <tr style=\"text-align: right;\">\n",
       "      <th></th>\n",
       "      <th>Name</th>\n",
       "      <th>prozent</th>\n",
       "    </tr>\n",
       "    <tr>\n",
       "      <th>Geschlecht</th>\n",
       "      <th></th>\n",
       "      <th></th>\n",
       "    </tr>\n",
       "  </thead>\n",
       "  <tbody>\n",
       "    <tr>\n",
       "      <th>m</th>\n",
       "      <td>736</td>\n",
       "      <td>72.4</td>\n",
       "    </tr>\n",
       "    <tr>\n",
       "      <th>w</th>\n",
       "      <td>280</td>\n",
       "      <td>27.5</td>\n",
       "    </tr>\n",
       "  </tbody>\n",
       "</table>\n",
       "</div>"
      ],
      "text/plain": [
       "            Name  prozent\n",
       "Geschlecht               \n",
       "m            736     72.4\n",
       "w            280     27.5"
      ]
     },
     "execution_count": 38,
     "metadata": {},
     "output_type": "execute_result"
    }
   ],
   "source": [
    "grGender = df.groupby('Geschlecht').agg({'Name': 'count'})\n",
    "grGender['prozent'] = round(100 / len(df) * grGender.Name, 1)\n",
    "grGender"
   ]
  },
  {
   "cell_type": "markdown",
   "metadata": {},
   "source": [
    "## Der Durchschnitts-Gemeinderat (m/w) ist..."
   ]
  },
  {
   "cell_type": "code",
   "execution_count": 39,
   "metadata": {},
   "outputs": [
    {
     "name": "stdout",
     "output_type": "stream",
     "text": [
      "Männlich\n",
      "56 Jahre alt\n",
      "parteilos\n"
     ]
    }
   ],
   "source": [
    "df_alter = df[df.Alter.notna() & df.jahrgang_nicht_zugeordnet.notna()]\n",
    "print(\"Männlich\")\n",
    "print(\"%s Jahre alt\" % round(df_alter.Alter.mean()))\n",
    "print(\"parteilos\")\n"
   ]
  },
  {
   "cell_type": "markdown",
   "metadata": {},
   "source": [
    "## Die Durchschnitts-Gemeinderätin ist..."
   ]
  },
  {
   "cell_type": "code",
   "execution_count": 40,
   "metadata": {},
   "outputs": [
    {
     "name": "stdout",
     "output_type": "stream",
     "text": [
      "55 Jahre alt\n",
      "parteilos\n"
     ]
    }
   ],
   "source": [
    "df_alter = df[df.Alter.notna() & df.jahrgang_nicht_zugeordnet.notna()]\n",
    "print(\"%s Jahre alt\" % round(df_alter[df_alter.Geschlecht == 'w'].Alter.mean()))\n",
    "print(\"parteilos\")"
   ]
  },
  {
   "cell_type": "markdown",
   "metadata": {},
   "source": [
    "## Der Durchschnitts-Gemeinderat (m) ist..."
   ]
  },
  {
   "cell_type": "code",
   "execution_count": 41,
   "metadata": {},
   "outputs": [
    {
     "name": "stdout",
     "output_type": "stream",
     "text": [
      "56 Jahre alt\n",
      "parteilos\n"
     ]
    }
   ],
   "source": [
    "df_alter = df[df.Alter.notna() & df.jahrgang_nicht_zugeordnet.notna()]\n",
    "print(\"%s Jahre alt\" % round(df_alter[df_alter.Geschlecht == 'm'].Alter.mean()))\n",
    "print(\"parteilos\")"
   ]
  },
  {
   "cell_type": "markdown",
   "metadata": {},
   "source": [
    "## Gendereinseitige Gemeinderäte"
   ]
  },
  {
   "cell_type": "code",
   "execution_count": 42,
   "metadata": {},
   "outputs": [
    {
     "data": {
      "text/html": [
       "<div>\n",
       "<style scoped>\n",
       "    .dataframe tbody tr th:only-of-type {\n",
       "        vertical-align: middle;\n",
       "    }\n",
       "\n",
       "    .dataframe tbody tr th {\n",
       "        vertical-align: top;\n",
       "    }\n",
       "\n",
       "    .dataframe thead th {\n",
       "        text-align: right;\n",
       "    }\n",
       "</style>\n",
       "<table border=\"1\" class=\"dataframe\">\n",
       "  <thead>\n",
       "    <tr style=\"text-align: right;\">\n",
       "      <th>Geschlecht</th>\n",
       "      <th>m</th>\n",
       "      <th>w</th>\n",
       "      <th>total</th>\n",
       "      <th>m%</th>\n",
       "      <th>w%</th>\n",
       "    </tr>\n",
       "    <tr>\n",
       "      <th>Gemeinde</th>\n",
       "      <th></th>\n",
       "      <th></th>\n",
       "      <th></th>\n",
       "      <th></th>\n",
       "      <th></th>\n",
       "    </tr>\n",
       "  </thead>\n",
       "  <tbody>\n",
       "    <tr>\n",
       "      <th>Dachsen</th>\n",
       "      <td>5.0</td>\n",
       "      <td>0.0</td>\n",
       "      <td>5.0</td>\n",
       "      <td>100.0</td>\n",
       "      <td>0.0</td>\n",
       "    </tr>\n",
       "    <tr>\n",
       "      <th>Dietikon</th>\n",
       "      <td>7.0</td>\n",
       "      <td>0.0</td>\n",
       "      <td>7.0</td>\n",
       "      <td>100.0</td>\n",
       "      <td>0.0</td>\n",
       "    </tr>\n",
       "    <tr>\n",
       "      <th>Dägerlen</th>\n",
       "      <td>5.0</td>\n",
       "      <td>0.0</td>\n",
       "      <td>5.0</td>\n",
       "      <td>100.0</td>\n",
       "      <td>0.0</td>\n",
       "    </tr>\n",
       "    <tr>\n",
       "      <th>Ellikon an der Thur</th>\n",
       "      <td>5.0</td>\n",
       "      <td>0.0</td>\n",
       "      <td>5.0</td>\n",
       "      <td>100.0</td>\n",
       "      <td>0.0</td>\n",
       "    </tr>\n",
       "    <tr>\n",
       "      <th>Humlikon</th>\n",
       "      <td>5.0</td>\n",
       "      <td>0.0</td>\n",
       "      <td>5.0</td>\n",
       "      <td>100.0</td>\n",
       "      <td>0.0</td>\n",
       "    </tr>\n",
       "    <tr>\n",
       "      <th>Oetwil am See</th>\n",
       "      <td>7.0</td>\n",
       "      <td>0.0</td>\n",
       "      <td>7.0</td>\n",
       "      <td>100.0</td>\n",
       "      <td>0.0</td>\n",
       "    </tr>\n",
       "    <tr>\n",
       "      <th>Regensdorf</th>\n",
       "      <td>7.0</td>\n",
       "      <td>0.0</td>\n",
       "      <td>7.0</td>\n",
       "      <td>100.0</td>\n",
       "      <td>0.0</td>\n",
       "    </tr>\n",
       "    <tr>\n",
       "      <th>Rheinau</th>\n",
       "      <td>5.0</td>\n",
       "      <td>0.0</td>\n",
       "      <td>5.0</td>\n",
       "      <td>100.0</td>\n",
       "      <td>0.0</td>\n",
       "    </tr>\n",
       "    <tr>\n",
       "      <th>Wasterkingen</th>\n",
       "      <td>5.0</td>\n",
       "      <td>0.0</td>\n",
       "      <td>5.0</td>\n",
       "      <td>100.0</td>\n",
       "      <td>0.0</td>\n",
       "    </tr>\n",
       "    <tr>\n",
       "      <th>Weiach</th>\n",
       "      <td>5.0</td>\n",
       "      <td>0.0</td>\n",
       "      <td>5.0</td>\n",
       "      <td>100.0</td>\n",
       "      <td>0.0</td>\n",
       "    </tr>\n",
       "    <tr>\n",
       "      <th>Wila</th>\n",
       "      <td>5.0</td>\n",
       "      <td>0.0</td>\n",
       "      <td>5.0</td>\n",
       "      <td>100.0</td>\n",
       "      <td>0.0</td>\n",
       "    </tr>\n",
       "    <tr>\n",
       "      <th>Winkel</th>\n",
       "      <td>5.0</td>\n",
       "      <td>0.0</td>\n",
       "      <td>5.0</td>\n",
       "      <td>100.0</td>\n",
       "      <td>0.0</td>\n",
       "    </tr>\n",
       "    <tr>\n",
       "      <th>Zumikon</th>\n",
       "      <td>7.0</td>\n",
       "      <td>0.0</td>\n",
       "      <td>7.0</td>\n",
       "      <td>100.0</td>\n",
       "      <td>0.0</td>\n",
       "    </tr>\n",
       "  </tbody>\n",
       "</table>\n",
       "</div>"
      ],
      "text/plain": [
       "Geschlecht             m    w  total     m%   w%\n",
       "Gemeinde                                        \n",
       "Dachsen              5.0  0.0    5.0  100.0  0.0\n",
       "Dietikon             7.0  0.0    7.0  100.0  0.0\n",
       "Dägerlen             5.0  0.0    5.0  100.0  0.0\n",
       "Ellikon an der Thur  5.0  0.0    5.0  100.0  0.0\n",
       "Humlikon             5.0  0.0    5.0  100.0  0.0\n",
       "Oetwil am See        7.0  0.0    7.0  100.0  0.0\n",
       "Regensdorf           7.0  0.0    7.0  100.0  0.0\n",
       "Rheinau              5.0  0.0    5.0  100.0  0.0\n",
       "Wasterkingen         5.0  0.0    5.0  100.0  0.0\n",
       "Weiach               5.0  0.0    5.0  100.0  0.0\n",
       "Wila                 5.0  0.0    5.0  100.0  0.0\n",
       "Winkel               5.0  0.0    5.0  100.0  0.0\n",
       "Zumikon              7.0  0.0    7.0  100.0  0.0"
      ]
     },
     "execution_count": 42,
     "metadata": {},
     "output_type": "execute_result"
    }
   ],
   "source": [
    "df_g = pd.pivot_table(df, 'Name', 'Gemeinde', columns='Geschlecht', aggfunc='count')\n",
    "df_g['w'] = df_g['w'].fillna(0)\n",
    "df_g['total'] = df_g.m + df_g.w\n",
    "df_g['m%'] = round(100 / df_g.total * df_g.m)\n",
    "df_g['w%'] = round(100 / df_g.total * df_g.w)\n",
    "df_g[df_g['m%'] == 100]"
   ]
  },
  {
   "cell_type": "markdown",
   "metadata": {},
   "source": [
    "### Die weiblichste Gemeinde"
   ]
  },
  {
   "cell_type": "code",
   "execution_count": 43,
   "metadata": {},
   "outputs": [
    {
     "data": {
      "text/html": [
       "<div>\n",
       "<style scoped>\n",
       "    .dataframe tbody tr th:only-of-type {\n",
       "        vertical-align: middle;\n",
       "    }\n",
       "\n",
       "    .dataframe tbody tr th {\n",
       "        vertical-align: top;\n",
       "    }\n",
       "\n",
       "    .dataframe thead th {\n",
       "        text-align: right;\n",
       "    }\n",
       "</style>\n",
       "<table border=\"1\" class=\"dataframe\">\n",
       "  <thead>\n",
       "    <tr style=\"text-align: right;\">\n",
       "      <th>Geschlecht</th>\n",
       "      <th>m</th>\n",
       "      <th>w</th>\n",
       "      <th>total</th>\n",
       "      <th>m%</th>\n",
       "      <th>w%</th>\n",
       "    </tr>\n",
       "    <tr>\n",
       "      <th>Gemeinde</th>\n",
       "      <th></th>\n",
       "      <th></th>\n",
       "      <th></th>\n",
       "      <th></th>\n",
       "      <th></th>\n",
       "    </tr>\n",
       "  </thead>\n",
       "  <tbody>\n",
       "    <tr>\n",
       "      <th>Aeugst am Albis</th>\n",
       "      <td>3.0</td>\n",
       "      <td>5.0</td>\n",
       "      <td>8.0</td>\n",
       "      <td>38.0</td>\n",
       "      <td>62.0</td>\n",
       "    </tr>\n",
       "    <tr>\n",
       "      <th>Regensberg</th>\n",
       "      <td>2.0</td>\n",
       "      <td>3.0</td>\n",
       "      <td>5.0</td>\n",
       "      <td>40.0</td>\n",
       "      <td>60.0</td>\n",
       "    </tr>\n",
       "    <tr>\n",
       "      <th>Boppelsen</th>\n",
       "      <td>2.0</td>\n",
       "      <td>3.0</td>\n",
       "      <td>5.0</td>\n",
       "      <td>40.0</td>\n",
       "      <td>60.0</td>\n",
       "    </tr>\n",
       "    <tr>\n",
       "      <th>Kappel am Albis</th>\n",
       "      <td>2.0</td>\n",
       "      <td>3.0</td>\n",
       "      <td>5.0</td>\n",
       "      <td>40.0</td>\n",
       "      <td>60.0</td>\n",
       "    </tr>\n",
       "    <tr>\n",
       "      <th>Wiesendangen</th>\n",
       "      <td>3.0</td>\n",
       "      <td>4.0</td>\n",
       "      <td>7.0</td>\n",
       "      <td>43.0</td>\n",
       "      <td>57.0</td>\n",
       "    </tr>\n",
       "    <tr>\n",
       "      <th>Kilchberg (ZH)</th>\n",
       "      <td>3.0</td>\n",
       "      <td>4.0</td>\n",
       "      <td>7.0</td>\n",
       "      <td>43.0</td>\n",
       "      <td>57.0</td>\n",
       "    </tr>\n",
       "    <tr>\n",
       "      <th>Marthalen</th>\n",
       "      <td>3.0</td>\n",
       "      <td>4.0</td>\n",
       "      <td>7.0</td>\n",
       "      <td>43.0</td>\n",
       "      <td>57.0</td>\n",
       "    </tr>\n",
       "    <tr>\n",
       "      <th>Uster</th>\n",
       "      <td>3.0</td>\n",
       "      <td>4.0</td>\n",
       "      <td>7.0</td>\n",
       "      <td>43.0</td>\n",
       "      <td>57.0</td>\n",
       "    </tr>\n",
       "    <tr>\n",
       "      <th>Rümlang</th>\n",
       "      <td>3.0</td>\n",
       "      <td>4.0</td>\n",
       "      <td>7.0</td>\n",
       "      <td>43.0</td>\n",
       "      <td>57.0</td>\n",
       "    </tr>\n",
       "    <tr>\n",
       "      <th>Rifferswil</th>\n",
       "      <td>3.0</td>\n",
       "      <td>4.0</td>\n",
       "      <td>7.0</td>\n",
       "      <td>43.0</td>\n",
       "      <td>57.0</td>\n",
       "    </tr>\n",
       "    <tr>\n",
       "      <th>Ottenbach</th>\n",
       "      <td>3.0</td>\n",
       "      <td>3.0</td>\n",
       "      <td>6.0</td>\n",
       "      <td>50.0</td>\n",
       "      <td>50.0</td>\n",
       "    </tr>\n",
       "    <tr>\n",
       "      <th>Stallikon</th>\n",
       "      <td>3.0</td>\n",
       "      <td>3.0</td>\n",
       "      <td>6.0</td>\n",
       "      <td>50.0</td>\n",
       "      <td>50.0</td>\n",
       "    </tr>\n",
       "    <tr>\n",
       "      <th>Stammheim</th>\n",
       "      <td>3.0</td>\n",
       "      <td>3.0</td>\n",
       "      <td>6.0</td>\n",
       "      <td>50.0</td>\n",
       "      <td>50.0</td>\n",
       "    </tr>\n",
       "    <tr>\n",
       "      <th>Mönchaltorf</th>\n",
       "      <td>3.0</td>\n",
       "      <td>3.0</td>\n",
       "      <td>6.0</td>\n",
       "      <td>50.0</td>\n",
       "      <td>50.0</td>\n",
       "    </tr>\n",
       "    <tr>\n",
       "      <th>Dättlikon</th>\n",
       "      <td>3.0</td>\n",
       "      <td>3.0</td>\n",
       "      <td>6.0</td>\n",
       "      <td>50.0</td>\n",
       "      <td>50.0</td>\n",
       "    </tr>\n",
       "  </tbody>\n",
       "</table>\n",
       "</div>"
      ],
      "text/plain": [
       "Geschlecht         m    w  total    m%    w%\n",
       "Gemeinde                                    \n",
       "Aeugst am Albis  3.0  5.0    8.0  38.0  62.0\n",
       "Regensberg       2.0  3.0    5.0  40.0  60.0\n",
       "Boppelsen        2.0  3.0    5.0  40.0  60.0\n",
       "Kappel am Albis  2.0  3.0    5.0  40.0  60.0\n",
       "Wiesendangen     3.0  4.0    7.0  43.0  57.0\n",
       "Kilchberg (ZH)   3.0  4.0    7.0  43.0  57.0\n",
       "Marthalen        3.0  4.0    7.0  43.0  57.0\n",
       "Uster            3.0  4.0    7.0  43.0  57.0\n",
       "Rümlang          3.0  4.0    7.0  43.0  57.0\n",
       "Rifferswil       3.0  4.0    7.0  43.0  57.0\n",
       "Ottenbach        3.0  3.0    6.0  50.0  50.0\n",
       "Stallikon        3.0  3.0    6.0  50.0  50.0\n",
       "Stammheim        3.0  3.0    6.0  50.0  50.0\n",
       "Mönchaltorf      3.0  3.0    6.0  50.0  50.0\n",
       "Dättlikon        3.0  3.0    6.0  50.0  50.0"
      ]
     },
     "execution_count": 43,
     "metadata": {},
     "output_type": "execute_result"
    }
   ],
   "source": [
    "df_g = df_g.sort_values('w%', ascending=False)\n",
    "df_g[df_g['w%'] >= 50]"
   ]
  },
  {
   "cell_type": "code",
   "execution_count": 54,
   "metadata": {},
   "outputs": [
    {
     "data": {
      "text/html": [
       "<div>\n",
       "<style scoped>\n",
       "    .dataframe tbody tr th:only-of-type {\n",
       "        vertical-align: middle;\n",
       "    }\n",
       "\n",
       "    .dataframe tbody tr th {\n",
       "        vertical-align: top;\n",
       "    }\n",
       "\n",
       "    .dataframe thead th {\n",
       "        text-align: right;\n",
       "    }\n",
       "</style>\n",
       "<table border=\"1\" class=\"dataframe\">\n",
       "  <thead>\n",
       "    <tr style=\"text-align: right;\">\n",
       "      <th>Geschlecht</th>\n",
       "      <th>m</th>\n",
       "      <th>w</th>\n",
       "      <th>total</th>\n",
       "      <th>m%</th>\n",
       "      <th>w%</th>\n",
       "    </tr>\n",
       "    <tr>\n",
       "      <th>Gemeinde</th>\n",
       "      <th></th>\n",
       "      <th></th>\n",
       "      <th></th>\n",
       "      <th></th>\n",
       "      <th></th>\n",
       "    </tr>\n",
       "  </thead>\n",
       "  <tbody>\n",
       "    <tr>\n",
       "      <th>Aeugst am Albis</th>\n",
       "      <td>3.0</td>\n",
       "      <td>5.0</td>\n",
       "      <td>8.0</td>\n",
       "      <td>38.0</td>\n",
       "      <td>62.0</td>\n",
       "    </tr>\n",
       "    <tr>\n",
       "      <th>Rüti (ZH)</th>\n",
       "      <td>5.0</td>\n",
       "      <td>4.0</td>\n",
       "      <td>9.0</td>\n",
       "      <td>56.0</td>\n",
       "      <td>44.0</td>\n",
       "    </tr>\n",
       "    <tr>\n",
       "      <th>Richterswil</th>\n",
       "      <td>5.0</td>\n",
       "      <td>4.0</td>\n",
       "      <td>9.0</td>\n",
       "      <td>56.0</td>\n",
       "      <td>44.0</td>\n",
       "    </tr>\n",
       "    <tr>\n",
       "      <th>Stäfa</th>\n",
       "      <td>5.0</td>\n",
       "      <td>4.0</td>\n",
       "      <td>9.0</td>\n",
       "      <td>56.0</td>\n",
       "      <td>44.0</td>\n",
       "    </tr>\n",
       "    <tr>\n",
       "      <th>Kilchberg (ZH)</th>\n",
       "      <td>3.0</td>\n",
       "      <td>4.0</td>\n",
       "      <td>7.0</td>\n",
       "      <td>43.0</td>\n",
       "      <td>57.0</td>\n",
       "    </tr>\n",
       "  </tbody>\n",
       "</table>\n",
       "</div>"
      ],
      "text/plain": [
       "Geschlecht         m    w  total    m%    w%\n",
       "Gemeinde                                    \n",
       "Aeugst am Albis  3.0  5.0    8.0  38.0  62.0\n",
       "Rüti (ZH)        5.0  4.0    9.0  56.0  44.0\n",
       "Richterswil      5.0  4.0    9.0  56.0  44.0\n",
       "Stäfa            5.0  4.0    9.0  56.0  44.0\n",
       "Kilchberg (ZH)   3.0  4.0    7.0  43.0  57.0"
      ]
     },
     "execution_count": 54,
     "metadata": {},
     "output_type": "execute_result"
    }
   ],
   "source": [
    "df_g.sort_values('w', ascending=False).head()"
   ]
  },
  {
   "cell_type": "markdown",
   "metadata": {},
   "source": [
    "## Gemeinderäte mit nur Männer, nur Frauen"
   ]
  },
  {
   "cell_type": "code",
   "execution_count": 44,
   "metadata": {},
   "outputs": [
    {
     "name": "stdout",
     "output_type": "stream",
     "text": [
      "Reine Männer-Räte: 13\n",
      "Reine Frauen-Räte: 0\n"
     ]
    }
   ],
   "source": [
    "df_g = pd.pivot_table(df, 'Name', 'Gemeinde', columns='Geschlecht', aggfunc='count')\n",
    "df_g['w'] = df_g['w'].fillna(0)\n",
    "df_g['total'] = df_g.m + df_g.w\n",
    "df_g['m%'] = round(100 / df_g.total * df_g.m)\n",
    "df_g['w%'] = round(100 / df_g.total * df_g.w)\n",
    "\n",
    "print('Reine Männer-Räte: %s' % len(df_g[df_g['m%'] == 100]))\n",
    "print('Reine Frauen-Räte: %s' % len(df_g[df_g['w%'] == 100]))"
   ]
  },
  {
   "cell_type": "markdown",
   "metadata": {},
   "source": [
    "## Gemeinderäte mit Mehrheit Frauen/Männer"
   ]
  },
  {
   "cell_type": "code",
   "execution_count": 45,
   "metadata": {},
   "outputs": [
    {
     "name": "stdout",
     "output_type": "stream",
     "text": [
      "Männer mehr 50 Prozent+: 152\n",
      "Frauen mehr 50 Prozent+: 15\n"
     ]
    }
   ],
   "source": [
    "df_g = pd.pivot_table(df, 'Name', 'Gemeinde', columns='Geschlecht', aggfunc='count')\n",
    "df_g['w'] = df_g['w'].fillna(0)\n",
    "df_g['total'] = df_g.m + df_g.w\n",
    "df_g['m%'] = round(100 / df_g.total * df_g.m)\n",
    "df_g['w%'] = round(100 / df_g.total * df_g.w)\n",
    "\n",
    "print(\"Männer mehr 50 Prozent+: %s\" % len(df_g[df_g['m%'] >= 50]))\n",
    "print(\"Frauen mehr 50 Prozent+: %s\" % len(df_g[df_g['w%'] >= 50]))"
   ]
  },
  {
   "cell_type": "markdown",
   "metadata": {},
   "source": [
    "## Das Gemeindepräsidium ('chair') ist..."
   ]
  },
  {
   "cell_type": "code",
   "execution_count": 48,
   "metadata": {},
   "outputs": [
    {
     "data": {
      "text/html": [
       "<div>\n",
       "<style scoped>\n",
       "    .dataframe tbody tr th:only-of-type {\n",
       "        vertical-align: middle;\n",
       "    }\n",
       "\n",
       "    .dataframe tbody tr th {\n",
       "        vertical-align: top;\n",
       "    }\n",
       "\n",
       "    .dataframe thead th {\n",
       "        text-align: right;\n",
       "    }\n",
       "</style>\n",
       "<table border=\"1\" class=\"dataframe\">\n",
       "  <thead>\n",
       "    <tr style=\"text-align: right;\">\n",
       "      <th>Geschlecht</th>\n",
       "      <th>m</th>\n",
       "      <th>w</th>\n",
       "      <th>m%</th>\n",
       "      <th>w%</th>\n",
       "    </tr>\n",
       "    <tr>\n",
       "      <th>Funktion</th>\n",
       "      <th></th>\n",
       "      <th></th>\n",
       "      <th></th>\n",
       "      <th></th>\n",
       "    </tr>\n",
       "  </thead>\n",
       "  <tbody>\n",
       "    <tr>\n",
       "      <th>chair</th>\n",
       "      <td>133</td>\n",
       "      <td>29</td>\n",
       "      <td>82.0</td>\n",
       "      <td>18.0</td>\n",
       "    </tr>\n",
       "    <tr>\n",
       "      <th>school</th>\n",
       "      <td>3</td>\n",
       "      <td>6</td>\n",
       "      <td>33.0</td>\n",
       "      <td>67.0</td>\n",
       "    </tr>\n",
       "  </tbody>\n",
       "</table>\n",
       "</div>"
      ],
      "text/plain": [
       "Geschlecht    m   w    m%    w%\n",
       "Funktion                       \n",
       "chair       133  29  82.0  18.0\n",
       "school        3   6  33.0  67.0"
      ]
     },
     "execution_count": 48,
     "metadata": {},
     "output_type": "execute_result"
    }
   ],
   "source": [
    "df_pr = pd.pivot_table(df, index='Funktion', columns='Geschlecht', values='Name', aggfunc='count')\n",
    "#df_pr = df_pr[df_pr.Funktion == 'chair']\n",
    "df_pr['m%'] = round(100 / (df_pr['m'] + df_pr['w']) * df_pr['m'])\n",
    "df_pr['w%'] = round(100 / (df_pr['m'] + df_pr['w']) * df_pr['w'])\n",
    "\n",
    "df_pr.head()"
   ]
  },
  {
   "cell_type": "markdown",
   "metadata": {},
   "source": [
    "## Jüngsten Frauen"
   ]
  },
  {
   "cell_type": "code",
   "execution_count": 51,
   "metadata": {},
   "outputs": [
    {
     "data": {
      "text/html": [
       "<div>\n",
       "<style scoped>\n",
       "    .dataframe tbody tr th:only-of-type {\n",
       "        vertical-align: middle;\n",
       "    }\n",
       "\n",
       "    .dataframe tbody tr th {\n",
       "        vertical-align: top;\n",
       "    }\n",
       "\n",
       "    .dataframe thead th {\n",
       "        text-align: right;\n",
       "    }\n",
       "</style>\n",
       "<table border=\"1\" class=\"dataframe\">\n",
       "  <thead>\n",
       "    <tr style=\"text-align: right;\">\n",
       "      <th></th>\n",
       "      <th>Gemeinde</th>\n",
       "      <th>Name</th>\n",
       "      <th>Name_cleaned</th>\n",
       "      <th>Jahrgang</th>\n",
       "      <th>Geschlecht</th>\n",
       "      <th>Partei</th>\n",
       "      <th>Funktion</th>\n",
       "      <th>Hinweis</th>\n",
       "      <th>jahrgang_nicht_zugeordnet</th>\n",
       "      <th>partei_nicht_zugeordnet</th>\n",
       "      <th>Gecheckt 2021</th>\n",
       "      <th>Alter</th>\n",
       "      <th>partei_c</th>\n",
       "    </tr>\n",
       "  </thead>\n",
       "  <tbody>\n",
       "    <tr>\n",
       "      <th>544</th>\n",
       "      <td>Dürnten</td>\n",
       "      <td>Jasmin Aeschbacher\\nRessort Schutz + Sicherheit</td>\n",
       "      <td>Jasmin Aeschbacher</td>\n",
       "      <td>1993</td>\n",
       "      <td>w</td>\n",
       "      <td>FDV (Freie Demokratische Vereinigung)</td>\n",
       "      <td>NaN</td>\n",
       "      <td>NaN</td>\n",
       "      <td>False</td>\n",
       "      <td>False</td>\n",
       "      <td>x</td>\n",
       "      <td>28</td>\n",
       "      <td>verschiedene</td>\n",
       "    </tr>\n",
       "    <tr>\n",
       "      <th>507</th>\n",
       "      <td>Glattfelden</td>\n",
       "      <td>Michèle Dünki, SP, Jahrgang 1989</td>\n",
       "      <td>Michèle Dünki</td>\n",
       "      <td>1989</td>\n",
       "      <td>w</td>\n",
       "      <td>SP</td>\n",
       "      <td>NaN</td>\n",
       "      <td>NaN</td>\n",
       "      <td>False</td>\n",
       "      <td>False</td>\n",
       "      <td>x</td>\n",
       "      <td>32</td>\n",
       "      <td>sp</td>\n",
       "    </tr>\n",
       "    <tr>\n",
       "      <th>461</th>\n",
       "      <td>Ossingen</td>\n",
       "      <td>Daniela Meier</td>\n",
       "      <td>Daniela Meier</td>\n",
       "      <td>1988</td>\n",
       "      <td>w</td>\n",
       "      <td>parteilos</td>\n",
       "      <td>NaN</td>\n",
       "      <td>NaN</td>\n",
       "      <td>False</td>\n",
       "      <td>False</td>\n",
       "      <td>x</td>\n",
       "      <td>33</td>\n",
       "      <td>parteilos</td>\n",
       "    </tr>\n",
       "    <tr>\n",
       "      <th>656</th>\n",
       "      <td>Schleinikon</td>\n",
       "      <td>Gemeindepräsidentin Florina Böhler, parteilos,...</td>\n",
       "      <td>Florina Böhler</td>\n",
       "      <td>1987</td>\n",
       "      <td>w</td>\n",
       "      <td>parteilos</td>\n",
       "      <td>chair</td>\n",
       "      <td>NaN</td>\n",
       "      <td>False</td>\n",
       "      <td>False</td>\n",
       "      <td>x</td>\n",
       "      <td>34</td>\n",
       "      <td>parteilos</td>\n",
       "    </tr>\n",
       "    <tr>\n",
       "      <th>255</th>\n",
       "      <td>Freienstein-Teufen</td>\n",
       "      <td>Simona Hofmann, Jg. 1984</td>\n",
       "      <td>Simona Hofmann</td>\n",
       "      <td>1984</td>\n",
       "      <td>w</td>\n",
       "      <td>parteilos</td>\n",
       "      <td>NaN</td>\n",
       "      <td>NaN</td>\n",
       "      <td>False</td>\n",
       "      <td>False</td>\n",
       "      <td>x</td>\n",
       "      <td>37</td>\n",
       "      <td>parteilos</td>\n",
       "    </tr>\n",
       "  </tbody>\n",
       "</table>\n",
       "</div>"
      ],
      "text/plain": [
       "               Gemeinde                                               Name  \\\n",
       "544             Dürnten    Jasmin Aeschbacher\\nRessort Schutz + Sicherheit   \n",
       "507         Glattfelden                   Michèle Dünki, SP, Jahrgang 1989   \n",
       "461            Ossingen                                      Daniela Meier   \n",
       "656         Schleinikon  Gemeindepräsidentin Florina Böhler, parteilos,...   \n",
       "255  Freienstein-Teufen                           Simona Hofmann, Jg. 1984   \n",
       "\n",
       "           Name_cleaned Jahrgang Geschlecht  \\\n",
       "544  Jasmin Aeschbacher     1993          w   \n",
       "507       Michèle Dünki     1989          w   \n",
       "461       Daniela Meier     1988          w   \n",
       "656      Florina Böhler     1987          w   \n",
       "255      Simona Hofmann     1984          w   \n",
       "\n",
       "                                    Partei Funktion Hinweis  \\\n",
       "544  FDV (Freie Demokratische Vereinigung)      NaN     NaN   \n",
       "507                                     SP      NaN     NaN   \n",
       "461                              parteilos      NaN     NaN   \n",
       "656                              parteilos    chair     NaN   \n",
       "255                              parteilos      NaN     NaN   \n",
       "\n",
       "    jahrgang_nicht_zugeordnet  partei_nicht_zugeordnet Gecheckt 2021 Alter  \\\n",
       "544                     False                    False             x    28   \n",
       "507                     False                    False             x    32   \n",
       "461                     False                    False             x    33   \n",
       "656                     False                    False             x    34   \n",
       "255                     False                    False             x    37   \n",
       "\n",
       "         partei_c  \n",
       "544  verschiedene  \n",
       "507            sp  \n",
       "461     parteilos  \n",
       "656     parteilos  \n",
       "255     parteilos  "
      ]
     },
     "execution_count": 51,
     "metadata": {},
     "output_type": "execute_result"
    }
   ],
   "source": [
    "df[df.Geschlecht == 'w'].sort_values('Alter', ascending=True).head()"
   ]
  },
  {
   "cell_type": "markdown",
   "metadata": {},
   "source": [
    "## Einzelne Frau im Gemeinderat?"
   ]
  },
  {
   "cell_type": "code",
   "execution_count": 52,
   "metadata": {},
   "outputs": [
    {
     "data": {
      "text/plain": [
       "60"
      ]
     },
     "execution_count": 52,
     "metadata": {},
     "output_type": "execute_result"
    }
   ],
   "source": [
    "df_w = pd.pivot_table(df, index='Gemeinde', columns='Geschlecht', values='Name', aggfunc='count')\n",
    "len(df_w[df_w.w == 1])"
   ]
  },
  {
   "cell_type": "markdown",
   "metadata": {},
   "source": [
    "## Gemeindepräsidentinnen vs Präsidenten"
   ]
  },
  {
   "cell_type": "code",
   "execution_count": 53,
   "metadata": {},
   "outputs": [
    {
     "data": {
      "text/html": [
       "<div>\n",
       "<style scoped>\n",
       "    .dataframe tbody tr th:only-of-type {\n",
       "        vertical-align: middle;\n",
       "    }\n",
       "\n",
       "    .dataframe tbody tr th {\n",
       "        vertical-align: top;\n",
       "    }\n",
       "\n",
       "    .dataframe thead th {\n",
       "        text-align: right;\n",
       "    }\n",
       "</style>\n",
       "<table border=\"1\" class=\"dataframe\">\n",
       "  <thead>\n",
       "    <tr style=\"text-align: right;\">\n",
       "      <th></th>\n",
       "      <th>Gemeinde</th>\n",
       "      <th>Name</th>\n",
       "      <th>Name_cleaned</th>\n",
       "      <th>Jahrgang</th>\n",
       "      <th>Partei</th>\n",
       "      <th>Funktion</th>\n",
       "      <th>Hinweis</th>\n",
       "      <th>jahrgang_nicht_zugeordnet</th>\n",
       "      <th>partei_nicht_zugeordnet</th>\n",
       "      <th>Gecheckt 2021</th>\n",
       "      <th>Alter</th>\n",
       "      <th>partei_c</th>\n",
       "    </tr>\n",
       "    <tr>\n",
       "      <th>Geschlecht</th>\n",
       "      <th></th>\n",
       "      <th></th>\n",
       "      <th></th>\n",
       "      <th></th>\n",
       "      <th></th>\n",
       "      <th></th>\n",
       "      <th></th>\n",
       "      <th></th>\n",
       "      <th></th>\n",
       "      <th></th>\n",
       "      <th></th>\n",
       "      <th></th>\n",
       "    </tr>\n",
       "  </thead>\n",
       "  <tbody>\n",
       "    <tr>\n",
       "      <th>m</th>\n",
       "      <td>133</td>\n",
       "      <td>133</td>\n",
       "      <td>133</td>\n",
       "      <td>131</td>\n",
       "      <td>132</td>\n",
       "      <td>133</td>\n",
       "      <td>4</td>\n",
       "      <td>133</td>\n",
       "      <td>133</td>\n",
       "      <td>133</td>\n",
       "      <td>131</td>\n",
       "      <td>133</td>\n",
       "    </tr>\n",
       "    <tr>\n",
       "      <th>w</th>\n",
       "      <td>29</td>\n",
       "      <td>29</td>\n",
       "      <td>29</td>\n",
       "      <td>28</td>\n",
       "      <td>29</td>\n",
       "      <td>29</td>\n",
       "      <td>1</td>\n",
       "      <td>29</td>\n",
       "      <td>29</td>\n",
       "      <td>29</td>\n",
       "      <td>28</td>\n",
       "      <td>29</td>\n",
       "    </tr>\n",
       "  </tbody>\n",
       "</table>\n",
       "</div>"
      ],
      "text/plain": [
       "            Gemeinde  Name  Name_cleaned  Jahrgang  Partei  Funktion  Hinweis  \\\n",
       "Geschlecht                                                                      \n",
       "m                133   133           133       131     132       133        4   \n",
       "w                 29    29            29        28      29        29        1   \n",
       "\n",
       "            jahrgang_nicht_zugeordnet  partei_nicht_zugeordnet  Gecheckt 2021  \\\n",
       "Geschlecht                                                                      \n",
       "m                                 133                      133            133   \n",
       "w                                  29                       29             29   \n",
       "\n",
       "            Alter  partei_c  \n",
       "Geschlecht                   \n",
       "m             131       133  \n",
       "w              28        29  "
      ]
     },
     "execution_count": 53,
     "metadata": {},
     "output_type": "execute_result"
    }
   ],
   "source": [
    "df[df.Funktion == 'chair'].groupby('Geschlecht').count()"
   ]
  }
 ],
 "metadata": {
  "kernelspec": {
   "display_name": "Python39",
   "language": "python",
   "name": "python39"
  },
  "language_info": {
   "codemirror_mode": {
    "name": "ipython",
    "version": 3
   },
   "file_extension": ".py",
   "mimetype": "text/x-python",
   "name": "python",
   "nbconvert_exporter": "python",
   "pygments_lexer": "ipython3",
   "version": "3.9.0"
  }
 },
 "nbformat": 4,
 "nbformat_minor": 4
}
