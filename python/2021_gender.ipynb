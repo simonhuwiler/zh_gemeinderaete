{
 "cells": [
  {
   "cell_type": "markdown",
   "metadata": {},
   "source": [
    "# 2021 Gender\n"
   ]
  },
  {
   "cell_type": "code",
   "execution_count": 40,
   "metadata": {},
   "outputs": [],
   "source": [
    "import pandas as pd\n",
    "import numpy as np\n",
    "import math\n",
    "import cleandata as cd"
   ]
  },
  {
   "cell_type": "code",
   "execution_count": 41,
   "metadata": {},
   "outputs": [],
   "source": [
    "df = pd.read_csv('../data/Gemeinde_Exekutive - daten.csv')"
   ]
  },
  {
   "cell_type": "markdown",
   "metadata": {},
   "source": [
    "## Clean Data"
   ]
  },
  {
   "cell_type": "code",
   "execution_count": 42,
   "metadata": {},
   "outputs": [
    {
     "name": "stdout",
     "output_type": "stream",
     "text": [
      "Jahrgänge nicht zugeordnet: 15\n",
      "Partei nicht zugeordnet: 9\n",
      "Keine Jahrgänge: 21\n"
     ]
    }
   ],
   "source": [
    "df = cd.clean(df)"
   ]
  },
  {
   "cell_type": "code",
   "execution_count": 54,
   "metadata": {},
   "outputs": [
    {
     "data": {
      "text/html": [
       "<div>\n",
       "<style scoped>\n",
       "    .dataframe tbody tr th:only-of-type {\n",
       "        vertical-align: middle;\n",
       "    }\n",
       "\n",
       "    .dataframe tbody tr th {\n",
       "        vertical-align: top;\n",
       "    }\n",
       "\n",
       "    .dataframe thead th {\n",
       "        text-align: right;\n",
       "    }\n",
       "</style>\n",
       "<table border=\"1\" class=\"dataframe\">\n",
       "  <thead>\n",
       "    <tr style=\"text-align: right;\">\n",
       "      <th></th>\n",
       "      <th>Gemeinde</th>\n",
       "      <th>Name</th>\n",
       "      <th>Name_cleaned</th>\n",
       "      <th>Jahrgang</th>\n",
       "      <th>Geschlecht</th>\n",
       "      <th>Partei</th>\n",
       "      <th>Funktion</th>\n",
       "      <th>Hinweis</th>\n",
       "      <th>jahrgang_nicht_zugeordnet</th>\n",
       "      <th>partei_nicht_zugeordnet</th>\n",
       "      <th>Gecheckt 2021</th>\n",
       "      <th>Alter</th>\n",
       "      <th>partei_c</th>\n",
       "    </tr>\n",
       "  </thead>\n",
       "  <tbody>\n",
       "    <tr>\n",
       "      <th>43</th>\n",
       "      <td>Stallikon</td>\n",
       "      <td>Werner Michel, 1949, parteilos</td>\n",
       "      <td>Werner Michel</td>\n",
       "      <td>1949.0</td>\n",
       "      <td>m</td>\n",
       "      <td>parteilos</td>\n",
       "      <td>chair</td>\n",
       "      <td>NaN</td>\n",
       "      <td>False</td>\n",
       "      <td>False</td>\n",
       "      <td>x</td>\n",
       "      <td>72.0</td>\n",
       "      <td>parteilos</td>\n",
       "    </tr>\n",
       "    <tr>\n",
       "      <th>44</th>\n",
       "      <td>Stallikon</td>\n",
       "      <td>Robert Sidler, 1955, SVP</td>\n",
       "      <td>Robert Sidler</td>\n",
       "      <td>1955.0</td>\n",
       "      <td>m</td>\n",
       "      <td>SVP</td>\n",
       "      <td>NaN</td>\n",
       "      <td>NaN</td>\n",
       "      <td>False</td>\n",
       "      <td>False</td>\n",
       "      <td>x</td>\n",
       "      <td>66.0</td>\n",
       "      <td>svp</td>\n",
       "    </tr>\n",
       "    <tr>\n",
       "      <th>45</th>\n",
       "      <td>Stallikon</td>\n",
       "      <td>Monika Rohr, 1952, FDP</td>\n",
       "      <td>Monika Rohr</td>\n",
       "      <td>1952.0</td>\n",
       "      <td>w</td>\n",
       "      <td>FDP</td>\n",
       "      <td>NaN</td>\n",
       "      <td>NaN</td>\n",
       "      <td>False</td>\n",
       "      <td>False</td>\n",
       "      <td>x</td>\n",
       "      <td>69.0</td>\n",
       "      <td>fdp</td>\n",
       "    </tr>\n",
       "    <tr>\n",
       "      <th>46</th>\n",
       "      <td>Stallikon</td>\n",
       "      <td>Valerie Battiston, 1970, parteilos</td>\n",
       "      <td>Valerie Battiston</td>\n",
       "      <td>1970.0</td>\n",
       "      <td>w</td>\n",
       "      <td>parteilos</td>\n",
       "      <td>NaN</td>\n",
       "      <td>NaN</td>\n",
       "      <td>False</td>\n",
       "      <td>False</td>\n",
       "      <td>x</td>\n",
       "      <td>51.0</td>\n",
       "      <td>parteilos</td>\n",
       "    </tr>\n",
       "    <tr>\n",
       "      <th>47</th>\n",
       "      <td>Stallikon</td>\n",
       "      <td>Remo Hablützel, 1983, FDP</td>\n",
       "      <td>Remo Hablützel</td>\n",
       "      <td>1983.0</td>\n",
       "      <td>m</td>\n",
       "      <td>FDP</td>\n",
       "      <td>NaN</td>\n",
       "      <td>NaN</td>\n",
       "      <td>False</td>\n",
       "      <td>False</td>\n",
       "      <td>x</td>\n",
       "      <td>38.0</td>\n",
       "      <td>fdp</td>\n",
       "    </tr>\n",
       "    <tr>\n",
       "      <th>48</th>\n",
       "      <td>Stallikon</td>\n",
       "      <td>Ingrid Spiess, 1956, EVP</td>\n",
       "      <td>Ingrid Spiess</td>\n",
       "      <td>1956.0</td>\n",
       "      <td>w</td>\n",
       "      <td>EVP</td>\n",
       "      <td>NaN</td>\n",
       "      <td>NaN</td>\n",
       "      <td>False</td>\n",
       "      <td>False</td>\n",
       "      <td>x</td>\n",
       "      <td>65.0</td>\n",
       "      <td>evp</td>\n",
       "    </tr>\n",
       "  </tbody>\n",
       "</table>\n",
       "</div>"
      ],
      "text/plain": [
       "     Gemeinde                                Name       Name_cleaned  \\\n",
       "43  Stallikon      Werner Michel, 1949, parteilos      Werner Michel   \n",
       "44  Stallikon            Robert Sidler, 1955, SVP      Robert Sidler   \n",
       "45  Stallikon              Monika Rohr, 1952, FDP        Monika Rohr   \n",
       "46  Stallikon  Valerie Battiston, 1970, parteilos  Valerie Battiston   \n",
       "47  Stallikon           Remo Hablützel, 1983, FDP     Remo Hablützel   \n",
       "48  Stallikon            Ingrid Spiess, 1956, EVP      Ingrid Spiess   \n",
       "\n",
       "    Jahrgang Geschlecht     Partei Funktion Hinweis  \\\n",
       "43    1949.0          m  parteilos    chair     NaN   \n",
       "44    1955.0          m        SVP      NaN     NaN   \n",
       "45    1952.0          w        FDP      NaN     NaN   \n",
       "46    1970.0          w  parteilos      NaN     NaN   \n",
       "47    1983.0          m        FDP      NaN     NaN   \n",
       "48    1956.0          w        EVP      NaN     NaN   \n",
       "\n",
       "    jahrgang_nicht_zugeordnet  partei_nicht_zugeordnet Gecheckt 2021  Alter  \\\n",
       "43                      False                    False             x   72.0   \n",
       "44                      False                    False             x   66.0   \n",
       "45                      False                    False             x   69.0   \n",
       "46                      False                    False             x   51.0   \n",
       "47                      False                    False             x   38.0   \n",
       "48                      False                    False             x   65.0   \n",
       "\n",
       "     partei_c  \n",
       "43  parteilos  \n",
       "44        svp  \n",
       "45        fdp  \n",
       "46  parteilos  \n",
       "47        fdp  \n",
       "48        evp  "
      ]
     },
     "execution_count": 54,
     "metadata": {},
     "output_type": "execute_result"
    }
   ],
   "source": [
    "df[df.Gemeinde == 'Stallikon']"
   ]
  },
  {
   "cell_type": "markdown",
   "metadata": {},
   "source": [
    "## Geschlechterverhältnis"
   ]
  },
  {
   "cell_type": "code",
   "execution_count": 43,
   "metadata": {},
   "outputs": [
    {
     "data": {
      "text/html": [
       "<div>\n",
       "<style scoped>\n",
       "    .dataframe tbody tr th:only-of-type {\n",
       "        vertical-align: middle;\n",
       "    }\n",
       "\n",
       "    .dataframe tbody tr th {\n",
       "        vertical-align: top;\n",
       "    }\n",
       "\n",
       "    .dataframe thead th {\n",
       "        text-align: right;\n",
       "    }\n",
       "</style>\n",
       "<table border=\"1\" class=\"dataframe\">\n",
       "  <thead>\n",
       "    <tr style=\"text-align: right;\">\n",
       "      <th></th>\n",
       "      <th>Name</th>\n",
       "      <th>prozent</th>\n",
       "    </tr>\n",
       "    <tr>\n",
       "      <th>Geschlecht</th>\n",
       "      <th></th>\n",
       "      <th></th>\n",
       "    </tr>\n",
       "  </thead>\n",
       "  <tbody>\n",
       "    <tr>\n",
       "      <th>m</th>\n",
       "      <td>737</td>\n",
       "      <td>72.2</td>\n",
       "    </tr>\n",
       "    <tr>\n",
       "      <th>w</th>\n",
       "      <td>282</td>\n",
       "      <td>27.6</td>\n",
       "    </tr>\n",
       "  </tbody>\n",
       "</table>\n",
       "</div>"
      ],
      "text/plain": [
       "            Name  prozent\n",
       "Geschlecht               \n",
       "m            737     72.2\n",
       "w            282     27.6"
      ]
     },
     "execution_count": 43,
     "metadata": {},
     "output_type": "execute_result"
    }
   ],
   "source": [
    "grGender = df.groupby('Geschlecht').agg({'Name': 'count'})\n",
    "grGender['prozent'] = round(100 / len(df) * grGender.Name, 1)\n",
    "grGender"
   ]
  },
  {
   "cell_type": "code",
   "execution_count": 36,
   "metadata": {},
   "outputs": [
    {
     "data": {
      "text/plain": [
       "1021"
      ]
     },
     "execution_count": 36,
     "metadata": {},
     "output_type": "execute_result"
    }
   ],
   "source": [
    "len(df)"
   ]
  },
  {
   "cell_type": "markdown",
   "metadata": {},
   "source": [
    "## Frauen und Präsidenten - Export für DataWrapper"
   ]
  },
  {
   "cell_type": "code",
   "execution_count": 52,
   "metadata": {},
   "outputs": [],
   "source": [
    "df_1 = df.groupby('Geschlecht').agg({'Name': 'count'})\n",
    "df_1.rename(columns={'Name': 'In der Exekutiven'}, inplace=True)\n",
    "\n",
    "df_p = df[df.Funktion == 'chair'].groupby('Geschlecht').agg({'Name': 'count'})\n",
    "df_p.rename(columns={'Name': 'Im Präsidium'}, inplace=True)\n",
    "\n",
    "df_1 = df_1.join(df_p).reset_index()\n",
    "\n",
    "df_1['Geschlecht'] = df_1['Geschlecht'].apply(lambda x: 'Männer' if x == 'm' else 'Frauen')\n",
    "\n",
    "df_1.to_csv('../export/gender.csv', index=False)"
   ]
  },
  {
   "cell_type": "code",
   "execution_count": 45,
   "metadata": {},
   "outputs": [
    {
     "data": {
      "text/html": [
       "<div>\n",
       "<style scoped>\n",
       "    .dataframe tbody tr th:only-of-type {\n",
       "        vertical-align: middle;\n",
       "    }\n",
       "\n",
       "    .dataframe tbody tr th {\n",
       "        vertical-align: top;\n",
       "    }\n",
       "\n",
       "    .dataframe thead th {\n",
       "        text-align: right;\n",
       "    }\n",
       "</style>\n",
       "<table border=\"1\" class=\"dataframe\">\n",
       "  <thead>\n",
       "    <tr style=\"text-align: right;\">\n",
       "      <th></th>\n",
       "      <th>Gemeinde</th>\n",
       "      <th>Name</th>\n",
       "      <th>Name_cleaned</th>\n",
       "      <th>Jahrgang</th>\n",
       "      <th>Geschlecht</th>\n",
       "      <th>Partei</th>\n",
       "      <th>Funktion</th>\n",
       "      <th>Hinweis</th>\n",
       "      <th>jahrgang_nicht_zugeordnet</th>\n",
       "      <th>partei_nicht_zugeordnet</th>\n",
       "      <th>Gecheckt 2021</th>\n",
       "      <th>Alter</th>\n",
       "      <th>partei_c</th>\n",
       "    </tr>\n",
       "  </thead>\n",
       "  <tbody>\n",
       "    <tr>\n",
       "      <th>0</th>\n",
       "      <td>Zell (ZH)</td>\n",
       "      <td>Stefan Deinböck</td>\n",
       "      <td>Stefan Deinböck</td>\n",
       "      <td>1967.0</td>\n",
       "      <td>m</td>\n",
       "      <td>FDP</td>\n",
       "      <td>NaN</td>\n",
       "      <td>NaN</td>\n",
       "      <td>False</td>\n",
       "      <td>False</td>\n",
       "      <td>x</td>\n",
       "      <td>54.0</td>\n",
       "      <td>fdp</td>\n",
       "    </tr>\n",
       "    <tr>\n",
       "      <th>1</th>\n",
       "      <td>Zell (ZH)</td>\n",
       "      <td>Regula Ehrismann</td>\n",
       "      <td>Regula Ehrismann</td>\n",
       "      <td>1964.0</td>\n",
       "      <td>w</td>\n",
       "      <td>EVP</td>\n",
       "      <td>chair</td>\n",
       "      <td>NaN</td>\n",
       "      <td>False</td>\n",
       "      <td>False</td>\n",
       "      <td>x</td>\n",
       "      <td>57.0</td>\n",
       "      <td>evp</td>\n",
       "    </tr>\n",
       "    <tr>\n",
       "      <th>2</th>\n",
       "      <td>Zell (ZH)</td>\n",
       "      <td>Patricia Heuberger</td>\n",
       "      <td>Patricia Heuberger</td>\n",
       "      <td>1979.0</td>\n",
       "      <td>w</td>\n",
       "      <td>SP</td>\n",
       "      <td>NaN</td>\n",
       "      <td>NaN</td>\n",
       "      <td>False</td>\n",
       "      <td>False</td>\n",
       "      <td>x</td>\n",
       "      <td>42.0</td>\n",
       "      <td>sp</td>\n",
       "    </tr>\n",
       "    <tr>\n",
       "      <th>3</th>\n",
       "      <td>Zell (ZH)</td>\n",
       "      <td>Markus Kernen</td>\n",
       "      <td>Markus Kernen</td>\n",
       "      <td>1962.0</td>\n",
       "      <td>m</td>\n",
       "      <td>BGV</td>\n",
       "      <td>NaN</td>\n",
       "      <td>NaN</td>\n",
       "      <td>False</td>\n",
       "      <td>False</td>\n",
       "      <td>x</td>\n",
       "      <td>59.0</td>\n",
       "      <td>verschiedene</td>\n",
       "    </tr>\n",
       "    <tr>\n",
       "      <th>4</th>\n",
       "      <td>Zell (ZH)</td>\n",
       "      <td>Susanne Stahl</td>\n",
       "      <td>Susanne Stahl</td>\n",
       "      <td>1958.0</td>\n",
       "      <td>w</td>\n",
       "      <td>SP</td>\n",
       "      <td>NaN</td>\n",
       "      <td>NaN</td>\n",
       "      <td>False</td>\n",
       "      <td>False</td>\n",
       "      <td>x</td>\n",
       "      <td>63.0</td>\n",
       "      <td>sp</td>\n",
       "    </tr>\n",
       "  </tbody>\n",
       "</table>\n",
       "</div>"
      ],
      "text/plain": [
       "    Gemeinde                Name        Name_cleaned  Jahrgang Geschlecht  \\\n",
       "0  Zell (ZH)     Stefan Deinböck     Stefan Deinböck    1967.0          m   \n",
       "1  Zell (ZH)    Regula Ehrismann    Regula Ehrismann    1964.0          w   \n",
       "2  Zell (ZH)  Patricia Heuberger  Patricia Heuberger    1979.0          w   \n",
       "3  Zell (ZH)       Markus Kernen       Markus Kernen    1962.0          m   \n",
       "4  Zell (ZH)       Susanne Stahl       Susanne Stahl    1958.0          w   \n",
       "\n",
       "  Partei Funktion Hinweis  jahrgang_nicht_zugeordnet  partei_nicht_zugeordnet  \\\n",
       "0    FDP      NaN     NaN                      False                    False   \n",
       "1    EVP    chair     NaN                      False                    False   \n",
       "2     SP      NaN     NaN                      False                    False   \n",
       "3    BGV      NaN     NaN                      False                    False   \n",
       "4     SP      NaN     NaN                      False                    False   \n",
       "\n",
       "  Gecheckt 2021  Alter      partei_c  \n",
       "0             x   54.0           fdp  \n",
       "1             x   57.0           evp  \n",
       "2             x   42.0            sp  \n",
       "3             x   59.0  verschiedene  \n",
       "4             x   63.0            sp  "
      ]
     },
     "execution_count": 45,
     "metadata": {},
     "output_type": "execute_result"
    }
   ],
   "source": [
    "df.head()"
   ]
  },
  {
   "cell_type": "markdown",
   "metadata": {},
   "source": [
    "## Der Durchschnitts-Gemeinderat (m/w) ist..."
   ]
  },
  {
   "cell_type": "code",
   "execution_count": 33,
   "metadata": {},
   "outputs": [
    {
     "name": "stdout",
     "output_type": "stream",
     "text": [
      "Männlich\n",
      "55.7 Jahre alt\n",
      "parteilos\n"
     ]
    }
   ],
   "source": [
    "df_alter = df[df.Alter.notna() & df.jahrgang_nicht_zugeordnet.notna()]\n",
    "print(\"Männlich\")\n",
    "print(\"%s Jahre alt\" % round(df_alter.Alter.mean(), 1))\n",
    "print(\"parteilos\")\n"
   ]
  },
  {
   "cell_type": "markdown",
   "metadata": {},
   "source": [
    "## Die Durchschnitts-Gemeinderätin (w) ist..."
   ]
  },
  {
   "cell_type": "code",
   "execution_count": 31,
   "metadata": {},
   "outputs": [
    {
     "name": "stdout",
     "output_type": "stream",
     "text": [
      "54.7 Jahre alt\n",
      "parteilos\n"
     ]
    }
   ],
   "source": [
    "df_alter = df[df.Alter.notna() & df.jahrgang_nicht_zugeordnet.notna()]\n",
    "print(\"%s Jahre alt\" % round(df_alter[df_alter.Geschlecht == 'w'].Alter.mean(), 1))\n",
    "print(\"parteilos\")"
   ]
  },
  {
   "cell_type": "markdown",
   "metadata": {},
   "source": [
    "## Der Durchschnitts-Gemeinderat (m) ist..."
   ]
  },
  {
   "cell_type": "code",
   "execution_count": 32,
   "metadata": {},
   "outputs": [
    {
     "name": "stdout",
     "output_type": "stream",
     "text": [
      "56.0 Jahre alt\n",
      "parteilos\n"
     ]
    }
   ],
   "source": [
    "df_alter = df[df.Alter.notna() & df.jahrgang_nicht_zugeordnet.notna()]\n",
    "print(\"%s Jahre alt\" % round(df_alter[df_alter.Geschlecht == 'm'].Alter.mean(), 1))\n",
    "print(\"parteilos\")"
   ]
  },
  {
   "cell_type": "markdown",
   "metadata": {},
   "source": [
    "## Gendereinseitige Gemeinderäte"
   ]
  },
  {
   "cell_type": "code",
   "execution_count": 13,
   "metadata": {},
   "outputs": [
    {
     "name": "stdout",
     "output_type": "stream",
     "text": [
      "12\n"
     ]
    },
    {
     "data": {
      "text/html": [
       "<div>\n",
       "<style scoped>\n",
       "    .dataframe tbody tr th:only-of-type {\n",
       "        vertical-align: middle;\n",
       "    }\n",
       "\n",
       "    .dataframe tbody tr th {\n",
       "        vertical-align: top;\n",
       "    }\n",
       "\n",
       "    .dataframe thead th {\n",
       "        text-align: right;\n",
       "    }\n",
       "</style>\n",
       "<table border=\"1\" class=\"dataframe\">\n",
       "  <thead>\n",
       "    <tr style=\"text-align: right;\">\n",
       "      <th>Geschlecht</th>\n",
       "      <th>m</th>\n",
       "      <th>w</th>\n",
       "      <th>total</th>\n",
       "      <th>m%</th>\n",
       "      <th>w%</th>\n",
       "    </tr>\n",
       "    <tr>\n",
       "      <th>Gemeinde</th>\n",
       "      <th></th>\n",
       "      <th></th>\n",
       "      <th></th>\n",
       "      <th></th>\n",
       "      <th></th>\n",
       "    </tr>\n",
       "  </thead>\n",
       "  <tbody>\n",
       "    <tr>\n",
       "      <th>Dachsen</th>\n",
       "      <td>5.0</td>\n",
       "      <td>0.0</td>\n",
       "      <td>5.0</td>\n",
       "      <td>100.0</td>\n",
       "      <td>0.0</td>\n",
       "    </tr>\n",
       "    <tr>\n",
       "      <th>Dietikon</th>\n",
       "      <td>7.0</td>\n",
       "      <td>0.0</td>\n",
       "      <td>7.0</td>\n",
       "      <td>100.0</td>\n",
       "      <td>0.0</td>\n",
       "    </tr>\n",
       "    <tr>\n",
       "      <th>Dägerlen</th>\n",
       "      <td>5.0</td>\n",
       "      <td>0.0</td>\n",
       "      <td>5.0</td>\n",
       "      <td>100.0</td>\n",
       "      <td>0.0</td>\n",
       "    </tr>\n",
       "    <tr>\n",
       "      <th>Ellikon an der Thur</th>\n",
       "      <td>5.0</td>\n",
       "      <td>0.0</td>\n",
       "      <td>5.0</td>\n",
       "      <td>100.0</td>\n",
       "      <td>0.0</td>\n",
       "    </tr>\n",
       "    <tr>\n",
       "      <th>Humlikon</th>\n",
       "      <td>5.0</td>\n",
       "      <td>0.0</td>\n",
       "      <td>5.0</td>\n",
       "      <td>100.0</td>\n",
       "      <td>0.0</td>\n",
       "    </tr>\n",
       "    <tr>\n",
       "      <th>Oetwil am See</th>\n",
       "      <td>7.0</td>\n",
       "      <td>0.0</td>\n",
       "      <td>7.0</td>\n",
       "      <td>100.0</td>\n",
       "      <td>0.0</td>\n",
       "    </tr>\n",
       "    <tr>\n",
       "      <th>Regensdorf</th>\n",
       "      <td>7.0</td>\n",
       "      <td>0.0</td>\n",
       "      <td>7.0</td>\n",
       "      <td>100.0</td>\n",
       "      <td>0.0</td>\n",
       "    </tr>\n",
       "    <tr>\n",
       "      <th>Wasterkingen</th>\n",
       "      <td>5.0</td>\n",
       "      <td>0.0</td>\n",
       "      <td>5.0</td>\n",
       "      <td>100.0</td>\n",
       "      <td>0.0</td>\n",
       "    </tr>\n",
       "    <tr>\n",
       "      <th>Weiach</th>\n",
       "      <td>5.0</td>\n",
       "      <td>0.0</td>\n",
       "      <td>5.0</td>\n",
       "      <td>100.0</td>\n",
       "      <td>0.0</td>\n",
       "    </tr>\n",
       "    <tr>\n",
       "      <th>Wila</th>\n",
       "      <td>5.0</td>\n",
       "      <td>0.0</td>\n",
       "      <td>5.0</td>\n",
       "      <td>100.0</td>\n",
       "      <td>0.0</td>\n",
       "    </tr>\n",
       "    <tr>\n",
       "      <th>Winkel</th>\n",
       "      <td>5.0</td>\n",
       "      <td>0.0</td>\n",
       "      <td>5.0</td>\n",
       "      <td>100.0</td>\n",
       "      <td>0.0</td>\n",
       "    </tr>\n",
       "    <tr>\n",
       "      <th>Zumikon</th>\n",
       "      <td>7.0</td>\n",
       "      <td>0.0</td>\n",
       "      <td>7.0</td>\n",
       "      <td>100.0</td>\n",
       "      <td>0.0</td>\n",
       "    </tr>\n",
       "  </tbody>\n",
       "</table>\n",
       "</div>"
      ],
      "text/plain": [
       "Geschlecht             m    w  total     m%   w%\n",
       "Gemeinde                                        \n",
       "Dachsen              5.0  0.0    5.0  100.0  0.0\n",
       "Dietikon             7.0  0.0    7.0  100.0  0.0\n",
       "Dägerlen             5.0  0.0    5.0  100.0  0.0\n",
       "Ellikon an der Thur  5.0  0.0    5.0  100.0  0.0\n",
       "Humlikon             5.0  0.0    5.0  100.0  0.0\n",
       "Oetwil am See        7.0  0.0    7.0  100.0  0.0\n",
       "Regensdorf           7.0  0.0    7.0  100.0  0.0\n",
       "Wasterkingen         5.0  0.0    5.0  100.0  0.0\n",
       "Weiach               5.0  0.0    5.0  100.0  0.0\n",
       "Wila                 5.0  0.0    5.0  100.0  0.0\n",
       "Winkel               5.0  0.0    5.0  100.0  0.0\n",
       "Zumikon              7.0  0.0    7.0  100.0  0.0"
      ]
     },
     "execution_count": 13,
     "metadata": {},
     "output_type": "execute_result"
    }
   ],
   "source": [
    "df_g = pd.pivot_table(df, 'Name', 'Gemeinde', columns='Geschlecht', aggfunc='count')\n",
    "df_g['w'] = df_g['w'].fillna(0)\n",
    "df_g['total'] = df_g.m + df_g.w\n",
    "df_g['m%'] = round(100 / df_g.total * df_g.m)\n",
    "df_g['w%'] = round(100 / df_g.total * df_g.w)\n",
    "print(len(df_g[df_g['m%'] == 100]))\n",
    "df_g[df_g['m%'] == 100]"
   ]
  },
  {
   "cell_type": "markdown",
   "metadata": {},
   "source": [
    "### Die weiblichste Gemeinde"
   ]
  },
  {
   "cell_type": "code",
   "execution_count": 14,
   "metadata": {},
   "outputs": [
    {
     "data": {
      "text/html": [
       "<div>\n",
       "<style scoped>\n",
       "    .dataframe tbody tr th:only-of-type {\n",
       "        vertical-align: middle;\n",
       "    }\n",
       "\n",
       "    .dataframe tbody tr th {\n",
       "        vertical-align: top;\n",
       "    }\n",
       "\n",
       "    .dataframe thead th {\n",
       "        text-align: right;\n",
       "    }\n",
       "</style>\n",
       "<table border=\"1\" class=\"dataframe\">\n",
       "  <thead>\n",
       "    <tr style=\"text-align: right;\">\n",
       "      <th>Geschlecht</th>\n",
       "      <th>m</th>\n",
       "      <th>w</th>\n",
       "      <th>total</th>\n",
       "      <th>m%</th>\n",
       "      <th>w%</th>\n",
       "    </tr>\n",
       "    <tr>\n",
       "      <th>Gemeinde</th>\n",
       "      <th></th>\n",
       "      <th></th>\n",
       "      <th></th>\n",
       "      <th></th>\n",
       "      <th></th>\n",
       "    </tr>\n",
       "  </thead>\n",
       "  <tbody>\n",
       "    <tr>\n",
       "      <th>Aeugst am Albis</th>\n",
       "      <td>3.0</td>\n",
       "      <td>5.0</td>\n",
       "      <td>8.0</td>\n",
       "      <td>38.0</td>\n",
       "      <td>62.0</td>\n",
       "    </tr>\n",
       "    <tr>\n",
       "      <th>Regensberg</th>\n",
       "      <td>2.0</td>\n",
       "      <td>3.0</td>\n",
       "      <td>5.0</td>\n",
       "      <td>40.0</td>\n",
       "      <td>60.0</td>\n",
       "    </tr>\n",
       "    <tr>\n",
       "      <th>Boppelsen</th>\n",
       "      <td>2.0</td>\n",
       "      <td>3.0</td>\n",
       "      <td>5.0</td>\n",
       "      <td>40.0</td>\n",
       "      <td>60.0</td>\n",
       "    </tr>\n",
       "    <tr>\n",
       "      <th>Kappel am Albis</th>\n",
       "      <td>2.0</td>\n",
       "      <td>3.0</td>\n",
       "      <td>5.0</td>\n",
       "      <td>40.0</td>\n",
       "      <td>60.0</td>\n",
       "    </tr>\n",
       "    <tr>\n",
       "      <th>Wiesendangen</th>\n",
       "      <td>3.0</td>\n",
       "      <td>4.0</td>\n",
       "      <td>7.0</td>\n",
       "      <td>43.0</td>\n",
       "      <td>57.0</td>\n",
       "    </tr>\n",
       "    <tr>\n",
       "      <th>Kilchberg (ZH)</th>\n",
       "      <td>3.0</td>\n",
       "      <td>4.0</td>\n",
       "      <td>7.0</td>\n",
       "      <td>43.0</td>\n",
       "      <td>57.0</td>\n",
       "    </tr>\n",
       "    <tr>\n",
       "      <th>Marthalen</th>\n",
       "      <td>3.0</td>\n",
       "      <td>4.0</td>\n",
       "      <td>7.0</td>\n",
       "      <td>43.0</td>\n",
       "      <td>57.0</td>\n",
       "    </tr>\n",
       "    <tr>\n",
       "      <th>Uster</th>\n",
       "      <td>3.0</td>\n",
       "      <td>4.0</td>\n",
       "      <td>7.0</td>\n",
       "      <td>43.0</td>\n",
       "      <td>57.0</td>\n",
       "    </tr>\n",
       "    <tr>\n",
       "      <th>Rümlang</th>\n",
       "      <td>3.0</td>\n",
       "      <td>4.0</td>\n",
       "      <td>7.0</td>\n",
       "      <td>43.0</td>\n",
       "      <td>57.0</td>\n",
       "    </tr>\n",
       "    <tr>\n",
       "      <th>Rifferswil</th>\n",
       "      <td>3.0</td>\n",
       "      <td>4.0</td>\n",
       "      <td>7.0</td>\n",
       "      <td>43.0</td>\n",
       "      <td>57.0</td>\n",
       "    </tr>\n",
       "  </tbody>\n",
       "</table>\n",
       "</div>"
      ],
      "text/plain": [
       "Geschlecht         m    w  total    m%    w%\n",
       "Gemeinde                                    \n",
       "Aeugst am Albis  3.0  5.0    8.0  38.0  62.0\n",
       "Regensberg       2.0  3.0    5.0  40.0  60.0\n",
       "Boppelsen        2.0  3.0    5.0  40.0  60.0\n",
       "Kappel am Albis  2.0  3.0    5.0  40.0  60.0\n",
       "Wiesendangen     3.0  4.0    7.0  43.0  57.0\n",
       "Kilchberg (ZH)   3.0  4.0    7.0  43.0  57.0\n",
       "Marthalen        3.0  4.0    7.0  43.0  57.0\n",
       "Uster            3.0  4.0    7.0  43.0  57.0\n",
       "Rümlang          3.0  4.0    7.0  43.0  57.0\n",
       "Rifferswil       3.0  4.0    7.0  43.0  57.0"
      ]
     },
     "execution_count": 14,
     "metadata": {},
     "output_type": "execute_result"
    }
   ],
   "source": [
    "df_g = df_g.sort_values('w%', ascending=False)\n",
    "df_g[df_g['w%'] > 50]"
   ]
  },
  {
   "cell_type": "code",
   "execution_count": 15,
   "metadata": {},
   "outputs": [
    {
     "data": {
      "text/plain": [
       "10"
      ]
     },
     "execution_count": 15,
     "metadata": {},
     "output_type": "execute_result"
    }
   ],
   "source": [
    "len(df_g[df_g['w%'] > 50])"
   ]
  },
  {
   "cell_type": "markdown",
   "metadata": {},
   "source": [
    "## Gemeinderäte mit nur Männer, nur Frauen"
   ]
  },
  {
   "cell_type": "code",
   "execution_count": 34,
   "metadata": {},
   "outputs": [
    {
     "name": "stdout",
     "output_type": "stream",
     "text": [
      "Reine Männer-Räte: 12\n",
      "Reine Frauen-Räte: 0\n"
     ]
    }
   ],
   "source": [
    "df_g = pd.pivot_table(df, 'Name', 'Gemeinde', columns='Geschlecht', aggfunc='count')\n",
    "df_g['w'] = df_g['w'].fillna(0)\n",
    "df_g['total'] = df_g.m + df_g.w\n",
    "df_g['m%'] = round(100 / df_g.total * df_g.m)\n",
    "df_g['w%'] = round(100 / df_g.total * df_g.w)\n",
    "\n",
    "print('Reine Männer-Räte: %s' % len(df_g[df_g['m%'] == 100]))\n",
    "print('Reine Frauen-Räte: %s' % len(df_g[df_g['w%'] == 100]))"
   ]
  },
  {
   "cell_type": "markdown",
   "metadata": {},
   "source": [
    "## Gemeinderäte mit Mehrheit Frauen/Männer"
   ]
  },
  {
   "cell_type": "code",
   "execution_count": 13,
   "metadata": {},
   "outputs": [
    {
     "name": "stdout",
     "output_type": "stream",
     "text": [
      "Männer mehr 50 Prozent: 147\n",
      "Frauen mehr 50 Prozent: 10\n",
      "Männer und Frauen = 50 Prozent: 5\n"
     ]
    }
   ],
   "source": [
    "df_g = pd.pivot_table(df, 'Name', 'Gemeinde', columns='Geschlecht', aggfunc='count')\n",
    "df_g['w'] = df_g['w'].fillna(0)\n",
    "df_g['total'] = df_g.m + df_g.w\n",
    "df_g['m%'] = round(100 / df_g.total * df_g.m)\n",
    "df_g['w%'] = round(100 / df_g.total * df_g.w)\n",
    "\n",
    "print(\"Männer mehr 50 Prozent: %s\" % len(df_g[df_g['m%'] > 50]))\n",
    "print(\"Frauen mehr 50 Prozent: %s\" % len(df_g[df_g['w%'] > 50]))\n",
    "print(\"Männer und Frauen = 50 Prozent: %s\" % len(df_g[df_g['w%'] == 50]))"
   ]
  },
  {
   "cell_type": "markdown",
   "metadata": {},
   "source": [
    "## Das Gemeindepräsidium ('chair') ist..."
   ]
  },
  {
   "cell_type": "code",
   "execution_count": 18,
   "metadata": {},
   "outputs": [
    {
     "data": {
      "text/html": [
       "<div>\n",
       "<style scoped>\n",
       "    .dataframe tbody tr th:only-of-type {\n",
       "        vertical-align: middle;\n",
       "    }\n",
       "\n",
       "    .dataframe tbody tr th {\n",
       "        vertical-align: top;\n",
       "    }\n",
       "\n",
       "    .dataframe thead th {\n",
       "        text-align: right;\n",
       "    }\n",
       "</style>\n",
       "<table border=\"1\" class=\"dataframe\">\n",
       "  <thead>\n",
       "    <tr style=\"text-align: right;\">\n",
       "      <th>Geschlecht</th>\n",
       "      <th>m</th>\n",
       "      <th>w</th>\n",
       "      <th>m%</th>\n",
       "      <th>w%</th>\n",
       "    </tr>\n",
       "    <tr>\n",
       "      <th>Funktion</th>\n",
       "      <th></th>\n",
       "      <th></th>\n",
       "      <th></th>\n",
       "      <th></th>\n",
       "    </tr>\n",
       "  </thead>\n",
       "  <tbody>\n",
       "    <tr>\n",
       "      <th>chair</th>\n",
       "      <td>133</td>\n",
       "      <td>29</td>\n",
       "      <td>82.0</td>\n",
       "      <td>18.0</td>\n",
       "    </tr>\n",
       "    <tr>\n",
       "      <th>school</th>\n",
       "      <td>3</td>\n",
       "      <td>6</td>\n",
       "      <td>33.0</td>\n",
       "      <td>67.0</td>\n",
       "    </tr>\n",
       "  </tbody>\n",
       "</table>\n",
       "</div>"
      ],
      "text/plain": [
       "Geschlecht    m   w    m%    w%\n",
       "Funktion                       \n",
       "chair       133  29  82.0  18.0\n",
       "school        3   6  33.0  67.0"
      ]
     },
     "execution_count": 18,
     "metadata": {},
     "output_type": "execute_result"
    }
   ],
   "source": [
    "df_pr = pd.pivot_table(df, index='Funktion', columns='Geschlecht', values='Name', aggfunc='count')\n",
    "#df_pr = df_pr[df_pr.Funktion == 'chair']\n",
    "df_pr['m%'] = round(100 / (df_pr['m'] + df_pr['w']) * df_pr['m'])\n",
    "df_pr['w%'] = round(100 / (df_pr['m'] + df_pr['w']) * df_pr['w'])\n",
    "\n",
    "df_pr.head()"
   ]
  },
  {
   "cell_type": "markdown",
   "metadata": {},
   "source": [
    "## Jüngsten Frauen"
   ]
  },
  {
   "cell_type": "code",
   "execution_count": null,
   "metadata": {},
   "outputs": [],
   "source": [
    "df[df.Geschlecht == 'w'].sort_values('Alter', ascending=True).head()"
   ]
  },
  {
   "cell_type": "markdown",
   "metadata": {},
   "source": [
    "## Einzelne Frau im Gemeinderat?"
   ]
  },
  {
   "cell_type": "code",
   "execution_count": 51,
   "metadata": {},
   "outputs": [
    {
     "data": {
      "text/plain": [
       "61"
      ]
     },
     "execution_count": 51,
     "metadata": {},
     "output_type": "execute_result"
    }
   ],
   "source": [
    "df_w = pd.pivot_table(df, index='Gemeinde', columns='Geschlecht', values='Name', aggfunc='count')\n",
    "len(df_w[df_w.w == 1])"
   ]
  },
  {
   "cell_type": "markdown",
   "metadata": {},
   "source": [
    "## Gemeindepräsidentinnen vs Präsidenten"
   ]
  },
  {
   "cell_type": "code",
   "execution_count": 50,
   "metadata": {},
   "outputs": [
    {
     "data": {
      "text/html": [
       "<div>\n",
       "<style scoped>\n",
       "    .dataframe tbody tr th:only-of-type {\n",
       "        vertical-align: middle;\n",
       "    }\n",
       "\n",
       "    .dataframe tbody tr th {\n",
       "        vertical-align: top;\n",
       "    }\n",
       "\n",
       "    .dataframe thead th {\n",
       "        text-align: right;\n",
       "    }\n",
       "</style>\n",
       "<table border=\"1\" class=\"dataframe\">\n",
       "  <thead>\n",
       "    <tr style=\"text-align: right;\">\n",
       "      <th></th>\n",
       "      <th>Gemeinde</th>\n",
       "      <th>Name</th>\n",
       "      <th>Name_cleaned</th>\n",
       "      <th>Jahrgang</th>\n",
       "      <th>Partei</th>\n",
       "      <th>Funktion</th>\n",
       "      <th>Hinweis</th>\n",
       "      <th>jahrgang_nicht_zugeordnet</th>\n",
       "      <th>partei_nicht_zugeordnet</th>\n",
       "      <th>Gecheckt 2021</th>\n",
       "      <th>Alter</th>\n",
       "      <th>partei_c</th>\n",
       "    </tr>\n",
       "    <tr>\n",
       "      <th>Geschlecht</th>\n",
       "      <th></th>\n",
       "      <th></th>\n",
       "      <th></th>\n",
       "      <th></th>\n",
       "      <th></th>\n",
       "      <th></th>\n",
       "      <th></th>\n",
       "      <th></th>\n",
       "      <th></th>\n",
       "      <th></th>\n",
       "      <th></th>\n",
       "      <th></th>\n",
       "    </tr>\n",
       "  </thead>\n",
       "  <tbody>\n",
       "    <tr>\n",
       "      <th>m</th>\n",
       "      <td>133</td>\n",
       "      <td>133</td>\n",
       "      <td>133</td>\n",
       "      <td>131</td>\n",
       "      <td>132</td>\n",
       "      <td>133</td>\n",
       "      <td>5</td>\n",
       "      <td>133</td>\n",
       "      <td>133</td>\n",
       "      <td>133</td>\n",
       "      <td>131</td>\n",
       "      <td>133</td>\n",
       "    </tr>\n",
       "    <tr>\n",
       "      <th>w</th>\n",
       "      <td>29</td>\n",
       "      <td>29</td>\n",
       "      <td>29</td>\n",
       "      <td>28</td>\n",
       "      <td>29</td>\n",
       "      <td>29</td>\n",
       "      <td>1</td>\n",
       "      <td>29</td>\n",
       "      <td>29</td>\n",
       "      <td>29</td>\n",
       "      <td>28</td>\n",
       "      <td>29</td>\n",
       "    </tr>\n",
       "  </tbody>\n",
       "</table>\n",
       "</div>"
      ],
      "text/plain": [
       "            Gemeinde  Name  Name_cleaned  Jahrgang  Partei  Funktion  Hinweis  \\\n",
       "Geschlecht                                                                      \n",
       "m                133   133           133       131     132       133        5   \n",
       "w                 29    29            29        28      29        29        1   \n",
       "\n",
       "            jahrgang_nicht_zugeordnet  partei_nicht_zugeordnet  Gecheckt 2021  \\\n",
       "Geschlecht                                                                      \n",
       "m                                 133                      133            133   \n",
       "w                                  29                       29             29   \n",
       "\n",
       "            Alter  partei_c  \n",
       "Geschlecht                   \n",
       "m             131       133  \n",
       "w              28        29  "
      ]
     },
     "execution_count": 50,
     "metadata": {},
     "output_type": "execute_result"
    }
   ],
   "source": [
    "df[df.Funktion == 'chair'].groupby('Geschlecht').count()"
   ]
  },
  {
   "cell_type": "markdown",
   "metadata": {},
   "source": [
    "## Alter in 10 Jahren"
   ]
  },
  {
   "cell_type": "code",
   "execution_count": 109,
   "metadata": {},
   "outputs": [],
   "source": [
    "df_a = df[df.Jahrgang.notna()].copy()\n",
    "df_a['agerange'] = df_a['Alter'].apply(lambda x: \"%s-%s\" % (math.floor(x / 10) * 10, math.floor(x / 10) * 10 + 10))\n",
    "#df_a.sort_values('Alter', ascending=True).head()\n",
    "\n",
    "#df_a = pd.pivot_table(df_a, columns='Geschlecht', index='agerange', values='Name', aggfunc='count')\n",
    "#df_a = df_a.groupby(['agerange', 'Geschlecht']).agg({'Name': 'count'}).reset_index()\n",
    "df_a = df_a.groupby(['Alter', 'Geschlecht']).agg({'Name': 'count'}).reset_index()\n",
    "df_a['index'] = df_a['Geschlecht'].apply(lambda x: 1 if x == 'm' else 0)\n",
    "#df_a['index'] = df_a['ager'].apply(lambda x: 1 if x == 'm' else -1)\n",
    "\n",
    "df_a.rename(columns={'Name': 'Anzahl'}, inplace=True)\n",
    "\n",
    "df_a = df_a.fillna(0)\n",
    "\n",
    "def f(row):\n",
    "    if row['Geschlecht'] == 'm':\n",
    "        return round(100 / df_a[df_a.Geschlecht == 'm']['Anzahl'].sum() * row['Anzahl'],1)\n",
    "    else:\n",
    "        return round(100 / df_a[df_a.Geschlecht == 'w']['Anzahl'].sum() * row['Anzahl'],1)\n",
    "\n",
    "df_a['%'] = df_a.apply(f, axis=1)\n",
    "\n",
    "df_a[df_a.Geschlecht == 'w'].to_csv('../export/age_dots.csv', index=False)"
   ]
  },
  {
   "cell_type": "code",
   "execution_count": 118,
   "metadata": {},
   "outputs": [
    {
     "data": {
      "text/html": [
       "<div>\n",
       "<style scoped>\n",
       "    .dataframe tbody tr th:only-of-type {\n",
       "        vertical-align: middle;\n",
       "    }\n",
       "\n",
       "    .dataframe tbody tr th {\n",
       "        vertical-align: top;\n",
       "    }\n",
       "\n",
       "    .dataframe thead th {\n",
       "        text-align: right;\n",
       "    }\n",
       "</style>\n",
       "<table border=\"1\" class=\"dataframe\">\n",
       "  <thead>\n",
       "    <tr style=\"text-align: right;\">\n",
       "      <th>Geschlecht</th>\n",
       "      <th>m</th>\n",
       "      <th>w</th>\n",
       "      <th>m%</th>\n",
       "      <th>w%</th>\n",
       "    </tr>\n",
       "    <tr>\n",
       "      <th>agerange</th>\n",
       "      <th></th>\n",
       "      <th></th>\n",
       "      <th></th>\n",
       "      <th></th>\n",
       "    </tr>\n",
       "  </thead>\n",
       "  <tbody>\n",
       "    <tr>\n",
       "      <th>20-30</th>\n",
       "      <td>5</td>\n",
       "      <td>1</td>\n",
       "      <td>0.7</td>\n",
       "      <td>0.4</td>\n",
       "    </tr>\n",
       "    <tr>\n",
       "      <th>30-40</th>\n",
       "      <td>31</td>\n",
       "      <td>9</td>\n",
       "      <td>4.3</td>\n",
       "      <td>3.3</td>\n",
       "    </tr>\n",
       "    <tr>\n",
       "      <th>40-50</th>\n",
       "      <td>129</td>\n",
       "      <td>52</td>\n",
       "      <td>17.8</td>\n",
       "      <td>18.8</td>\n",
       "    </tr>\n",
       "    <tr>\n",
       "      <th>50-60</th>\n",
       "      <td>282</td>\n",
       "      <td>132</td>\n",
       "      <td>39.0</td>\n",
       "      <td>47.8</td>\n",
       "    </tr>\n",
       "    <tr>\n",
       "      <th>60-70</th>\n",
       "      <td>242</td>\n",
       "      <td>78</td>\n",
       "      <td>33.5</td>\n",
       "      <td>28.3</td>\n",
       "    </tr>\n",
       "    <tr>\n",
       "      <th>70-80</th>\n",
       "      <td>34</td>\n",
       "      <td>4</td>\n",
       "      <td>4.7</td>\n",
       "      <td>1.4</td>\n",
       "    </tr>\n",
       "  </tbody>\n",
       "</table>\n",
       "</div>"
      ],
      "text/plain": [
       "Geschlecht    m    w    m%    w%\n",
       "agerange                        \n",
       "20-30         5    1   0.7   0.4\n",
       "30-40        31    9   4.3   3.3\n",
       "40-50       129   52  17.8  18.8\n",
       "50-60       282  132  39.0  47.8\n",
       "60-70       242   78  33.5  28.3\n",
       "70-80        34    4   4.7   1.4"
      ]
     },
     "execution_count": 118,
     "metadata": {},
     "output_type": "execute_result"
    }
   ],
   "source": [
    "df_a = df[df.Jahrgang.notna()].copy()\n",
    "df_a['agerange'] = df_a['Alter'].apply(lambda x: \"%s-%s\" % (math.floor(x / 10) * 10, math.floor(x / 10) * 10 + 10))\n",
    "\n",
    "#df_a = df_a.groupby(['agerange', 'Geschlecht']).agg({'Name': 'count'}).reset_index()\n",
    "df_a = pd.pivot_table(df_a, index='agerange', columns='Geschlecht', values='Name', aggfunc='count')\n",
    "\n",
    "df_a['m%'] = round(100 / df_a['m'].sum() * df_a['m'], 1)\n",
    "df_a['w%'] = round(100 / df_a['w'].sum() * df_a['w'], 1)\n",
    "\n",
    "df_a"
   ]
  },
  {
   "cell_type": "code",
   "execution_count": 81,
   "metadata": {},
   "outputs": [],
   "source": [
    "df_a = df[df.Jahrgang.notna()].copy()\n",
    "\n",
    "#df_a = pd.pivot_table(df_a, columns='Geschlecht', index='Alter', values='Alter')\n",
    "\n",
    "df_a = df_a[df_a.Geschlecht == 'w']\n",
    "\n",
    "df_a = df_a[['Alter']]\n",
    "\n",
    "df_a.head(20)\n",
    "df_a.to_csv('../export/age_dots.csv', index=False)"
   ]
  },
  {
   "cell_type": "markdown",
   "metadata": {},
   "source": [
    "## Wieviel Bevölkerung wird representiert?"
   ]
  },
  {
   "cell_type": "code",
   "execution_count": 19,
   "metadata": {},
   "outputs": [
    {
     "name": "stdout",
     "output_type": "stream",
     "text": [
      "Frauen repräsentieren: 185766.0\n",
      "Frauen insgesamt: 778364\n",
      "So viele Frauen sind representiert: 24\n",
      "So viele Frauen sind nicht representiert: 76\n"
     ]
    }
   ],
   "source": [
    "# Load Bevölkerung\n",
    "df_bev = pd.read_csv('../data/KANTON_ZUERICH_99.csv', sep=';', encoding='utf-8')\n",
    "df_bev = df_bev[(df_bev.INDIKATOR_JAHR == 2020) & (df_bev.BFS_NR != 0)]\n",
    "\n",
    "# Group Gemeinderäte\n",
    "df_a = pd.pivot_table(df, columns='Geschlecht', index='Gemeinde', values='Name', aggfunc='count')\n",
    "\n",
    "# Prozentualisieren\n",
    "df_a['total'] = df_a['m'] + df_a['w']\n",
    "df_a['w'] = df_a['w'].fillna(0)\n",
    "#df_a['w%'] = round(100 / df_a['total'] * df_a['w'], 1)\n",
    "\n",
    "# Join\n",
    "df_a = df_a.reset_index()\n",
    "df_bev['GEBIET_NAME'] = df_bev['GEBIET_NAME'].str.replace('a.A.', 'am Albis')\n",
    "df_bev['GEBIET_NAME'] = df_bev['GEBIET_NAME'].str.replace(' ZH', ' (ZH)')\n",
    "df_a = df_a.merge(df_bev, left_on = 'Gemeinde', right_on = 'GEBIET_NAME', how='left')\n",
    "\n",
    "df_a['represent'] = df_a.apply(lambda row: row['INDIKATOR_VALUE'] / row['total'] * row['w'], axis=1)\n",
    "df_a['represent'] = round(df_a['represent'])\n",
    "\n",
    "w_represented = df_a['represent'].sum()\n",
    "w_total = df_bev['INDIKATOR_VALUE'].sum()\n",
    "w_not = round(100 / w_total * (w_total - w_represented))\n",
    "\n",
    "\n",
    "print(\"Frauen repräsentieren: %s\" % w_represented)\n",
    "print(\"Frauen insgesamt: %s\" % w_total)\n",
    "print(\"So viele Frauen sind representiert: %s\" % (100 - w_not))\n",
    "print(\"So viele Frauen sind nicht representiert: %s\" % w_not)"
   ]
  },
  {
   "cell_type": "code",
   "execution_count": 178,
   "metadata": {},
   "outputs": [
    {
     "data": {
      "text/plain": [
       "162"
      ]
     },
     "execution_count": 178,
     "metadata": {},
     "output_type": "execute_result"
    }
   ],
   "source": [
    "len(df_bev[])"
   ]
  },
  {
   "cell_type": "code",
   "execution_count": null,
   "metadata": {},
   "outputs": [],
   "source": []
  }
 ],
 "metadata": {
  "kernelspec": {
   "display_name": "Python39",
   "language": "python",
   "name": "python39"
  },
  "language_info": {
   "codemirror_mode": {
    "name": "ipython",
    "version": 3
   },
   "file_extension": ".py",
   "mimetype": "text/x-python",
   "name": "python",
   "nbconvert_exporter": "python",
   "pygments_lexer": "ipython3",
   "version": "3.9.0"
  }
 },
 "nbformat": 4,
 "nbformat_minor": 4
}
