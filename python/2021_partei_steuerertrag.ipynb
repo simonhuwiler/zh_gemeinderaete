{
 "cells": [
  {
   "cell_type": "markdown",
   "metadata": {},
   "source": [
    "# 2021 Steuerertrag"
   ]
  },
  {
   "cell_type": "code",
   "execution_count": 4,
   "metadata": {},
   "outputs": [],
   "source": [
    "import pandas as pd\n",
    "import numpy as np\n",
    "import cleandata as cd\n",
    "import matplotlib"
   ]
  },
  {
   "cell_type": "code",
   "execution_count": 5,
   "metadata": {},
   "outputs": [],
   "source": [
    "df_raw = pd.read_csv('../data/Gemeinde_Exekutive - daten.csv')\n",
    "df_bev_raw = pd.read_csv('../data/KANTON_ZUERICH_bevoelkerung_1jahresklassen.csv', sep=';')\n",
    "df_steuern_raw = pd.read_csv('../data/steuerertrag_gemeinde.csv', sep=';')\n",
    "df_gefis_raw = pd.read_csv('../data/gefis_bfs.csv', sep=';')"
   ]
  },
  {
   "cell_type": "markdown",
   "metadata": {},
   "source": [
    "## Clean Data"
   ]
  },
  {
   "cell_type": "code",
   "execution_count": 6,
   "metadata": {},
   "outputs": [
    {
     "name": "stdout",
     "output_type": "stream",
     "text": [
      "Jahrgänge nicht zugeordnet: 15\n",
      "Partei nicht zugeordnet: 9\n",
      "Keine Jahrgänge: 21\n"
     ]
    }
   ],
   "source": [
    "df_raw = cd.clean(df_raw)"
   ]
  },
  {
   "cell_type": "markdown",
   "metadata": {},
   "source": [
    "## Prepare Steuerdaten"
   ]
  },
  {
   "cell_type": "code",
   "execution_count": 7,
   "metadata": {},
   "outputs": [],
   "source": [
    "df_gefis = df_gefis_raw[['GEFIS_EINHEIT', '2019']].copy()\n",
    "df_gefis.rename(columns={'2019': 'bfs'}, inplace=True)\n",
    "\n",
    "df_steuern = df_steuern_raw.merge(df_gefis, how='left', on = 'GEFIS_EINHEIT')\n",
    "\n",
    "# Select with data\n",
    "df_steuern = df_steuern.dropna(axis=0, subset=['2019'])\n",
    "\n",
    "df_steuern = df_steuern[['bfs', 'GEBIETS_NAME', '2019']]\n",
    "\n",
    "df_steuern = df_steuern.rename(columns={'2019': 'steuerertrag_2019'})"
   ]
  },
  {
   "cell_type": "markdown",
   "metadata": {},
   "source": [
    "## Calc Gemeinden"
   ]
  },
  {
   "cell_type": "code",
   "execution_count": 43,
   "metadata": {},
   "outputs": [],
   "source": [
    "def maxparty(row):\n",
    "    maxi = 0\n",
    "    maxs = \"\"\n",
    "    multiple = False\n",
    "    for i in row.index:\n",
    "        if i in ['partei_c', 'Gemeinde', 'GEBIETS_NAME', 'bfs', 'steuerertrag_2019', 'total', 'parteilos%']: continue\n",
    "        \n",
    "        if row[i] == maxi:\n",
    "            multiple = True\n",
    "        elif row[i] > maxi:\n",
    "            maxi = row[i]\n",
    "            maxs = i\n",
    "            multiple = False\n",
    "            \n",
    "    if multiple:\n",
    "        return 'multiple'\n",
    "    else:\n",
    "        return maxs"
   ]
  },
  {
   "cell_type": "code",
   "execution_count": 44,
   "metadata": {},
   "outputs": [],
   "source": [
    "df = pd.pivot_table(df_raw, index=['Gemeinde'], columns='partei_c', values='Name', aggfunc='count').copy().reset_index().fillna(0)\n",
    "df = df.fillna(0)\n",
    "df['total'] = df.sum(axis=1)\n",
    "df['parteilos%'] = round(100 / df['total'] * df['parteilos'])\n",
    "\n",
    "# Add BFS\n",
    "df = cd.add_bfs(df)\n",
    "\n",
    "# Join Steuerdaten\n",
    "df = df.merge(df_steuern, how='left', on='bfs')\n",
    "\n",
    "# Add Topparty\n",
    "df['topparty'] = df.apply(maxparty, axis=1)"
   ]
  },
  {
   "cell_type": "code",
   "execution_count": 45,
   "metadata": {},
   "outputs": [
    {
     "data": {
      "text/html": [
       "<div>\n",
       "<style scoped>\n",
       "    .dataframe tbody tr th:only-of-type {\n",
       "        vertical-align: middle;\n",
       "    }\n",
       "\n",
       "    .dataframe tbody tr th {\n",
       "        vertical-align: top;\n",
       "    }\n",
       "\n",
       "    .dataframe thead th {\n",
       "        text-align: right;\n",
       "    }\n",
       "</style>\n",
       "<table border=\"1\" class=\"dataframe\">\n",
       "  <thead>\n",
       "    <tr style=\"text-align: right;\">\n",
       "      <th></th>\n",
       "      <th>Gemeinde</th>\n",
       "      <th>al</th>\n",
       "      <th>bdp</th>\n",
       "      <th>cvp</th>\n",
       "      <th>edu</th>\n",
       "      <th>evp</th>\n",
       "      <th>fdp</th>\n",
       "      <th>glp</th>\n",
       "      <th>grüne</th>\n",
       "      <th>parteilos</th>\n",
       "      <th>sp</th>\n",
       "      <th>svp</th>\n",
       "      <th>vacant</th>\n",
       "      <th>verschiedene</th>\n",
       "      <th>total</th>\n",
       "      <th>parteilos%</th>\n",
       "      <th>bfs</th>\n",
       "      <th>GEBIETS_NAME</th>\n",
       "      <th>steuerertrag_2019</th>\n",
       "      <th>topparty</th>\n",
       "    </tr>\n",
       "  </thead>\n",
       "  <tbody>\n",
       "    <tr>\n",
       "      <th>0</th>\n",
       "      <td>Adlikon</td>\n",
       "      <td>0.0</td>\n",
       "      <td>0.0</td>\n",
       "      <td>0.0</td>\n",
       "      <td>0.0</td>\n",
       "      <td>0.0</td>\n",
       "      <td>0.0</td>\n",
       "      <td>0.0</td>\n",
       "      <td>0.0</td>\n",
       "      <td>3.0</td>\n",
       "      <td>0.0</td>\n",
       "      <td>2.0</td>\n",
       "      <td>0.0</td>\n",
       "      <td>0.0</td>\n",
       "      <td>5.0</td>\n",
       "      <td>60.0</td>\n",
       "      <td>21</td>\n",
       "      <td>Adlikon, Politische Gemeinde</td>\n",
       "      <td>1619.0</td>\n",
       "      <td>parteilos</td>\n",
       "    </tr>\n",
       "    <tr>\n",
       "      <th>1</th>\n",
       "      <td>Adliswil</td>\n",
       "      <td>0.0</td>\n",
       "      <td>0.0</td>\n",
       "      <td>1.0</td>\n",
       "      <td>0.0</td>\n",
       "      <td>0.0</td>\n",
       "      <td>2.0</td>\n",
       "      <td>0.0</td>\n",
       "      <td>0.0</td>\n",
       "      <td>1.0</td>\n",
       "      <td>1.0</td>\n",
       "      <td>1.0</td>\n",
       "      <td>0.0</td>\n",
       "      <td>1.0</td>\n",
       "      <td>7.0</td>\n",
       "      <td>14.0</td>\n",
       "      <td>131</td>\n",
       "      <td>Adliswil, Stadt</td>\n",
       "      <td>5841.0</td>\n",
       "      <td>fdp</td>\n",
       "    </tr>\n",
       "    <tr>\n",
       "      <th>2</th>\n",
       "      <td>Aesch (ZH)</td>\n",
       "      <td>0.0</td>\n",
       "      <td>0.0</td>\n",
       "      <td>1.0</td>\n",
       "      <td>0.0</td>\n",
       "      <td>0.0</td>\n",
       "      <td>1.0</td>\n",
       "      <td>0.0</td>\n",
       "      <td>0.0</td>\n",
       "      <td>1.0</td>\n",
       "      <td>0.0</td>\n",
       "      <td>2.0</td>\n",
       "      <td>0.0</td>\n",
       "      <td>0.0</td>\n",
       "      <td>5.0</td>\n",
       "      <td>20.0</td>\n",
       "      <td>241</td>\n",
       "      <td>Aesch, Politische Gemeinde</td>\n",
       "      <td>1097.0</td>\n",
       "      <td>svp</td>\n",
       "    </tr>\n",
       "    <tr>\n",
       "      <th>3</th>\n",
       "      <td>Aeugst am Albis</td>\n",
       "      <td>0.0</td>\n",
       "      <td>0.0</td>\n",
       "      <td>0.0</td>\n",
       "      <td>0.0</td>\n",
       "      <td>0.0</td>\n",
       "      <td>3.0</td>\n",
       "      <td>0.0</td>\n",
       "      <td>0.0</td>\n",
       "      <td>2.0</td>\n",
       "      <td>0.0</td>\n",
       "      <td>0.0</td>\n",
       "      <td>0.0</td>\n",
       "      <td>3.0</td>\n",
       "      <td>8.0</td>\n",
       "      <td>25.0</td>\n",
       "      <td>1</td>\n",
       "      <td>Aeugst a.A., Politische Gemeinde (bis 2020)</td>\n",
       "      <td>1702.0</td>\n",
       "      <td>multiple</td>\n",
       "    </tr>\n",
       "    <tr>\n",
       "      <th>4</th>\n",
       "      <td>Affoltern am Albis</td>\n",
       "      <td>0.0</td>\n",
       "      <td>0.0</td>\n",
       "      <td>0.0</td>\n",
       "      <td>0.0</td>\n",
       "      <td>1.0</td>\n",
       "      <td>0.0</td>\n",
       "      <td>1.0</td>\n",
       "      <td>0.0</td>\n",
       "      <td>2.0</td>\n",
       "      <td>2.0</td>\n",
       "      <td>1.0</td>\n",
       "      <td>0.0</td>\n",
       "      <td>0.0</td>\n",
       "      <td>7.0</td>\n",
       "      <td>29.0</td>\n",
       "      <td>2</td>\n",
       "      <td>Affoltern a.A., Stadt</td>\n",
       "      <td>2368.0</td>\n",
       "      <td>multiple</td>\n",
       "    </tr>\n",
       "  </tbody>\n",
       "</table>\n",
       "</div>"
      ],
      "text/plain": [
       "             Gemeinde   al  bdp  cvp  edu  evp  fdp  glp  grüne  parteilos  \\\n",
       "0             Adlikon  0.0  0.0  0.0  0.0  0.0  0.0  0.0    0.0        3.0   \n",
       "1            Adliswil  0.0  0.0  1.0  0.0  0.0  2.0  0.0    0.0        1.0   \n",
       "2          Aesch (ZH)  0.0  0.0  1.0  0.0  0.0  1.0  0.0    0.0        1.0   \n",
       "3     Aeugst am Albis  0.0  0.0  0.0  0.0  0.0  3.0  0.0    0.0        2.0   \n",
       "4  Affoltern am Albis  0.0  0.0  0.0  0.0  1.0  0.0  1.0    0.0        2.0   \n",
       "\n",
       "    sp  svp  vacant  verschiedene  total  parteilos%  bfs  \\\n",
       "0  0.0  2.0     0.0           0.0    5.0        60.0   21   \n",
       "1  1.0  1.0     0.0           1.0    7.0        14.0  131   \n",
       "2  0.0  2.0     0.0           0.0    5.0        20.0  241   \n",
       "3  0.0  0.0     0.0           3.0    8.0        25.0    1   \n",
       "4  2.0  1.0     0.0           0.0    7.0        29.0    2   \n",
       "\n",
       "                                  GEBIETS_NAME  steuerertrag_2019   topparty  \n",
       "0                 Adlikon, Politische Gemeinde             1619.0  parteilos  \n",
       "1                              Adliswil, Stadt             5841.0        fdp  \n",
       "2                   Aesch, Politische Gemeinde             1097.0        svp  \n",
       "3  Aeugst a.A., Politische Gemeinde (bis 2020)             1702.0   multiple  \n",
       "4                        Affoltern a.A., Stadt             2368.0   multiple  "
      ]
     },
     "execution_count": 45,
     "metadata": {},
     "output_type": "execute_result"
    }
   ],
   "source": [
    "df.head()"
   ]
  },
  {
   "cell_type": "code",
   "execution_count": 6,
   "metadata": {},
   "outputs": [
    {
     "data": {
      "text/plain": [
       "<AxesSubplot:xlabel='parteilos%', ylabel='steuerertrag_2019'>"
      ]
     },
     "execution_count": 6,
     "metadata": {},
     "output_type": "execute_result"
    },
    {
     "data": {
      "image/png": "[encoded data removed]",
      "text/plain": [
       "<Figure size 720x720 with 1 Axes>"
      ]
     },
     "metadata": {
      "needs_background": "light"
     },
     "output_type": "display_data"
    }
   ],
   "source": [
    "df.plot.scatter(x='parteilos%', y='steuerertrag_2019', figsize=(10, 10))"
   ]
  },
  {
   "cell_type": "markdown",
   "metadata": {},
   "source": [
    "## Wo FDP Mehrheit hat"
   ]
  },
  {
   "cell_type": "code",
   "execution_count": 51,
   "metadata": {},
   "outputs": [
    {
     "data": {
      "text/plain": [
       "<AxesSubplot:xlabel='topparty'>"
      ]
     },
     "execution_count": 51,
     "metadata": {},
     "output_type": "execute_result"
    },
    {
     "data": {
      "image/png": "[encoded data removed]",
      "text/plain": [
       "<Figure size 432x288 with 1 Axes>"
      ]
     },
     "metadata": {
      "needs_background": "light"
     },
     "output_type": "display_data"
    }
   ],
   "source": [
    "# Group Party/Steuerertrag\n",
    "g = df.groupby('topparty').agg({'steuerertrag_2019': 'mean', 'Gemeinde': 'count'}).sort_values('steuerertrag_2019')\n",
    "g['steuerertrag_2019'].plot.bar()\n",
    "\n"
   ]
  },
  {
   "cell_type": "code",
   "execution_count": 50,
   "metadata": {},
   "outputs": [
    {
     "data": {
      "text/html": [
       "<div>\n",
       "<style scoped>\n",
       "    .dataframe tbody tr th:only-of-type {\n",
       "        vertical-align: middle;\n",
       "    }\n",
       "\n",
       "    .dataframe tbody tr th {\n",
       "        vertical-align: top;\n",
       "    }\n",
       "\n",
       "    .dataframe thead th {\n",
       "        text-align: right;\n",
       "    }\n",
       "</style>\n",
       "<table border=\"1\" class=\"dataframe\">\n",
       "  <thead>\n",
       "    <tr style=\"text-align: right;\">\n",
       "      <th></th>\n",
       "      <th>steuerertrag_2019</th>\n",
       "      <th>Gemeinde</th>\n",
       "    </tr>\n",
       "    <tr>\n",
       "      <th>topparty</th>\n",
       "      <th></th>\n",
       "      <th></th>\n",
       "    </tr>\n",
       "  </thead>\n",
       "  <tbody>\n",
       "    <tr>\n",
       "      <th>cvp</th>\n",
       "      <td>2862.000000</td>\n",
       "      <td>1</td>\n",
       "    </tr>\n",
       "    <tr>\n",
       "      <th>fdp</th>\n",
       "      <td>4372.038462</td>\n",
       "      <td>26</td>\n",
       "    </tr>\n",
       "    <tr>\n",
       "      <th>multiple</th>\n",
       "      <td>2878.260870</td>\n",
       "      <td>46</td>\n",
       "    </tr>\n",
       "    <tr>\n",
       "      <th>parteilos</th>\n",
       "      <td>1603.290323</td>\n",
       "      <td>62</td>\n",
       "    </tr>\n",
       "    <tr>\n",
       "      <th>sp</th>\n",
       "      <td>3964.500000</td>\n",
       "      <td>4</td>\n",
       "    </tr>\n",
       "    <tr>\n",
       "      <th>svp</th>\n",
       "      <td>2179.421053</td>\n",
       "      <td>19</td>\n",
       "    </tr>\n",
       "    <tr>\n",
       "      <th>verschiedene</th>\n",
       "      <td>2794.250000</td>\n",
       "      <td>4</td>\n",
       "    </tr>\n",
       "  </tbody>\n",
       "</table>\n",
       "</div>"
      ],
      "text/plain": [
       "              steuerertrag_2019  Gemeinde\n",
       "topparty                                 \n",
       "cvp                 2862.000000         1\n",
       "fdp                 4372.038462        26\n",
       "multiple            2878.260870        46\n",
       "parteilos           1603.290323        62\n",
       "sp                  3964.500000         4\n",
       "svp                 2179.421053        19\n",
       "verschiedene        2794.250000         4"
      ]
     },
     "execution_count": 50,
     "metadata": {},
     "output_type": "execute_result"
    }
   ],
   "source": [
    "g"
   ]
  },
  {
   "cell_type": "markdown",
   "metadata": {},
   "source": [
    "## Wieviel Steuerertrag jede Partei vertritt. 1 Gemeinderat = gesamter Ertrag der Gemeinde"
   ]
  },
  {
   "cell_type": "code",
   "execution_count": 76,
   "metadata": {},
   "outputs": [],
   "source": [
    "parties = ['parteilos', 'fdp', 'evp', 'svp', 'sp', 'cvp', 'glp', 'grüne', 'bdp', 'al', 'edu']\n",
    "\n",
    "# Add Steuern to df\n",
    "df = df_raw.copy()\n",
    "\n",
    "# Add BFS\n",
    "df = cd.add_bfs(df)\n",
    "\n",
    "# Join Steuerdaten\n",
    "df = df.merge(df_steuern, how='left', on='bfs')\n",
    "\n",
    "records = []\n",
    "\n",
    "for p in parties:\n",
    "    x = df[df.partei_c == p].groupby('Gemeinde').agg({'steuerertrag_2019': 'first'})\n",
    "    records.append({'party': p, 'steuerertrag_2019': round(x['steuerertrag_2019'].mean())})\n",
    "    \n",
    "df = pd.DataFrame(records).set_index('party').sort_values('steuerertrag_2019')"
   ]
  },
  {
   "cell_type": "code",
   "execution_count": 77,
   "metadata": {},
   "outputs": [
    {
     "data": {
      "text/plain": [
       "<AxesSubplot:xlabel='party'>"
      ]
     },
     "execution_count": 77,
     "metadata": {},
     "output_type": "execute_result"
    },
    {
     "data": {
      "image/png": "[encoded data removed]",
      "text/plain": [
       "<Figure size 432x288 with 1 Axes>"
      ]
     },
     "metadata": {
      "needs_background": "light"
     },
     "output_type": "display_data"
    }
   ],
   "source": [
    "df.plot.bar()"
   ]
  }
 ],
 "metadata": {
  "kernelspec": {
   "display_name": "gemeinderaete",
   "language": "python",
   "name": "gemeinderaete"
  },
  "language_info": {
   "codemirror_mode": {
    "name": "ipython",
    "version": 3
   },
   "file_extension": ".py",
   "mimetype": "text/x-python",
   "name": "python",
   "nbconvert_exporter": "python",
   "pygments_lexer": "ipython3",
   "version": "3.9.0"
  }
 },
 "nbformat": 4,
 "nbformat_minor": 4
}
